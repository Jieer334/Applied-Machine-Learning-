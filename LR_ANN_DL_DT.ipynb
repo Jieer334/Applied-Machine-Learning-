{
 "cells": [
  {
   "cell_type": "markdown",
   "metadata": {},
   "source": [
    "## Disease Prediction: NBC, KNN, SVM, and Ensemble Learning\n",
    "\n",
    "<b>Problem Set</b>: \n",
    "\n",
    "In this project, naive Bayes classifier, K Nearest Neighbor, Support Vector Machine (with both linear and non-linear kernel functions), Random Forest and Gradient Boosting Classifier are used to build a disease diagnosis model. It is a binary classification problem to predict whether or not a patient has a certain unspecified disease.\n",
    "\n",
    "<b>Dataset</b>: \n",
    "\n",
    "Attributes’ information about the dataset (Disease Prediction Training.csv):\n",
    "- Age: in years\n",
    "- Gender: male/female\n",
    "- Height: in unit of cm\n",
    "- Weight: in unit of kg\n",
    "- Low Blood Pressure: lower bound of blood pressure measurement\n",
    "- High Blood Pressure: higher bound of blood pressure measurement\n",
    "- Cholesterol: three cholesteral levels\n",
    "- Glucose: three glucose levels\n",
    "- Smoke: 1/0 regarding if the patient smokes\n",
    "- Alcohol: 1/0 regarding if the patient drinks alcohol\n",
    "- Exercise: 1/0 regarding if the patient exercises regularly\n",
    "- Disease: The binary target variable. Does the patient have the disease?"
   ]
  },
  {
   "cell_type": "markdown",
   "metadata": {},
   "source": [
    "## Section 0:  Import Libraries and Load Data"
   ]
  },
  {
   "cell_type": "markdown",
   "metadata": {},
   "source": [
    "### Load packages and data"
   ]
  },
  {
   "cell_type": "code",
   "execution_count": 1,
   "metadata": {},
   "outputs": [],
   "source": [
    "# import necessary libraries\n",
    "import pandas as pd\n",
    "from pandas import DataFrame, Series\n",
    "import numpy as np\n",
    "\n",
    "# data formating \n",
    "pd.set_option('display.max_columns',None)\n",
    "pd.set_option('display.max_rows',None)\n",
    "pd.set_option('max_colwidth',100)\n",
    "\n",
    "# data visualization\n",
    "import seaborn as sns\n",
    "import matplotlib.pyplot as plt\n",
    "%matplotlib inline"
   ]
  },
  {
   "cell_type": "code",
   "execution_count": 188,
   "metadata": {},
   "outputs": [],
   "source": [
    "# read libaries for machine learning model \n",
    "from sklearn import metrics\n",
    "from sklearn.metrics import confusion_matrix\n",
    "from sklearn.metrics import classification_report\n",
    "from sklearn.model_selection import train_test_split\n",
    "from sklearn import preprocessing\n",
    "from sklearn.model_selection import GridSearchCV, StratifiedKFold,cross_val_score, ShuffleSplit\n",
    "from sklearn.naive_bayes import GaussianNB, BernoulliNB, MultinomialNB\n",
    "from sklearn.neighbors import KNeighborsClassifier\n",
    "from scipy.spatial.distance import cdist\n",
    "from sklearn.pipeline import make_pipeline\n",
    "from sklearn import model_selection \n",
    "from matplotlib.legend_handler import HandlerLine2D\n",
    "from sklearn.decomposition import PCA\n",
    "from sklearn.svm import SVC\n",
    "from sklearn import svm\n",
    "from sklearn.metrics import roc_curve"
   ]
  },
  {
   "cell_type": "code",
   "execution_count": 632,
   "metadata": {},
   "outputs": [],
   "source": [
    "# read data into a pandas dataframe\n",
    "test_df = pd.read_csv(\"Disease Prediction Testing.csv\",sep=',')\n",
    "train_df = pd.read_csv(\"Disease Prediction Training.csv\",sep=',')"
   ]
  },
  {
   "cell_type": "markdown",
   "metadata": {},
   "source": [
    "### Reading and Displaying Data"
   ]
  },
  {
   "cell_type": "markdown",
   "metadata": {},
   "source": [
    "#### Testing dataset has 21000 rows and 11 columns, aftering seting the ID column as index.\n",
    "- Column Labels: Each column label is unique \n",
    "- Empty Column: All columns are non-null\n",
    "- Type of Values: float64(1), int64(7), object(3)"
   ]
  },
  {
   "cell_type": "code",
   "execution_count": 245,
   "metadata": {},
   "outputs": [
    {
     "data": {
      "text/html": [
       "<div>\n",
       "<style scoped>\n",
       "    .dataframe tbody tr th:only-of-type {\n",
       "        vertical-align: middle;\n",
       "    }\n",
       "\n",
       "    .dataframe tbody tr th {\n",
       "        vertical-align: top;\n",
       "    }\n",
       "\n",
       "    .dataframe thead th {\n",
       "        text-align: right;\n",
       "    }\n",
       "</style>\n",
       "<table border=\"1\" class=\"dataframe\">\n",
       "  <thead>\n",
       "    <tr style=\"text-align: right;\">\n",
       "      <th></th>\n",
       "      <th>Age</th>\n",
       "      <th>Gender</th>\n",
       "      <th>Height</th>\n",
       "      <th>Weight</th>\n",
       "      <th>High Blood Pressure</th>\n",
       "      <th>Low Blood Pressure</th>\n",
       "      <th>Cholesterol</th>\n",
       "      <th>Glucose</th>\n",
       "      <th>Smoke</th>\n",
       "      <th>Alcohol</th>\n",
       "      <th>Exercise</th>\n",
       "    </tr>\n",
       "    <tr>\n",
       "      <th>ID</th>\n",
       "      <th></th>\n",
       "      <th></th>\n",
       "      <th></th>\n",
       "      <th></th>\n",
       "      <th></th>\n",
       "      <th></th>\n",
       "      <th></th>\n",
       "      <th></th>\n",
       "      <th></th>\n",
       "      <th></th>\n",
       "      <th></th>\n",
       "    </tr>\n",
       "  </thead>\n",
       "  <tbody>\n",
       "    <tr>\n",
       "      <th>0</th>\n",
       "      <td>44</td>\n",
       "      <td>female</td>\n",
       "      <td>160</td>\n",
       "      <td>59.0</td>\n",
       "      <td>100</td>\n",
       "      <td>80</td>\n",
       "      <td>high</td>\n",
       "      <td>normal</td>\n",
       "      <td>0</td>\n",
       "      <td>0</td>\n",
       "      <td>1</td>\n",
       "    </tr>\n",
       "    <tr>\n",
       "      <th>1</th>\n",
       "      <td>41</td>\n",
       "      <td>female</td>\n",
       "      <td>169</td>\n",
       "      <td>74.0</td>\n",
       "      <td>120</td>\n",
       "      <td>70</td>\n",
       "      <td>normal</td>\n",
       "      <td>normal</td>\n",
       "      <td>0</td>\n",
       "      <td>0</td>\n",
       "      <td>1</td>\n",
       "    </tr>\n",
       "    <tr>\n",
       "      <th>2</th>\n",
       "      <td>63</td>\n",
       "      <td>male</td>\n",
       "      <td>168</td>\n",
       "      <td>84.0</td>\n",
       "      <td>120</td>\n",
       "      <td>80</td>\n",
       "      <td>normal</td>\n",
       "      <td>high</td>\n",
       "      <td>0</td>\n",
       "      <td>0</td>\n",
       "      <td>1</td>\n",
       "    </tr>\n",
       "  </tbody>\n",
       "</table>\n",
       "</div>"
      ],
      "text/plain": [
       "    Age  Gender  Height  Weight  High Blood Pressure  Low Blood Pressure  \\\n",
       "ID                                                                         \n",
       "0    44  female     160    59.0                  100                  80   \n",
       "1    41  female     169    74.0                  120                  70   \n",
       "2    63    male     168    84.0                  120                  80   \n",
       "\n",
       "   Cholesterol Glucose  Smoke  Alcohol  Exercise  \n",
       "ID                                                \n",
       "0         high  normal      0        0         1  \n",
       "1       normal  normal      0        0         1  \n",
       "2       normal    high      0        0         1  "
      ]
     },
     "execution_count": 245,
     "metadata": {},
     "output_type": "execute_result"
    }
   ],
   "source": [
    "test_df.set_index('ID', inplace=True)\n",
    "test_df.head(3)"
   ]
  },
  {
   "cell_type": "code",
   "execution_count": 246,
   "metadata": {
    "scrolled": true
   },
   "outputs": [
    {
     "name": "stdout",
     "output_type": "stream",
     "text": [
      "<class 'pandas.core.frame.DataFrame'>\n",
      "Int64Index: 21000 entries, 0 to 20999\n",
      "Data columns (total 11 columns):\n",
      " #   Column               Non-Null Count  Dtype  \n",
      "---  ------               --------------  -----  \n",
      " 0   Age                  21000 non-null  int64  \n",
      " 1   Gender               21000 non-null  object \n",
      " 2   Height               21000 non-null  int64  \n",
      " 3   Weight               21000 non-null  float64\n",
      " 4   High Blood Pressure  21000 non-null  int64  \n",
      " 5   Low Blood Pressure   21000 non-null  int64  \n",
      " 6   Cholesterol          21000 non-null  object \n",
      " 7   Glucose              21000 non-null  object \n",
      " 8   Smoke                21000 non-null  int64  \n",
      " 9   Alcohol              21000 non-null  int64  \n",
      " 10  Exercise             21000 non-null  int64  \n",
      "dtypes: float64(1), int64(7), object(3)\n",
      "memory usage: 1.9+ MB\n"
     ]
    }
   ],
   "source": [
    "test_df.info()"
   ]
  },
  {
   "cell_type": "markdown",
   "metadata": {},
   "source": [
    "#### Training Dataset has 49,000 rows and 12 columns.\n",
    "- Column Labels: Each column label is unique \n",
    "- Empty Column: All columns are non-null\n",
    "- Type of Values: float64(1), int64(8), object(3)"
   ]
  },
  {
   "cell_type": "code",
   "execution_count": 6,
   "metadata": {
    "scrolled": false
   },
   "outputs": [
    {
     "data": {
      "text/html": [
       "<div>\n",
       "<style scoped>\n",
       "    .dataframe tbody tr th:only-of-type {\n",
       "        vertical-align: middle;\n",
       "    }\n",
       "\n",
       "    .dataframe tbody tr th {\n",
       "        vertical-align: top;\n",
       "    }\n",
       "\n",
       "    .dataframe thead th {\n",
       "        text-align: right;\n",
       "    }\n",
       "</style>\n",
       "<table border=\"1\" class=\"dataframe\">\n",
       "  <thead>\n",
       "    <tr style=\"text-align: right;\">\n",
       "      <th></th>\n",
       "      <th>Age</th>\n",
       "      <th>Gender</th>\n",
       "      <th>Height</th>\n",
       "      <th>Weight</th>\n",
       "      <th>High Blood Pressure</th>\n",
       "      <th>Low Blood Pressure</th>\n",
       "      <th>Cholesterol</th>\n",
       "      <th>Glucose</th>\n",
       "      <th>Smoke</th>\n",
       "      <th>Alcohol</th>\n",
       "      <th>Exercise</th>\n",
       "      <th>Disease</th>\n",
       "    </tr>\n",
       "  </thead>\n",
       "  <tbody>\n",
       "    <tr>\n",
       "      <th>0</th>\n",
       "      <td>59</td>\n",
       "      <td>female</td>\n",
       "      <td>167</td>\n",
       "      <td>88.0</td>\n",
       "      <td>130</td>\n",
       "      <td>68</td>\n",
       "      <td>normal</td>\n",
       "      <td>normal</td>\n",
       "      <td>0</td>\n",
       "      <td>0</td>\n",
       "      <td>1</td>\n",
       "      <td>0</td>\n",
       "    </tr>\n",
       "    <tr>\n",
       "      <th>1</th>\n",
       "      <td>64</td>\n",
       "      <td>female</td>\n",
       "      <td>150</td>\n",
       "      <td>71.0</td>\n",
       "      <td>140</td>\n",
       "      <td>100</td>\n",
       "      <td>normal</td>\n",
       "      <td>normal</td>\n",
       "      <td>0</td>\n",
       "      <td>0</td>\n",
       "      <td>0</td>\n",
       "      <td>1</td>\n",
       "    </tr>\n",
       "    <tr>\n",
       "      <th>2</th>\n",
       "      <td>41</td>\n",
       "      <td>female</td>\n",
       "      <td>166</td>\n",
       "      <td>83.0</td>\n",
       "      <td>100</td>\n",
       "      <td>70</td>\n",
       "      <td>normal</td>\n",
       "      <td>normal</td>\n",
       "      <td>0</td>\n",
       "      <td>1</td>\n",
       "      <td>1</td>\n",
       "      <td>0</td>\n",
       "    </tr>\n",
       "  </tbody>\n",
       "</table>\n",
       "</div>"
      ],
      "text/plain": [
       "   Age  Gender  Height  Weight  High Blood Pressure  Low Blood Pressure  \\\n",
       "0   59  female     167    88.0                  130                  68   \n",
       "1   64  female     150    71.0                  140                 100   \n",
       "2   41  female     166    83.0                  100                  70   \n",
       "\n",
       "  Cholesterol Glucose  Smoke  Alcohol  Exercise  Disease  \n",
       "0      normal  normal      0        0         1        0  \n",
       "1      normal  normal      0        0         0        1  \n",
       "2      normal  normal      0        1         1        0  "
      ]
     },
     "execution_count": 6,
     "metadata": {},
     "output_type": "execute_result"
    }
   ],
   "source": [
    "train_df.head(3)"
   ]
  },
  {
   "cell_type": "code",
   "execution_count": 7,
   "metadata": {
    "scrolled": true
   },
   "outputs": [
    {
     "name": "stdout",
     "output_type": "stream",
     "text": [
      "<class 'pandas.core.frame.DataFrame'>\n",
      "RangeIndex: 49000 entries, 0 to 48999\n",
      "Data columns (total 12 columns):\n",
      " #   Column               Non-Null Count  Dtype  \n",
      "---  ------               --------------  -----  \n",
      " 0   Age                  49000 non-null  int64  \n",
      " 1   Gender               49000 non-null  object \n",
      " 2   Height               49000 non-null  int64  \n",
      " 3   Weight               49000 non-null  float64\n",
      " 4   High Blood Pressure  49000 non-null  int64  \n",
      " 5   Low Blood Pressure   49000 non-null  int64  \n",
      " 6   Cholesterol          49000 non-null  object \n",
      " 7   Glucose              49000 non-null  object \n",
      " 8   Smoke                49000 non-null  int64  \n",
      " 9   Alcohol              49000 non-null  int64  \n",
      " 10  Exercise             49000 non-null  int64  \n",
      " 11  Disease              49000 non-null  int64  \n",
      "dtypes: float64(1), int64(8), object(3)\n",
      "memory usage: 4.5+ MB\n"
     ]
    }
   ],
   "source": [
    "train_df.info()"
   ]
  },
  {
   "cell_type": "markdown",
   "metadata": {},
   "source": [
    "## Section1: Data Preparation"
   ]
  },
  {
   "cell_type": "markdown",
   "metadata": {},
   "source": [
    "### 1.1 Derive Descriptive Statistics"
   ]
  },
  {
   "cell_type": "markdown",
   "metadata": {},
   "source": [
    "#### 1.1.1 Distribution of Numeric Variables \n",
    "- **The type of variables we have:** Age is a discrete numeric varaible. Height, Weight, High Blood Pressure, and Low Blood Pressure are continous numeric variables. The last four variables - Smoke, Alcohol, Exercise, and Disease have binary values.\n",
    "- **We have a balanced Dataset:** According to the distribution of the target variable \"Disease\", the number of cases of with disease and without disease are roughtly the same.\n",
    "- **Problem1**: Here we notice that blood pressure has negative values, indicating that there are error data in the High Blood Pressure column.\n",
    "- **Problem2**: The naming of \"High Blood Pressure\" and \"Low Blood Pressure\" have spaces."
   ]
  },
  {
   "cell_type": "code",
   "execution_count": 8,
   "metadata": {
    "scrolled": true
   },
   "outputs": [
    {
     "data": {
      "text/html": [
       "<div>\n",
       "<style scoped>\n",
       "    .dataframe tbody tr th:only-of-type {\n",
       "        vertical-align: middle;\n",
       "    }\n",
       "\n",
       "    .dataframe tbody tr th {\n",
       "        vertical-align: top;\n",
       "    }\n",
       "\n",
       "    .dataframe thead th {\n",
       "        text-align: right;\n",
       "    }\n",
       "</style>\n",
       "<table border=\"1\" class=\"dataframe\">\n",
       "  <thead>\n",
       "    <tr style=\"text-align: right;\">\n",
       "      <th></th>\n",
       "      <th>count</th>\n",
       "      <th>mean</th>\n",
       "      <th>std</th>\n",
       "      <th>min</th>\n",
       "      <th>25%</th>\n",
       "      <th>50%</th>\n",
       "      <th>75%</th>\n",
       "      <th>max</th>\n",
       "    </tr>\n",
       "  </thead>\n",
       "  <tbody>\n",
       "    <tr>\n",
       "      <th>Age</th>\n",
       "      <td>49000.0</td>\n",
       "      <td>52.853306</td>\n",
       "      <td>6.763065</td>\n",
       "      <td>29.0</td>\n",
       "      <td>48.0</td>\n",
       "      <td>53.0</td>\n",
       "      <td>58.0</td>\n",
       "      <td>64.0</td>\n",
       "    </tr>\n",
       "    <tr>\n",
       "      <th>Height</th>\n",
       "      <td>49000.0</td>\n",
       "      <td>164.366878</td>\n",
       "      <td>8.216637</td>\n",
       "      <td>55.0</td>\n",
       "      <td>159.0</td>\n",
       "      <td>165.0</td>\n",
       "      <td>170.0</td>\n",
       "      <td>207.0</td>\n",
       "    </tr>\n",
       "    <tr>\n",
       "      <th>Weight</th>\n",
       "      <td>49000.0</td>\n",
       "      <td>74.190527</td>\n",
       "      <td>14.329934</td>\n",
       "      <td>10.0</td>\n",
       "      <td>65.0</td>\n",
       "      <td>72.0</td>\n",
       "      <td>82.0</td>\n",
       "      <td>200.0</td>\n",
       "    </tr>\n",
       "    <tr>\n",
       "      <th>High Blood Pressure</th>\n",
       "      <td>49000.0</td>\n",
       "      <td>128.698939</td>\n",
       "      <td>147.624582</td>\n",
       "      <td>-150.0</td>\n",
       "      <td>120.0</td>\n",
       "      <td>120.0</td>\n",
       "      <td>140.0</td>\n",
       "      <td>14020.0</td>\n",
       "    </tr>\n",
       "    <tr>\n",
       "      <th>Low Blood Pressure</th>\n",
       "      <td>49000.0</td>\n",
       "      <td>96.917367</td>\n",
       "      <td>200.368069</td>\n",
       "      <td>0.0</td>\n",
       "      <td>80.0</td>\n",
       "      <td>80.0</td>\n",
       "      <td>90.0</td>\n",
       "      <td>11000.0</td>\n",
       "    </tr>\n",
       "    <tr>\n",
       "      <th>Smoke</th>\n",
       "      <td>49000.0</td>\n",
       "      <td>0.088265</td>\n",
       "      <td>0.283683</td>\n",
       "      <td>0.0</td>\n",
       "      <td>0.0</td>\n",
       "      <td>0.0</td>\n",
       "      <td>0.0</td>\n",
       "      <td>1.0</td>\n",
       "    </tr>\n",
       "    <tr>\n",
       "      <th>Alcohol</th>\n",
       "      <td>49000.0</td>\n",
       "      <td>0.054245</td>\n",
       "      <td>0.226503</td>\n",
       "      <td>0.0</td>\n",
       "      <td>0.0</td>\n",
       "      <td>0.0</td>\n",
       "      <td>0.0</td>\n",
       "      <td>1.0</td>\n",
       "    </tr>\n",
       "    <tr>\n",
       "      <th>Exercise</th>\n",
       "      <td>49000.0</td>\n",
       "      <td>0.803204</td>\n",
       "      <td>0.397581</td>\n",
       "      <td>0.0</td>\n",
       "      <td>1.0</td>\n",
       "      <td>1.0</td>\n",
       "      <td>1.0</td>\n",
       "      <td>1.0</td>\n",
       "    </tr>\n",
       "    <tr>\n",
       "      <th>Disease</th>\n",
       "      <td>49000.0</td>\n",
       "      <td>0.499959</td>\n",
       "      <td>0.500005</td>\n",
       "      <td>0.0</td>\n",
       "      <td>0.0</td>\n",
       "      <td>0.0</td>\n",
       "      <td>1.0</td>\n",
       "      <td>1.0</td>\n",
       "    </tr>\n",
       "  </tbody>\n",
       "</table>\n",
       "</div>"
      ],
      "text/plain": [
       "                       count        mean         std    min    25%    50%  \\\n",
       "Age                  49000.0   52.853306    6.763065   29.0   48.0   53.0   \n",
       "Height               49000.0  164.366878    8.216637   55.0  159.0  165.0   \n",
       "Weight               49000.0   74.190527   14.329934   10.0   65.0   72.0   \n",
       "High Blood Pressure  49000.0  128.698939  147.624582 -150.0  120.0  120.0   \n",
       "Low Blood Pressure   49000.0   96.917367  200.368069    0.0   80.0   80.0   \n",
       "Smoke                49000.0    0.088265    0.283683    0.0    0.0    0.0   \n",
       "Alcohol              49000.0    0.054245    0.226503    0.0    0.0    0.0   \n",
       "Exercise             49000.0    0.803204    0.397581    0.0    1.0    1.0   \n",
       "Disease              49000.0    0.499959    0.500005    0.0    0.0    0.0   \n",
       "\n",
       "                       75%      max  \n",
       "Age                   58.0     64.0  \n",
       "Height               170.0    207.0  \n",
       "Weight                82.0    200.0  \n",
       "High Blood Pressure  140.0  14020.0  \n",
       "Low Blood Pressure    90.0  11000.0  \n",
       "Smoke                  0.0      1.0  \n",
       "Alcohol                0.0      1.0  \n",
       "Exercise               1.0      1.0  \n",
       "Disease                1.0      1.0  "
      ]
     },
     "execution_count": 8,
     "metadata": {},
     "output_type": "execute_result"
    }
   ],
   "source": [
    "train_df.describe().T"
   ]
  },
  {
   "cell_type": "markdown",
   "metadata": {},
   "source": [
    "#### We have a balance dataset."
   ]
  },
  {
   "cell_type": "code",
   "execution_count": 636,
   "metadata": {},
   "outputs": [
    {
     "name": "stdout",
     "output_type": "stream",
     "text": [
      "0    0.500041\n",
      "1    0.499959\n",
      "Name: Disease, dtype: float64\n"
     ]
    }
   ],
   "source": [
    "# target variable\n",
    "print(train_df['Disease'].value_counts(normalize=True, dropna=False))"
   ]
  },
  {
   "cell_type": "code",
   "execution_count": 247,
   "metadata": {},
   "outputs": [],
   "source": [
    "# Find all numeric columns \n",
    "numeric_cols = train_df.select_dtypes([np.number]).columns"
   ]
  },
  {
   "cell_type": "code",
   "execution_count": 155,
   "metadata": {
    "scrolled": true
   },
   "outputs": [
    {
     "data": {
      "image/png": "[encoded data removed]",
      "text/plain": [
       "<Figure size 1080x1440 with 9 Axes>"
      ]
     },
     "metadata": {
      "needs_background": "light"
     },
     "output_type": "display_data"
    }
   ],
   "source": [
    "# create histograms\n",
    "train_df[numeric_cols].hist(figsize=(15,20));"
   ]
  },
  {
   "cell_type": "markdown",
   "metadata": {},
   "source": [
    "#### 1.1.2 Distribution of Categorical Variables\n",
    "- Our 3 categorical variables - Gender, Cholesterol, and Glucose don't have 2, 3, and 3 unique values respectively.\n",
    "- Given the small number of unqie values, we can later apply one-hot encoding to transform them from categorical variables to numeric variables. "
   ]
  },
  {
   "cell_type": "code",
   "execution_count": 248,
   "metadata": {
    "scrolled": true
   },
   "outputs": [
    {
     "data": {
      "text/html": [
       "<div>\n",
       "<style scoped>\n",
       "    .dataframe tbody tr th:only-of-type {\n",
       "        vertical-align: middle;\n",
       "    }\n",
       "\n",
       "    .dataframe tbody tr th {\n",
       "        vertical-align: top;\n",
       "    }\n",
       "\n",
       "    .dataframe thead th {\n",
       "        text-align: right;\n",
       "    }\n",
       "</style>\n",
       "<table border=\"1\" class=\"dataframe\">\n",
       "  <thead>\n",
       "    <tr style=\"text-align: right;\">\n",
       "      <th></th>\n",
       "      <th>count</th>\n",
       "      <th>unique</th>\n",
       "      <th>top</th>\n",
       "      <th>freq</th>\n",
       "    </tr>\n",
       "  </thead>\n",
       "  <tbody>\n",
       "    <tr>\n",
       "      <th>Gender</th>\n",
       "      <td>49000</td>\n",
       "      <td>2</td>\n",
       "      <td>female</td>\n",
       "      <td>31863</td>\n",
       "    </tr>\n",
       "    <tr>\n",
       "      <th>Cholesterol</th>\n",
       "      <td>49000</td>\n",
       "      <td>3</td>\n",
       "      <td>normal</td>\n",
       "      <td>36676</td>\n",
       "    </tr>\n",
       "    <tr>\n",
       "      <th>Glucose</th>\n",
       "      <td>49000</td>\n",
       "      <td>3</td>\n",
       "      <td>normal</td>\n",
       "      <td>41652</td>\n",
       "    </tr>\n",
       "  </tbody>\n",
       "</table>\n",
       "</div>"
      ],
      "text/plain": [
       "             count unique     top   freq\n",
       "Gender       49000      2  female  31863\n",
       "Cholesterol  49000      3  normal  36676\n",
       "Glucose      49000      3  normal  41652"
      ]
     },
     "execution_count": 248,
     "metadata": {},
     "output_type": "execute_result"
    }
   ],
   "source": [
    "col_obj=[x for x in train_df.columns.to_list() if str(train_df[x].dtype) == 'object']\n",
    "train_df[col_obj].describe().T"
   ]
  },
  {
   "cell_type": "code",
   "execution_count": 633,
   "metadata": {},
   "outputs": [
    {
     "name": "stdout",
     "output_type": "stream",
     "text": [
      "female    0.650265\n",
      "male      0.349735\n",
      "Name: Gender, dtype: float64\n"
     ]
    }
   ],
   "source": [
    "print(train_df['Gender'].value_counts(normalize=True, dropna=False))"
   ]
  },
  {
   "cell_type": "code",
   "execution_count": 634,
   "metadata": {},
   "outputs": [
    {
     "name": "stdout",
     "output_type": "stream",
     "text": [
      "normal      0.748490\n",
      "high        0.136837\n",
      "too high    0.114673\n",
      "Name: Cholesterol, dtype: float64\n"
     ]
    }
   ],
   "source": [
    "print(train_df['Cholesterol'].value_counts(normalize=True, dropna=False))"
   ]
  },
  {
   "cell_type": "code",
   "execution_count": 635,
   "metadata": {},
   "outputs": [
    {
     "name": "stdout",
     "output_type": "stream",
     "text": [
      "normal      0.850041\n",
      "too high    0.075939\n",
      "high        0.074020\n",
      "Name: Glucose, dtype: float64\n"
     ]
    }
   ],
   "source": [
    "print(train_df['Glucose'].value_counts(normalize=True, dropna=False))"
   ]
  },
  {
   "cell_type": "markdown",
   "metadata": {},
   "source": [
    "### 1.2 Potential Data Issues "
   ]
  },
  {
   "cell_type": "markdown",
   "metadata": {},
   "source": [
    "#### 1.2.1 Column names\n",
    "- According to python's naming covention, column names with spaces is recommended be changed. \n",
    "- Replace the spaces in \"High Blood Pressure\" and \"Low Blood Pressure\" with \"_\"."
   ]
  },
  {
   "cell_type": "code",
   "execution_count": 616,
   "metadata": {},
   "outputs": [],
   "source": [
    "# rename the high and low blood pressure column \n",
    "train_df.rename(columns={'High Blood Pressure':'High_Blood_Pressure',\n",
    "                         'Low Blood Pressure':'Low_Blood_Pressure'},inplace=True)"
   ]
  },
  {
   "cell_type": "code",
   "execution_count": 160,
   "metadata": {
    "scrolled": true
   },
   "outputs": [
    {
     "data": {
      "text/html": [
       "<div>\n",
       "<style scoped>\n",
       "    .dataframe tbody tr th:only-of-type {\n",
       "        vertical-align: middle;\n",
       "    }\n",
       "\n",
       "    .dataframe tbody tr th {\n",
       "        vertical-align: top;\n",
       "    }\n",
       "\n",
       "    .dataframe thead th {\n",
       "        text-align: right;\n",
       "    }\n",
       "</style>\n",
       "<table border=\"1\" class=\"dataframe\">\n",
       "  <thead>\n",
       "    <tr style=\"text-align: right;\">\n",
       "      <th></th>\n",
       "      <th>Age</th>\n",
       "      <th>Gender</th>\n",
       "      <th>Height</th>\n",
       "      <th>Weight</th>\n",
       "      <th>High_Blood_Pressure</th>\n",
       "      <th>Low_Blood_Pressure</th>\n",
       "      <th>Cholesterol</th>\n",
       "      <th>Glucose</th>\n",
       "      <th>Smoke</th>\n",
       "      <th>Alcohol</th>\n",
       "      <th>Exercise</th>\n",
       "      <th>Disease</th>\n",
       "    </tr>\n",
       "  </thead>\n",
       "  <tbody>\n",
       "    <tr>\n",
       "      <th>0</th>\n",
       "      <td>59</td>\n",
       "      <td>female</td>\n",
       "      <td>167</td>\n",
       "      <td>88.0</td>\n",
       "      <td>130</td>\n",
       "      <td>68</td>\n",
       "      <td>normal</td>\n",
       "      <td>normal</td>\n",
       "      <td>0</td>\n",
       "      <td>0</td>\n",
       "      <td>1</td>\n",
       "      <td>0</td>\n",
       "    </tr>\n",
       "    <tr>\n",
       "      <th>1</th>\n",
       "      <td>64</td>\n",
       "      <td>female</td>\n",
       "      <td>150</td>\n",
       "      <td>71.0</td>\n",
       "      <td>140</td>\n",
       "      <td>100</td>\n",
       "      <td>normal</td>\n",
       "      <td>normal</td>\n",
       "      <td>0</td>\n",
       "      <td>0</td>\n",
       "      <td>0</td>\n",
       "      <td>1</td>\n",
       "    </tr>\n",
       "    <tr>\n",
       "      <th>2</th>\n",
       "      <td>41</td>\n",
       "      <td>female</td>\n",
       "      <td>166</td>\n",
       "      <td>83.0</td>\n",
       "      <td>100</td>\n",
       "      <td>70</td>\n",
       "      <td>normal</td>\n",
       "      <td>normal</td>\n",
       "      <td>0</td>\n",
       "      <td>1</td>\n",
       "      <td>1</td>\n",
       "      <td>0</td>\n",
       "    </tr>\n",
       "  </tbody>\n",
       "</table>\n",
       "</div>"
      ],
      "text/plain": [
       "   Age  Gender  Height  Weight  High_Blood_Pressure  Low_Blood_Pressure  \\\n",
       "0   59  female     167    88.0                  130                  68   \n",
       "1   64  female     150    71.0                  140                 100   \n",
       "2   41  female     166    83.0                  100                  70   \n",
       "\n",
       "  Cholesterol Glucose  Smoke  Alcohol  Exercise  Disease  \n",
       "0      normal  normal      0        0         1        0  \n",
       "1      normal  normal      0        0         0        1  \n",
       "2      normal  normal      0        1         1        0  "
      ]
     },
     "execution_count": 160,
     "metadata": {},
     "output_type": "execute_result"
    }
   ],
   "source": [
    "train_df.head(3)"
   ]
  },
  {
   "cell_type": "markdown",
   "metadata": {},
   "source": [
    "#### 1.2.2 Missing Values\n",
    "- No missing values are found."
   ]
  },
  {
   "cell_type": "code",
   "execution_count": 161,
   "metadata": {
    "scrolled": false
   },
   "outputs": [
    {
     "data": {
      "text/plain": [
       "Age                    0\n",
       "Gender                 0\n",
       "Height                 0\n",
       "Weight                 0\n",
       "High_Blood_Pressure    0\n",
       "Low_Blood_Pressure     0\n",
       "Cholesterol            0\n",
       "Glucose                0\n",
       "Smoke                  0\n",
       "Alcohol                0\n",
       "Exercise               0\n",
       "Disease                0\n",
       "dtype: int64"
      ]
     },
     "execution_count": 161,
     "metadata": {},
     "output_type": "execute_result"
    }
   ],
   "source": [
    "train_df.isnull().sum(axis=0)"
   ]
  },
  {
   "cell_type": "markdown",
   "metadata": {},
   "source": [
    "#### 1.2.3 Duplicates\n",
    "- We delete duplicates becuase they don't provide us addtional information."
   ]
  },
  {
   "cell_type": "code",
   "execution_count": 617,
   "metadata": {},
   "outputs": [
    {
     "name": "stdout",
     "output_type": "stream",
     "text": [
      "There are duplicates rows in the dataset.\n"
     ]
    }
   ],
   "source": [
    "if train_df.duplicated().sum()==0:\n",
    "    print('No duplicated rows')\n",
    "else:\n",
    "    print('There are duplicates rows in the dataset.')"
   ]
  },
  {
   "cell_type": "code",
   "execution_count": 618,
   "metadata": {},
   "outputs": [
    {
     "name": "stdout",
     "output_type": "stream",
     "text": [
      "Number of rows after removing duplicates: 47248\n"
     ]
    }
   ],
   "source": [
    "train_df.drop_duplicates(inplace=True)\n",
    "print(\"Number of rows after removing duplicates:\", train_df.shape[0])"
   ]
  },
  {
   "cell_type": "code",
   "execution_count": 619,
   "metadata": {},
   "outputs": [
    {
     "name": "stdout",
     "output_type": "stream",
     "text": [
      "Number of duplicate rows removed: 1752\n"
     ]
    }
   ],
   "source": [
    "print(\"Number of duplicate rows removed:\", 49000-train_df.shape[0])"
   ]
  },
  {
   "cell_type": "markdown",
   "metadata": {},
   "source": [
    "#### 1.2.3 Data Outliers\n",
    "- **Do we have outliers?** \n",
    "    - Columm High_Blood_Pressure and Low_Blood Pressure have siginificant number of outliers. \n",
    "- **Why do we need to take care of outliers here?** \n",
    "    - **Naive Bayes Algorthm:** Although Naive Bayes Algorthm is robust to noise and irrelevant attributes, in Gaussian Naive Bayes, outliers will affect the shape of the Gaussian distribution and have the usual effects on the mean etc. \n",
    "    - **KNN algorithm:** Classification accuracy of the KNN algorithm is found to be adversely affected by the presence of outliers in the experimental datasets. An outlier score based on rank difference can be assigned to the points in these datasets by taking into consideration the distance and density of their local neighborhood points.\n",
    "    - **Support Vector Machine:** Generally, SVM is not very robust to outliers. Presence of a few outliers can lead to very bad global misclassification.\n",
    "    - **Random Forest**: Outliers might affect the performance of random forest in two ways. 1. Whenever a decision tree is constructed, all of the points must be classified. This means that even outliers will get classified, and hence will affect the decision trees where they were selected during boosting. 2. Bootstrapping is a part of how a RandomForest does sub-sampling. Bootstrapping is susceptible to outliers.\n",
    "    - ** Gradient Boosting**: Outliers can be bad for boosting because boosting builds each tree on previous trees' residuals/errors. Outliers will have much larger residuals than non-outliers, so gradient boosting will focus a disproportionate amount of its attention on those points.\n",
    "- **To sum up, it makes sense to remove the outliers in this dataset.**"
   ]
  },
  {
   "cell_type": "code",
   "execution_count": 251,
   "metadata": {},
   "outputs": [],
   "source": [
    "numeric_cols = train_df.select_dtypes([np.number]).columns"
   ]
  },
  {
   "cell_type": "code",
   "execution_count": 166,
   "metadata": {
    "scrolled": true
   },
   "outputs": [
    {
     "data": {
      "image/png": "[encoded data removed]",
      "text/plain": [
       "<Figure size 1080x1440 with 1 Axes>"
      ]
     },
     "metadata": {
      "needs_background": "light"
     },
     "output_type": "display_data"
    }
   ],
   "source": [
    "train_df[numeric_cols].boxplot(figsize=(15,20));"
   ]
  },
  {
   "cell_type": "code",
   "execution_count": 620,
   "metadata": {
    "scrolled": true
   },
   "outputs": [
    {
     "name": "stderr",
     "output_type": "stream",
     "text": [
      "/Users/jieerchen/opt/anaconda3/lib/python3.7/site-packages/pandas/core/indexing.py:671: SettingWithCopyWarning:\n",
      "\n",
      "\n",
      "A value is trying to be set on a copy of a slice from a DataFrame\n",
      "\n",
      "See the caveats in the documentation: https://pandas.pydata.org/pandas-docs/stable/user_guide/indexing.html#returning-a-view-versus-a-copy\n",
      "\n"
     ]
    }
   ],
   "source": [
    "outliers_cols = ['Age','Height','Weight','High_Blood_Pressure','Low_Blood_Pressure']\n",
    "for target_col in outliers_cols:\n",
    "    '''\n",
    "    For each numeric column, we use IQR method to identify outliers.\n",
    "    Column values higher than the upper bound are set to upper bound values.\n",
    "    Column values lower thatn the lower bound value are set to lower bound values.\n",
    "    \n",
    "    '''\n",
    "    lower_quartile = train_df[target_col].quantile(0.25)\n",
    "    upper_quartile = train_df[target_col].quantile(0.75)\n",
    "    IQR = upper_quartile - lower_quartile\n",
    "    outlier_thresh = 1.5 * IQR\n",
    "    # get upper/lower bound\n",
    "    upper_bound = lower_quartile + outlier_thresh\n",
    "    lower_bound = lower_quartile - outlier_thresh\n",
    "    # winsorization\n",
    "    train_df[target_col].loc[train_df[target_col] > upper_bound] = upper_bound\n",
    "    train_df[target_col].loc[train_df[target_col] < lower_bound] = lower_bound"
   ]
  },
  {
   "cell_type": "markdown",
   "metadata": {},
   "source": [
    "#### Data Distribution After Altering Outliers"
   ]
  },
  {
   "cell_type": "code",
   "execution_count": 253,
   "metadata": {
    "scrolled": true
   },
   "outputs": [
    {
     "data": {
      "image/png": "[encoded data removed]",
      "text/plain": [
       "<Figure size 1080x1440 with 1 Axes>"
      ]
     },
     "metadata": {
      "needs_background": "light"
     },
     "output_type": "display_data"
    }
   ],
   "source": [
    "train_df[numeric_cols].boxplot(figsize=(15,20));"
   ]
  },
  {
   "cell_type": "markdown",
   "metadata": {},
   "source": [
    "#### 1.2.4 Error Data: negative values in High Blood Pressure Column \n",
    "- Based on medical knowledge, blood pressure shouldn't have negative values.\n",
    "- Previously we have 7 rows of negative blood pressure. \n",
    "- After taking care of the outliers, we now have no negative blood pressure values."
   ]
  },
  {
   "cell_type": "code",
   "execution_count": 23,
   "metadata": {
    "scrolled": true
   },
   "outputs": [
    {
     "name": "stdout",
     "output_type": "stream",
     "text": [
      "Number of negatives values in High Blood Pressure Column: 0\n"
     ]
    }
   ],
   "source": [
    "# number of rows with negative values \n",
    "negative_values = sum( n <0 for n in train_df['High_Blood_Pressure'].values.flatten())\n",
    "print(\"Number of negatives values in High Blood Pressure Column:\", negative_values)"
   ]
  },
  {
   "cell_type": "markdown",
   "metadata": {},
   "source": [
    "### 1.4 Data pre-processing and selection"
   ]
  },
  {
   "cell_type": "markdown",
   "metadata": {},
   "source": [
    "#### 1.4.1 Feture Encoding "
   ]
  },
  {
   "cell_type": "markdown",
   "metadata": {},
   "source": [
    "**Categorical Variable Gender**\n",
    "    - Male:35%, Female: 65%\n",
    "    - Male --> 0, Female --> 1"
   ]
  },
  {
   "cell_type": "code",
   "execution_count": 621,
   "metadata": {
    "scrolled": false
   },
   "outputs": [
    {
     "data": {
      "text/html": [
       "<div>\n",
       "<style scoped>\n",
       "    .dataframe tbody tr th:only-of-type {\n",
       "        vertical-align: middle;\n",
       "    }\n",
       "\n",
       "    .dataframe tbody tr th {\n",
       "        vertical-align: top;\n",
       "    }\n",
       "\n",
       "    .dataframe thead th {\n",
       "        text-align: right;\n",
       "    }\n",
       "</style>\n",
       "<table border=\"1\" class=\"dataframe\">\n",
       "  <thead>\n",
       "    <tr style=\"text-align: right;\">\n",
       "      <th></th>\n",
       "      <th>Age</th>\n",
       "      <th>Gender</th>\n",
       "      <th>Height</th>\n",
       "      <th>Weight</th>\n",
       "      <th>High_Blood_Pressure</th>\n",
       "      <th>Low_Blood_Pressure</th>\n",
       "      <th>Cholesterol</th>\n",
       "      <th>Glucose</th>\n",
       "      <th>Smoke</th>\n",
       "      <th>Alcohol</th>\n",
       "      <th>Exercise</th>\n",
       "      <th>Disease</th>\n",
       "    </tr>\n",
       "  </thead>\n",
       "  <tbody>\n",
       "    <tr>\n",
       "      <th>0</th>\n",
       "      <td>59.0</td>\n",
       "      <td>1</td>\n",
       "      <td>167.0</td>\n",
       "      <td>88.0</td>\n",
       "      <td>130.0</td>\n",
       "      <td>68.0</td>\n",
       "      <td>normal</td>\n",
       "      <td>normal</td>\n",
       "      <td>0</td>\n",
       "      <td>0</td>\n",
       "      <td>1</td>\n",
       "      <td>0</td>\n",
       "    </tr>\n",
       "    <tr>\n",
       "      <th>1</th>\n",
       "      <td>63.0</td>\n",
       "      <td>1</td>\n",
       "      <td>150.0</td>\n",
       "      <td>71.0</td>\n",
       "      <td>140.0</td>\n",
       "      <td>95.0</td>\n",
       "      <td>normal</td>\n",
       "      <td>normal</td>\n",
       "      <td>0</td>\n",
       "      <td>0</td>\n",
       "      <td>0</td>\n",
       "      <td>1</td>\n",
       "    </tr>\n",
       "    <tr>\n",
       "      <th>2</th>\n",
       "      <td>41.0</td>\n",
       "      <td>1</td>\n",
       "      <td>166.0</td>\n",
       "      <td>83.0</td>\n",
       "      <td>100.0</td>\n",
       "      <td>70.0</td>\n",
       "      <td>normal</td>\n",
       "      <td>normal</td>\n",
       "      <td>0</td>\n",
       "      <td>1</td>\n",
       "      <td>1</td>\n",
       "      <td>0</td>\n",
       "    </tr>\n",
       "  </tbody>\n",
       "</table>\n",
       "</div>"
      ],
      "text/plain": [
       "    Age  Gender  Height  Weight  High_Blood_Pressure  Low_Blood_Pressure  \\\n",
       "0  59.0       1   167.0    88.0                130.0                68.0   \n",
       "1  63.0       1   150.0    71.0                140.0                95.0   \n",
       "2  41.0       1   166.0    83.0                100.0                70.0   \n",
       "\n",
       "  Cholesterol Glucose  Smoke  Alcohol  Exercise  Disease  \n",
       "0      normal  normal      0        0         1        0  \n",
       "1      normal  normal      0        0         0        1  \n",
       "2      normal  normal      0        1         1        0  "
      ]
     },
     "execution_count": 621,
     "metadata": {},
     "output_type": "execute_result"
    }
   ],
   "source": [
    "# Gender: male & female \n",
    "train_df['Gender'] = train_df['Gender'].map({'male': 0, 'female': 1})\n",
    "train_df.head(3)"
   ]
  },
  {
   "cell_type": "markdown",
   "metadata": {},
   "source": [
    "**Categorical Variable Cholesterol**\n",
    "- normal: 74.8%, high:13.7%, too high: 11.5%"
   ]
  },
  {
   "cell_type": "code",
   "execution_count": 622,
   "metadata": {},
   "outputs": [
    {
     "data": {
      "text/html": [
       "<div>\n",
       "<style scoped>\n",
       "    .dataframe tbody tr th:only-of-type {\n",
       "        vertical-align: middle;\n",
       "    }\n",
       "\n",
       "    .dataframe tbody tr th {\n",
       "        vertical-align: top;\n",
       "    }\n",
       "\n",
       "    .dataframe thead th {\n",
       "        text-align: right;\n",
       "    }\n",
       "</style>\n",
       "<table border=\"1\" class=\"dataframe\">\n",
       "  <thead>\n",
       "    <tr style=\"text-align: right;\">\n",
       "      <th></th>\n",
       "      <th>Age</th>\n",
       "      <th>Gender</th>\n",
       "      <th>Height</th>\n",
       "      <th>Weight</th>\n",
       "      <th>High_Blood_Pressure</th>\n",
       "      <th>Low_Blood_Pressure</th>\n",
       "      <th>Glucose</th>\n",
       "      <th>Smoke</th>\n",
       "      <th>Alcohol</th>\n",
       "      <th>Exercise</th>\n",
       "      <th>Disease</th>\n",
       "      <th>Cholesterol_high</th>\n",
       "      <th>Cholesterol_normal</th>\n",
       "      <th>Cholesterol_too high</th>\n",
       "    </tr>\n",
       "  </thead>\n",
       "  <tbody>\n",
       "    <tr>\n",
       "      <th>0</th>\n",
       "      <td>59.0</td>\n",
       "      <td>1</td>\n",
       "      <td>167.0</td>\n",
       "      <td>88.0</td>\n",
       "      <td>130.0</td>\n",
       "      <td>68.0</td>\n",
       "      <td>normal</td>\n",
       "      <td>0</td>\n",
       "      <td>0</td>\n",
       "      <td>1</td>\n",
       "      <td>0</td>\n",
       "      <td>0</td>\n",
       "      <td>1</td>\n",
       "      <td>0</td>\n",
       "    </tr>\n",
       "    <tr>\n",
       "      <th>1</th>\n",
       "      <td>63.0</td>\n",
       "      <td>1</td>\n",
       "      <td>150.0</td>\n",
       "      <td>71.0</td>\n",
       "      <td>140.0</td>\n",
       "      <td>95.0</td>\n",
       "      <td>normal</td>\n",
       "      <td>0</td>\n",
       "      <td>0</td>\n",
       "      <td>0</td>\n",
       "      <td>1</td>\n",
       "      <td>0</td>\n",
       "      <td>1</td>\n",
       "      <td>0</td>\n",
       "    </tr>\n",
       "    <tr>\n",
       "      <th>2</th>\n",
       "      <td>41.0</td>\n",
       "      <td>1</td>\n",
       "      <td>166.0</td>\n",
       "      <td>83.0</td>\n",
       "      <td>100.0</td>\n",
       "      <td>70.0</td>\n",
       "      <td>normal</td>\n",
       "      <td>0</td>\n",
       "      <td>1</td>\n",
       "      <td>1</td>\n",
       "      <td>0</td>\n",
       "      <td>0</td>\n",
       "      <td>1</td>\n",
       "      <td>0</td>\n",
       "    </tr>\n",
       "  </tbody>\n",
       "</table>\n",
       "</div>"
      ],
      "text/plain": [
       "    Age  Gender  Height  Weight  High_Blood_Pressure  Low_Blood_Pressure  \\\n",
       "0  59.0       1   167.0    88.0                130.0                68.0   \n",
       "1  63.0       1   150.0    71.0                140.0                95.0   \n",
       "2  41.0       1   166.0    83.0                100.0                70.0   \n",
       "\n",
       "  Glucose  Smoke  Alcohol  Exercise  Disease  Cholesterol_high  \\\n",
       "0  normal      0        0         1        0                 0   \n",
       "1  normal      0        0         0        1                 0   \n",
       "2  normal      0        1         1        0                 0   \n",
       "\n",
       "   Cholesterol_normal  Cholesterol_too high  \n",
       "0                   1                     0  \n",
       "1                   1                     0  \n",
       "2                   1                     0  "
      ]
     },
     "execution_count": 622,
     "metadata": {},
     "output_type": "execute_result"
    }
   ],
   "source": [
    "# one hot encoding \n",
    "train_df = pd.get_dummies(train_df, columns=['Cholesterol'])\n",
    "train_df.head(3)"
   ]
  },
  {
   "cell_type": "markdown",
   "metadata": {},
   "source": [
    "**Categorical Variable Glucose**\n",
    "- normal: 85%, high: 7,4%, too high:7.59%"
   ]
  },
  {
   "cell_type": "code",
   "execution_count": 623,
   "metadata": {
    "scrolled": false
   },
   "outputs": [
    {
     "data": {
      "text/html": [
       "<div>\n",
       "<style scoped>\n",
       "    .dataframe tbody tr th:only-of-type {\n",
       "        vertical-align: middle;\n",
       "    }\n",
       "\n",
       "    .dataframe tbody tr th {\n",
       "        vertical-align: top;\n",
       "    }\n",
       "\n",
       "    .dataframe thead th {\n",
       "        text-align: right;\n",
       "    }\n",
       "</style>\n",
       "<table border=\"1\" class=\"dataframe\">\n",
       "  <thead>\n",
       "    <tr style=\"text-align: right;\">\n",
       "      <th></th>\n",
       "      <th>Age</th>\n",
       "      <th>Gender</th>\n",
       "      <th>Height</th>\n",
       "      <th>Weight</th>\n",
       "      <th>High_Blood_Pressure</th>\n",
       "      <th>Low_Blood_Pressure</th>\n",
       "      <th>Smoke</th>\n",
       "      <th>Alcohol</th>\n",
       "      <th>Exercise</th>\n",
       "      <th>Disease</th>\n",
       "      <th>Cholesterol_high</th>\n",
       "      <th>Cholesterol_normal</th>\n",
       "      <th>Cholesterol_too high</th>\n",
       "      <th>Glucose_high</th>\n",
       "      <th>Glucose_normal</th>\n",
       "      <th>Glucose_too high</th>\n",
       "    </tr>\n",
       "  </thead>\n",
       "  <tbody>\n",
       "    <tr>\n",
       "      <th>0</th>\n",
       "      <td>59.0</td>\n",
       "      <td>1</td>\n",
       "      <td>167.0</td>\n",
       "      <td>88.0</td>\n",
       "      <td>130.0</td>\n",
       "      <td>68.0</td>\n",
       "      <td>0</td>\n",
       "      <td>0</td>\n",
       "      <td>1</td>\n",
       "      <td>0</td>\n",
       "      <td>0</td>\n",
       "      <td>1</td>\n",
       "      <td>0</td>\n",
       "      <td>0</td>\n",
       "      <td>1</td>\n",
       "      <td>0</td>\n",
       "    </tr>\n",
       "    <tr>\n",
       "      <th>1</th>\n",
       "      <td>63.0</td>\n",
       "      <td>1</td>\n",
       "      <td>150.0</td>\n",
       "      <td>71.0</td>\n",
       "      <td>140.0</td>\n",
       "      <td>95.0</td>\n",
       "      <td>0</td>\n",
       "      <td>0</td>\n",
       "      <td>0</td>\n",
       "      <td>1</td>\n",
       "      <td>0</td>\n",
       "      <td>1</td>\n",
       "      <td>0</td>\n",
       "      <td>0</td>\n",
       "      <td>1</td>\n",
       "      <td>0</td>\n",
       "    </tr>\n",
       "    <tr>\n",
       "      <th>2</th>\n",
       "      <td>41.0</td>\n",
       "      <td>1</td>\n",
       "      <td>166.0</td>\n",
       "      <td>83.0</td>\n",
       "      <td>100.0</td>\n",
       "      <td>70.0</td>\n",
       "      <td>0</td>\n",
       "      <td>1</td>\n",
       "      <td>1</td>\n",
       "      <td>0</td>\n",
       "      <td>0</td>\n",
       "      <td>1</td>\n",
       "      <td>0</td>\n",
       "      <td>0</td>\n",
       "      <td>1</td>\n",
       "      <td>0</td>\n",
       "    </tr>\n",
       "  </tbody>\n",
       "</table>\n",
       "</div>"
      ],
      "text/plain": [
       "    Age  Gender  Height  Weight  High_Blood_Pressure  Low_Blood_Pressure  \\\n",
       "0  59.0       1   167.0    88.0                130.0                68.0   \n",
       "1  63.0       1   150.0    71.0                140.0                95.0   \n",
       "2  41.0       1   166.0    83.0                100.0                70.0   \n",
       "\n",
       "   Smoke  Alcohol  Exercise  Disease  Cholesterol_high  Cholesterol_normal  \\\n",
       "0      0        0         1        0                 0                   1   \n",
       "1      0        0         0        1                 0                   1   \n",
       "2      0        1         1        0                 0                   1   \n",
       "\n",
       "   Cholesterol_too high  Glucose_high  Glucose_normal  Glucose_too high  \n",
       "0                     0             0               1                 0  \n",
       "1                     0             0               1                 0  \n",
       "2                     0             0               1                 0  "
      ]
     },
     "execution_count": 623,
     "metadata": {},
     "output_type": "execute_result"
    }
   ],
   "source": [
    "# one hot encoding \n",
    "train_df = pd.get_dummies(train_df, columns=['Glucose'])\n",
    "train_df.head(3)"
   ]
  },
  {
   "cell_type": "markdown",
   "metadata": {},
   "source": [
    "#### 1.4.2 Select features for the modeling. \n",
    "- Also we change the target data type to be integer, as it is a requirement by the skitlearn algorithm."
   ]
  },
  {
   "cell_type": "code",
   "execution_count": 624,
   "metadata": {},
   "outputs": [
    {
     "data": {
      "text/plain": [
       "0    0\n",
       "1    1\n",
       "2    0\n",
       "Name: Disease, dtype: int64"
      ]
     },
     "execution_count": 624,
     "metadata": {},
     "output_type": "execute_result"
    }
   ],
   "source": [
    "# Get target variable\n",
    "y = train_df['Disease']\n",
    "y[0:3]"
   ]
  },
  {
   "cell_type": "code",
   "execution_count": 625,
   "metadata": {},
   "outputs": [
    {
     "name": "stdout",
     "output_type": "stream",
     "text": [
      "50.956654249915346\n"
     ]
    }
   ],
   "source": [
    "# Target variable is balanced\n",
    "print(y.sum() / y.shape[0] * 100)"
   ]
  },
  {
   "cell_type": "code",
   "execution_count": 626,
   "metadata": {
    "scrolled": false
   },
   "outputs": [
    {
     "data": {
      "text/html": [
       "<div>\n",
       "<style scoped>\n",
       "    .dataframe tbody tr th:only-of-type {\n",
       "        vertical-align: middle;\n",
       "    }\n",
       "\n",
       "    .dataframe tbody tr th {\n",
       "        vertical-align: top;\n",
       "    }\n",
       "\n",
       "    .dataframe thead th {\n",
       "        text-align: right;\n",
       "    }\n",
       "</style>\n",
       "<table border=\"1\" class=\"dataframe\">\n",
       "  <thead>\n",
       "    <tr style=\"text-align: right;\">\n",
       "      <th></th>\n",
       "      <th>Age</th>\n",
       "      <th>Gender</th>\n",
       "      <th>Height</th>\n",
       "      <th>Weight</th>\n",
       "      <th>High_Blood_Pressure</th>\n",
       "      <th>Low_Blood_Pressure</th>\n",
       "      <th>Smoke</th>\n",
       "      <th>Alcohol</th>\n",
       "      <th>Exercise</th>\n",
       "      <th>Cholesterol_high</th>\n",
       "      <th>Cholesterol_normal</th>\n",
       "      <th>Cholesterol_too high</th>\n",
       "      <th>Glucose_high</th>\n",
       "      <th>Glucose_normal</th>\n",
       "      <th>Glucose_too high</th>\n",
       "    </tr>\n",
       "  </thead>\n",
       "  <tbody>\n",
       "    <tr>\n",
       "      <th>0</th>\n",
       "      <td>59.0</td>\n",
       "      <td>1</td>\n",
       "      <td>167.0</td>\n",
       "      <td>88.0</td>\n",
       "      <td>130.0</td>\n",
       "      <td>68.0</td>\n",
       "      <td>0</td>\n",
       "      <td>0</td>\n",
       "      <td>1</td>\n",
       "      <td>0</td>\n",
       "      <td>1</td>\n",
       "      <td>0</td>\n",
       "      <td>0</td>\n",
       "      <td>1</td>\n",
       "      <td>0</td>\n",
       "    </tr>\n",
       "    <tr>\n",
       "      <th>1</th>\n",
       "      <td>63.0</td>\n",
       "      <td>1</td>\n",
       "      <td>150.0</td>\n",
       "      <td>71.0</td>\n",
       "      <td>140.0</td>\n",
       "      <td>95.0</td>\n",
       "      <td>0</td>\n",
       "      <td>0</td>\n",
       "      <td>0</td>\n",
       "      <td>0</td>\n",
       "      <td>1</td>\n",
       "      <td>0</td>\n",
       "      <td>0</td>\n",
       "      <td>1</td>\n",
       "      <td>0</td>\n",
       "    </tr>\n",
       "    <tr>\n",
       "      <th>2</th>\n",
       "      <td>41.0</td>\n",
       "      <td>1</td>\n",
       "      <td>166.0</td>\n",
       "      <td>83.0</td>\n",
       "      <td>100.0</td>\n",
       "      <td>70.0</td>\n",
       "      <td>0</td>\n",
       "      <td>1</td>\n",
       "      <td>1</td>\n",
       "      <td>0</td>\n",
       "      <td>1</td>\n",
       "      <td>0</td>\n",
       "      <td>0</td>\n",
       "      <td>1</td>\n",
       "      <td>0</td>\n",
       "    </tr>\n",
       "  </tbody>\n",
       "</table>\n",
       "</div>"
      ],
      "text/plain": [
       "    Age  Gender  Height  Weight  High_Blood_Pressure  Low_Blood_Pressure  \\\n",
       "0  59.0       1   167.0    88.0                130.0                68.0   \n",
       "1  63.0       1   150.0    71.0                140.0                95.0   \n",
       "2  41.0       1   166.0    83.0                100.0                70.0   \n",
       "\n",
       "   Smoke  Alcohol  Exercise  Cholesterol_high  Cholesterol_normal  \\\n",
       "0      0        0         1                 0                   1   \n",
       "1      0        0         0                 0                   1   \n",
       "2      0        1         1                 0                   1   \n",
       "\n",
       "   Cholesterol_too high  Glucose_high  Glucose_normal  Glucose_too high  \n",
       "0                     0             0               1                 0  \n",
       "1                     0             0               1                 0  \n",
       "2                     0             0               1                 0  "
      ]
     },
     "execution_count": 626,
     "metadata": {},
     "output_type": "execute_result"
    }
   ],
   "source": [
    "# Get x variables\n",
    "X = train_df.drop('Disease',axis=1)\n",
    "X.head(3)"
   ]
  },
  {
   "cell_type": "markdown",
   "metadata": {},
   "source": [
    "#### 1.4.3 Normalize the dataset\n",
    "**Choose MinMaxScaler over StandardScaler**: \n",
    "   - MultinomialNB assumes that features have multinomial distribution which is a generalization of the binomial distribution. Neither binomial nor multinomial distributions can contain negative values. If we use StandardScaler to process the X varaibles, the data will follow Gaussian with zero mean and unit variance, leading to the presence of negative values.\n",
    "   - Aftering applying MinMaxScaler, our data are range from 0 to 1."
   ]
  },
  {
   "cell_type": "code",
   "execution_count": 260,
   "metadata": {
    "scrolled": true
   },
   "outputs": [
    {
     "data": {
      "text/plain": [
       "array([[0.87, 1.  , 0.74, 0.95, 0.67, 0.1 , 0.  , 0.  , 1.  , 0.  , 1.  ,\n",
       "        0.  , 0.  , 1.  , 0.  ],\n",
       "       [1.  , 1.  , 0.23, 0.62, 0.83, 1.  , 0.  , 0.  , 0.  , 0.  , 1.  ,\n",
       "        0.  , 0.  , 1.  , 0.  ]])"
      ]
     },
     "execution_count": 260,
     "metadata": {},
     "output_type": "execute_result"
    }
   ],
   "source": [
    "from sklearn.preprocessing import MinMaxScaler\n",
    "X = preprocessing.MinMaxScaler().fit(X).transform(X)\n",
    "X[0:2]"
   ]
  },
  {
   "cell_type": "markdown",
   "metadata": {},
   "source": [
    "#### 1.4.4 Create training and validation dataset"
   ]
  },
  {
   "cell_type": "code",
   "execution_count": 261,
   "metadata": {
    "scrolled": true
   },
   "outputs": [
    {
     "name": "stdout",
     "output_type": "stream",
     "text": [
      "Train set: (33073, 15) (33073,)\n",
      "Test set: (14175, 15) (14175,)\n"
     ]
    }
   ],
   "source": [
    "X_train, X_test, y_train, y_test =  train_test_split(X, y, test_size=0.3, random_state=16)\n",
    "print(\"Train set:\",X_train.shape, y_train.shape)\n",
    "print(\"Test set:\", X_test.shape, y_test.shape)"
   ]
  },
  {
   "cell_type": "markdown",
   "metadata": {},
   "source": [
    "### 1.5 Data Visualization"
   ]
  },
  {
   "cell_type": "markdown",
   "metadata": {},
   "source": [
    "#### 1.5.1 Correlation Matrix\n",
    "**Observation:** age(0.24), high blood pressure(0.45) and low blood pressure(0.36) have the highest correlation with the target variable Disease."
   ]
  },
  {
   "cell_type": "code",
   "execution_count": 262,
   "metadata": {
    "scrolled": true
   },
   "outputs": [
    {
     "data": {
      "image/png": "[encoded data removed]",
      "text/plain": [
       "<Figure size 1440x1080 with 2 Axes>"
      ]
     },
     "metadata": {
      "needs_background": "light"
     },
     "output_type": "display_data"
    }
   ],
   "source": [
    "plt.figure(figsize = (20,15))\n",
    "Matrix = np.triu(train_df.corr())\n",
    "ax = sns.heatmap(train_df.corr(),  annot = True, fmt='.2g', mask=Matrix, cmap= 'coolwarm', linewidths=.2)\n",
    "bottom, top = ax.get_ylim()\n",
    "ax.set_ylim(bottom + 0.5, top - 0.5)\n",
    "plt.title('Correlation Matrix',y=-0.1, fontsize=20);"
   ]
  },
  {
   "cell_type": "markdown",
   "metadata": {},
   "source": [
    "#### 1.5.2 Plot key columns to understand the data better "
   ]
  },
  {
   "cell_type": "markdown",
   "metadata": {},
   "source": [
    "**Observatio:** It seems like people aged over 55 are more likely to be diagnosed with disease."
   ]
  },
  {
   "cell_type": "code",
   "execution_count": 263,
   "metadata": {
    "scrolled": true
   },
   "outputs": [
    {
     "data": {
      "image/png": "[encoded data removed]",
      "text/plain": [
       "<Figure size 432x216 with 2 Axes>"
      ]
     },
     "metadata": {
      "needs_background": "light"
     },
     "output_type": "display_data"
    }
   ],
   "source": [
    "bins = np.linspace(train_df.Age.min(), train_df.Age.max(), 10)\n",
    "g = sns.FacetGrid(train_df, col=\"Disease\", hue=\"Disease\", palette=\"Set1\", col_wrap=2)\n",
    "g.map(plt.hist, 'Age', bins=bins, ec=\"k\")\n",
    "\n",
    "g.axes[-1].legend()\n",
    "plt.show()"
   ]
  },
  {
   "cell_type": "markdown",
   "metadata": {},
   "source": [
    "**Observation:** When looking at the effect of age and weight together, it looks like that people weight over 75 and age over 55 have a higher risks of being diagnosed with disease."
   ]
  },
  {
   "cell_type": "code",
   "execution_count": 264,
   "metadata": {},
   "outputs": [
    {
     "data": {
      "image/png": "[encoded data removed]",
      "text/plain": [
       "<Figure size 432x288 with 1 Axes>"
      ]
     },
     "metadata": {
      "needs_background": "light"
     },
     "output_type": "display_data"
    }
   ],
   "source": [
    "ax = train_df[train_df['Disease'] == 1][0:50].plot(kind='scatter', x='Weight', y='Age', color='DarkBlue', label='Disease=1');\n",
    "train_df[train_df['Disease'] == 0][0:50].plot(kind='scatter', x='Weight', y='Age', color='Yellow', label='Disease=0', ax=ax);\n",
    "plt.show()"
   ]
  },
  {
   "cell_type": "markdown",
   "metadata": {},
   "source": [
    "## Section 2: Build, tune and evaluate cluster analysis and decision tree models"
   ]
  },
  {
   "cell_type": "markdown",
   "metadata": {},
   "source": [
    "### 2.1 Navie Bayes Algorithm \n",
    "- Scikit-learn implements three naive Bayes variants based on the same number of different probabilistic distributions: Gaussian, multinomial, and Bernoulli."
   ]
  },
  {
   "cell_type": "markdown",
   "metadata": {},
   "source": [
    "#### 2.1.1 Gaussian NB Model\n",
    "- Gaussian distribution is a continuous distribution characterized by its mean and variance."
   ]
  },
  {
   "cell_type": "code",
   "execution_count": 540,
   "metadata": {},
   "outputs": [
    {
     "name": "stdout",
     "output_type": "stream",
     "text": [
      "Accuracy: 0.6874\n",
      "Precision: 0.7367\n",
      "Recall: 0.6034\n",
      "F1-Score: 0.6634\n",
      "ROC AUC Score: 0.6892\n"
     ]
    }
   ],
   "source": [
    "gnb = GaussianNB()\n",
    "gnb.fit(X_train, y_train)\n",
    "gnb_pred = gnb.predict(X_test)\n",
    "print(f\"Accuracy: {round(metrics.accuracy_score(y_test, gnb_pred), 4)}\")\n",
    "print(f\"Precision: {round(metrics.precision_score(y_test, gnb_pred), 4)}\")\n",
    "print(f\"Recall: {round(metrics.recall_score(y_test, gnb_pred), 4)}\")\n",
    "print(f\"F1-Score: {round(metrics.f1_score(y_test, gnb_pred), 4)}\")\n",
    "print(f\"ROC AUC Score: {round(metrics.roc_auc_score(y_test, gnb_pred), 4)}\")"
   ]
  },
  {
   "cell_type": "code",
   "execution_count": 266,
   "metadata": {
    "scrolled": true
   },
   "outputs": [
    {
     "name": "stdout",
     "output_type": "stream",
     "text": [
      "              precision    recall  f1-score   support\n",
      "\n",
      "           0       0.65      0.78      0.71      6938\n",
      "           1       0.74      0.60      0.66      7237\n",
      "\n",
      "    accuracy                           0.69     14175\n",
      "   macro avg       0.69      0.69      0.69     14175\n",
      "weighted avg       0.70      0.69      0.69     14175\n",
      "\n"
     ]
    }
   ],
   "source": [
    "print (classification_report(y_test, gnb_pred))"
   ]
  },
  {
   "cell_type": "code",
   "execution_count": 267,
   "metadata": {
    "scrolled": true
   },
   "outputs": [],
   "source": [
    "# Use predict_proba to get the probability results of Gaussain NB Model\n",
    "y_pred_gnb = gnb.predict_proba(X_test)[:, 1]\n",
    "fpr_gnb, tpr_gnb, thresh = roc_curve(y_test, y_pred_gnb)"
   ]
  },
  {
   "cell_type": "code",
   "execution_count": 534,
   "metadata": {},
   "outputs": [
    {
     "data": {
      "image/png": "[encoded data removed]",
      "text/plain": [
       "<Figure size 432x288 with 1 Axes>"
      ]
     },
     "metadata": {
      "needs_background": "light"
     },
     "output_type": "display_data"
    }
   ],
   "source": [
    "# ROC Curve\n",
    "plt.figure(1)\n",
    "plt.plot([0, 1], [0, 1], 'k--')\n",
    "plt.plot(fpr_gnb, tpr_gnb, label='Gaussain NB Model')\n",
    "plt.xlabel('False positive rate')\n",
    "plt.ylabel('True positive rate')\n",
    "plt.title('ROC curve - Gaussain NB Model Model')\n",
    "plt.legend(loc='best')\n",
    "plt.show()"
   ]
  },
  {
   "cell_type": "markdown",
   "metadata": {},
   "source": [
    "#### 2.1.2 Multinomial NB Model\n",
    "- Multinomial distribution is a discrete distribution used whenever a feature must be represented by a whole number."
   ]
  },
  {
   "cell_type": "code",
   "execution_count": 542,
   "metadata": {},
   "outputs": [
    {
     "name": "stdout",
     "output_type": "stream",
     "text": [
      "Accuracy: 0.614\n",
      "Precision: 0.6851\n",
      "Recall: 0.4513\n",
      "F1-score: 0.5442\n",
      "ROC AUC Score: 0.6175\n"
     ]
    }
   ],
   "source": [
    "mnb = MultinomialNB(alpha=0.5)\n",
    "mnb.fit(X_train, y_train)\n",
    "mnb_pred = mnb.predict(X_test)\n",
    "print(f\"Accuracy: {round(metrics.accuracy_score(y_test, mnb_pred), 4)}\")\n",
    "print(f\"Precision: {round(metrics.precision_score(y_test, mnb_pred), 4)}\")\n",
    "print(f\"Recall: {round(metrics.recall_score(y_test, mnb_pred), 4)}\")\n",
    "print(f\"F1-score: {round(metrics.f1_score(y_test, mnb_pred), 4)}\")\n",
    "print(f\"ROC AUC Score: {round(metrics.roc_auc_score(y_test, mnb_pred), 4)}\")"
   ]
  },
  {
   "cell_type": "code",
   "execution_count": 271,
   "metadata": {
    "scrolled": false
   },
   "outputs": [
    {
     "name": "stdout",
     "output_type": "stream",
     "text": [
      "              precision    recall  f1-score   support\n",
      "\n",
      "           0       0.58      0.78      0.67      6938\n",
      "           1       0.69      0.45      0.54      7237\n",
      "\n",
      "    accuracy                           0.61     14175\n",
      "   macro avg       0.63      0.62      0.60     14175\n",
      "weighted avg       0.63      0.61      0.60     14175\n",
      "\n"
     ]
    }
   ],
   "source": [
    "print (classification_report(y_test, mnb_pred))"
   ]
  },
  {
   "cell_type": "code",
   "execution_count": 272,
   "metadata": {
    "scrolled": true
   },
   "outputs": [],
   "source": [
    "# Use predict_proba to get the probability results of Multinomial NB Model\n",
    "y_pred_mnb = mnb.predict_proba(X_test)[:, 1]\n",
    "fpr_mnb, tpr_mnb, thresh = roc_curve(y_test, y_pred_mnb)"
   ]
  },
  {
   "cell_type": "code",
   "execution_count": 535,
   "metadata": {},
   "outputs": [
    {
     "data": {
      "image/png": "[encoded data removed]",
      "text/plain": [
       "<Figure size 432x288 with 1 Axes>"
      ]
     },
     "metadata": {
      "needs_background": "light"
     },
     "output_type": "display_data"
    }
   ],
   "source": [
    "# ROC Curve\n",
    "plt.figure(1)\n",
    "plt.plot([0, 1], [0, 1], 'k--')\n",
    "plt.plot(fpr_mnb, tpr_mnb, label='Multinomial NB Model')\n",
    "plt.xlabel('False positive rate')\n",
    "plt.ylabel('True positive rate')\n",
    "plt.title('ROC curve - Gaussain NB Model Model')\n",
    "plt.legend(loc='best')\n",
    "plt.show()"
   ]
  },
  {
   "cell_type": "markdown",
   "metadata": {},
   "source": [
    "#### 2.1.3 Bernoulli NB Model\n",
    "- Bernoulli distribution is a binary distribution useful when a feature can be present or absent. "
   ]
  },
  {
   "cell_type": "code",
   "execution_count": 541,
   "metadata": {},
   "outputs": [
    {
     "name": "stdout",
     "output_type": "stream",
     "text": [
      "Accuracy: 0.5898\n",
      "Precision: 0.6651\n",
      "Recall: 0.396\n",
      "F1-Score: 0.4964\n",
      "ROC AUC Score: 0.594\n"
     ]
    }
   ],
   "source": [
    "bnb = BernoulliNB()\n",
    "bnb.fit(X_train, y_train)\n",
    "bnb_pred = bnb.predict(X_test)\n",
    "print(f\"Accuracy: {round(metrics.accuracy_score(y_test, bnb_pred), 4)}\")\n",
    "print(f\"Precision: {round(metrics.precision_score(y_test, bnb_pred), 4)}\")\n",
    "print(f\"Recall: {round(metrics.recall_score(y_test, bnb_pred), 4)}\")\n",
    "print(f\"F1-Score: {round(metrics.f1_score(y_test, bnb_pred), 4)}\")\n",
    "print(f\"ROC AUC Score: {round(metrics.roc_auc_score(y_test, bnb_pred), 4)}\")"
   ]
  },
  {
   "cell_type": "code",
   "execution_count": 277,
   "metadata": {
    "scrolled": true
   },
   "outputs": [
    {
     "name": "stdout",
     "output_type": "stream",
     "text": [
      "              precision    recall  f1-score   support\n",
      "\n",
      "           0       0.56      0.79      0.65      6938\n",
      "           1       0.67      0.40      0.50      7237\n",
      "\n",
      "    accuracy                           0.59     14175\n",
      "   macro avg       0.61      0.59      0.58     14175\n",
      "weighted avg       0.61      0.59      0.57     14175\n",
      "\n"
     ]
    }
   ],
   "source": [
    "print (classification_report(y_test, bnb_pred))"
   ]
  },
  {
   "cell_type": "code",
   "execution_count": 278,
   "metadata": {
    "scrolled": true
   },
   "outputs": [],
   "source": [
    "# Use predict_proba to get the probability results of Bernoulli NB Model\n",
    "y_pred_bnb = bnb.predict_proba(X_test)[:, 1]\n",
    "fpr_bnb, tpr_bnb, thresh = roc_curve(y_test, y_pred_bnb)"
   ]
  },
  {
   "cell_type": "code",
   "execution_count": 537,
   "metadata": {},
   "outputs": [
    {
     "data": {
      "image/png": "[encoded data removed]",
      "text/plain": [
       "<Figure size 432x288 with 1 Axes>"
      ]
     },
     "metadata": {
      "needs_background": "light"
     },
     "output_type": "display_data"
    }
   ],
   "source": [
    "# ROC Curve\n",
    "plt.figure(1)\n",
    "plt.plot([0, 1], [0, 1], 'k--')\n",
    "plt.plot(fpr_mnb, tpr_mnb, label='Bernoulli NB Model')\n",
    "plt.xlabel('False positive rate')\n",
    "plt.ylabel('True positive rate')\n",
    "plt.title('ROC curve - Gaussain NB Model Model')\n",
    "plt.legend(loc='best')\n",
    "plt.show()"
   ]
  },
  {
   "cell_type": "markdown",
   "metadata": {},
   "source": [
    "#### 2.1.4 Use 10-fold Cross Validation to help in identifying a case of overfitting\n"
   ]
  },
  {
   "cell_type": "code",
   "execution_count": 545,
   "metadata": {
    "scrolled": false
   },
   "outputs": [
    {
     "name": "stdout",
     "output_type": "stream",
     "text": [
      "Model accuracy_mean of Gaussian NB Model is 0.6885\n",
      "Model accuracy_std of Gaussian NB Model is 0.0108\n",
      "Model accuracy_mean of Multinomial NB Model is 0.6109\n",
      "Model accuracy_std of Multinomial NB Model is 0.0111\n",
      "Model accuracy_mean of Bernoulli NB Model is 0.5882\n",
      "Model accuracy_std of Bernoulli NB Model is 0.01\n"
     ]
    }
   ],
   "source": [
    "model_names = ['Gaussian NB Model','Multinomial NB Model','Bernoulli NB Model']\n",
    "model_list = [gnb, mnb, bnb]\n",
    "count = 0\n",
    "\n",
    "for classifier in model_list:\n",
    "    cv_score = model_selection.cross_val_score(classifier, X_train, y_train, cv=10)\n",
    "    print('Model accuracy_mean of ' + model_names[count] + ' is ' + str(round(cv_score.mean(),4)))\n",
    "    print('Model accuracy_std of ' + model_names[count] + ' is ' + str(round(cv_score.std(),4)))\n",
    "    count += 1"
   ]
  },
  {
   "cell_type": "markdown",
   "metadata": {},
   "source": [
    "#### 2.1.6 Summary of NB model performance: \n",
    "- Gussain NB Model has the best performance among the three models."
   ]
  },
  {
   "cell_type": "code",
   "execution_count": 543,
   "metadata": {
    "scrolled": true
   },
   "outputs": [
    {
     "data": {
      "text/html": [
       "<div>\n",
       "<style scoped>\n",
       "    .dataframe tbody tr th:only-of-type {\n",
       "        vertical-align: middle;\n",
       "    }\n",
       "\n",
       "    .dataframe tbody tr th {\n",
       "        vertical-align: top;\n",
       "    }\n",
       "\n",
       "    .dataframe thead th {\n",
       "        text-align: right;\n",
       "    }\n",
       "</style>\n",
       "<table border=\"1\" class=\"dataframe\">\n",
       "  <thead>\n",
       "    <tr style=\"text-align: right;\">\n",
       "      <th></th>\n",
       "      <th>Metrics</th>\n",
       "      <th>Gussain</th>\n",
       "      <th>Multilnomial</th>\n",
       "      <th>Bernoulli</th>\n",
       "    </tr>\n",
       "  </thead>\n",
       "  <tbody>\n",
       "    <tr>\n",
       "      <th>0</th>\n",
       "      <td>Accuracy</td>\n",
       "      <td>0.6874</td>\n",
       "      <td>0.6140</td>\n",
       "      <td>0.5898</td>\n",
       "    </tr>\n",
       "    <tr>\n",
       "      <th>1</th>\n",
       "      <td>Precision</td>\n",
       "      <td>0.7367</td>\n",
       "      <td>0.6851</td>\n",
       "      <td>0.6651</td>\n",
       "    </tr>\n",
       "    <tr>\n",
       "      <th>2</th>\n",
       "      <td>Recall</td>\n",
       "      <td>0.6034</td>\n",
       "      <td>0.4513</td>\n",
       "      <td>0.3960</td>\n",
       "    </tr>\n",
       "    <tr>\n",
       "      <th>3</th>\n",
       "      <td>F1-Score</td>\n",
       "      <td>0.6634</td>\n",
       "      <td>0.5442</td>\n",
       "      <td>0.4964</td>\n",
       "    </tr>\n",
       "    <tr>\n",
       "      <th>4</th>\n",
       "      <td>CV_mean</td>\n",
       "      <td>0.6885</td>\n",
       "      <td>0.6109</td>\n",
       "      <td>0.5882</td>\n",
       "    </tr>\n",
       "    <tr>\n",
       "      <th>5</th>\n",
       "      <td>CV_std</td>\n",
       "      <td>0.0108</td>\n",
       "      <td>0.0111</td>\n",
       "      <td>0.0100</td>\n",
       "    </tr>\n",
       "    <tr>\n",
       "      <th>6</th>\n",
       "      <td>AUC</td>\n",
       "      <td>0.6892</td>\n",
       "      <td>0.6175</td>\n",
       "      <td>0.5940</td>\n",
       "    </tr>\n",
       "  </tbody>\n",
       "</table>\n",
       "</div>"
      ],
      "text/plain": [
       "     Metrics  Gussain  Multilnomial  Bernoulli\n",
       "0   Accuracy   0.6874        0.6140     0.5898\n",
       "1  Precision   0.7367        0.6851     0.6651\n",
       "2     Recall   0.6034        0.4513     0.3960\n",
       "3   F1-Score   0.6634        0.5442     0.4964\n",
       "4    CV_mean   0.6885        0.6109     0.5882\n",
       "5     CV_std   0.0108        0.0111     0.0100\n",
       "6        AUC   0.6892        0.6175     0.5940"
      ]
     },
     "execution_count": 543,
     "metadata": {},
     "output_type": "execute_result"
    }
   ],
   "source": [
    "nym_performance = {'Metrics': ['Accuracy','Precision','Recall','F1-Score','CV_mean','CV_std','AUC'], \n",
    "           'Gussain': [0.6874, 0.7367,0.6034,0.6634,0.6885,0.0108,0.6892],\n",
    "           'Multilnomial':[0.614,0.6851,0.4513,0.5442,0.6109,0.0111,0.6175],\n",
    "          'Bernoulli':[0.5898,0.6651,0.396,0.4964,0.5882,0.01, 0.594]}\n",
    "nym_performance = pd.DataFrame(data= nym_performance)\n",
    "nym_performance "
   ]
  },
  {
   "cell_type": "markdown",
   "metadata": {},
   "source": [
    "### 2.2 K Nearest Neighbor (KNN)\n",
    "- The k-nearest neighbors (KNN) algorithm is a simple, easy-to-implement supervised machine learning algorithm that can be used to solve both classification and regression problems. It assumes that similar things exist in close proximity. In other words, similar things are near to each other."
   ]
  },
  {
   "cell_type": "markdown",
   "metadata": {},
   "source": [
    "#### 2.2.1 Base KNN Model"
   ]
  },
  {
   "cell_type": "code",
   "execution_count": 560,
   "metadata": {},
   "outputs": [
    {
     "name": "stdout",
     "output_type": "stream",
     "text": [
      "Accuracy of base KNN: 69.22%\n"
     ]
    }
   ],
   "source": [
    "classifier = KNeighborsClassifier()\n",
    "classifier.fit(X_train, y_train)\n",
    "y_pred = classifier.predict(X_test)\n",
    "print(f\"Accuracy of base KNN: {round(metrics.accuracy_score(y_test, y_pred)*100, 2)}%\")"
   ]
  },
  {
   "cell_type": "markdown",
   "metadata": {},
   "source": [
    "#### 2.2.2 Sensitivity Analysis \n",
    "- Number of neighbors (K) is a hyper parameter of the KNN model. As we decrease the value of K to 1, our predictions become less stable. Inversely, as we increase the value of K, our predictions become more stable due to majority voting / averaging, and thus, more likely to make more accurate predictions (up to a certain point). Eventually, we begin to witness an increasing number of errors. It is at this point we know we have pushed the value of K too far."
   ]
  },
  {
   "cell_type": "markdown",
   "metadata": {},
   "source": [
    "#### Building the KNN models by assigning the value of K from 1 to 30"
   ]
  },
  {
   "cell_type": "code",
   "execution_count": 300,
   "metadata": {},
   "outputs": [
    {
     "data": {
      "text/plain": [
       "array([0.63, 0.63, 0.67, 0.68, 0.69, 0.7 , 0.7 , 0.71, 0.71, 0.71, 0.71,\n",
       "       0.71, 0.71, 0.72, 0.72, 0.72, 0.72, 0.72, 0.72, 0.72, 0.72, 0.72,\n",
       "       0.72, 0.72, 0.72, 0.72, 0.72, 0.72, 0.72, 0.72, 0.72, 0.72, 0.72,\n",
       "       0.72, 0.72, 0.72, 0.72, 0.72, 0.72, 0.72, 0.72, 0.72, 0.72, 0.72,\n",
       "       0.72, 0.72, 0.72, 0.72, 0.72])"
      ]
     },
     "execution_count": 300,
     "metadata": {},
     "output_type": "execute_result"
    }
   ],
   "source": [
    "# Importing the KNN model\n",
    "from sklearn.neighbors import KNeighborsClassifier\n",
    "\n",
    "Ks = 50\n",
    "mean_acc = np.zeros((Ks-1))\n",
    "std_acc = np.zeros((Ks-1))\n",
    "ConfustionMx = [];\n",
    "for n in range(1,Ks):\n",
    "    \n",
    "    #Train Model and Predict  \n",
    "    neigh = KNeighborsClassifier(n_neighbors = n).fit(X_train,y_train)\n",
    "    yhat=neigh.predict(X_test)\n",
    "    mean_acc[n-1] = metrics.accuracy_score(y_test, yhat)\n",
    "\n",
    "    \n",
    "    std_acc[n-1]=np.std(yhat==y_test)/np.sqrt(yhat.shape[0])\n",
    "\n",
    "mean_acc"
   ]
  },
  {
   "cell_type": "markdown",
   "metadata": {},
   "source": [
    "#### Plot model accuracy for different number of Neighbors¶\n",
    "- The accury of the model increase sharping as K increase from 0 to around 20\n",
    "- The variation of the accuracy is small after K reach around 20."
   ]
  },
  {
   "cell_type": "code",
   "execution_count": 301,
   "metadata": {
    "scrolled": false
   },
   "outputs": [
    {
     "data": {
      "image/png": "[encoded data removed]",
      "text/plain": [
       "<Figure size 432x288 with 1 Axes>"
      ]
     },
     "metadata": {
      "needs_background": "light"
     },
     "output_type": "display_data"
    }
   ],
   "source": [
    "plt.plot(range(1,Ks),mean_acc,'g')\n",
    "plt.fill_between(range(1,Ks),mean_acc - 1 * std_acc,mean_acc + 1 * std_acc, alpha=0.10)\n",
    "plt.legend(('Accuracy ', '+/- 3xstd'))\n",
    "plt.ylabel('Accuracy ')\n",
    "plt.xlabel('Number of Neighbors (K)')\n",
    "plt.tight_layout()\n",
    "plt.show()"
   ]
  },
  {
   "cell_type": "markdown",
   "metadata": {},
   "source": [
    "#### 2.2.3 More efficient parameter tuning using GridSearchCV: KNN\n",
    "- **Number of neighbors (K)** \n",
    "    - To select the K that’s right for our data, we run the KNN algorithm several times with different values of K and choose the K that reduces the number of errors we encounter while maintaining the algorithm’s ability to accurately make predictions when it’s given data it hasn’t seen before.\n",
    "    - If the number of neighbors is too large, the model will have high bias. If the number of neighors is too small, the model will have high variance (overfitting). We usually make K an odd number to have a tiebreaker.\n",
    "- **Distance functions**\n",
    "    - Euclidean: sqrt(sum((x - y)^2))\n",
    "    - Manhattan: sum(|x - y|)\n",
    "    - Minkowski: sum(|x - y|^p)^(1/p)\n",
    " \n",
    "- **Weight Options**\n",
    "    - uniform: all points in the neighborhood are weighted equally\n",
    "    - distance: weights closer neighbors more heavily than further neighbors\n",
    "    \n",
    "- **CV = 10 & scoring = 'accuracy'**\n",
    "    - Grid object is ready to do 10-fold cross validation on a KNN model using classification accuracy as the evaluation metric\n",
    "    - KNN model is being fit and predictions are being made 8 x 10 = 80 times"
   ]
  },
  {
   "cell_type": "code",
   "execution_count": 308,
   "metadata": {},
   "outputs": [],
   "source": [
    "# helper function for printing out grid search results \n",
    "def print_grid_search_metrics(gs):\n",
    "    print (\"Best score: \" + str(gs.best_score_))\n",
    "    print (\"Best parameters set\")\n",
    "    best_parameters = gs.best_params_\n",
    "    for param_name in sorted(best_parameters.keys()):\n",
    "        print(param_name,':',str(best_parameters[param_name]))"
   ]
  },
  {
   "cell_type": "code",
   "execution_count": 321,
   "metadata": {
    "scrolled": true
   },
   "outputs": [
    {
     "data": {
      "text/plain": [
       "GridSearchCV(cv=10, error_score=nan,\n",
       "             estimator=KNeighborsClassifier(algorithm='auto', leaf_size=30,\n",
       "                                            metric='minkowski',\n",
       "                                            metric_params=None, n_jobs=None,\n",
       "                                            n_neighbors=5, p=2,\n",
       "                                            weights='uniform'),\n",
       "             iid='deprecated', n_jobs=None,\n",
       "             param_grid={'metric': ['minkowski', 'euclidean', 'manhattan'],\n",
       "                         'n_neighbors': [17, 19, 21, 23, 25, 27, 29, 31],\n",
       "                         'weights': ['uniform', 'distance']},\n",
       "             pre_dispatch='2*n_jobs', refit=True, return_train_score=False,\n",
       "             scoring='accuracy', verbose=0)"
      ]
     },
     "execution_count": 321,
     "metadata": {},
     "output_type": "execute_result"
    }
   ],
   "source": [
    "# Possible hyperparamter options for KNN\n",
    "# Choose k\n",
    "parameters = {\n",
    "    'n_neighbors':[17,19,21,23,25,27,29,31],\n",
    "    'metric':['minkowski','euclidean','manhattan'],\n",
    "    'weights':['uniform','distance']\n",
    "}\n",
    "Grid_KNN = GridSearchCV(KNeighborsClassifier(),parameters, cv=10,scoring='accuracy')\n",
    "Grid_KNN.fit(X_train, y_train)"
   ]
  },
  {
   "cell_type": "code",
   "execution_count": 322,
   "metadata": {
    "scrolled": false
   },
   "outputs": [
    {
     "name": "stdout",
     "output_type": "stream",
     "text": [
      "Best score: 0.7245186367709987\n",
      "Best parameters set\n",
      "metric : manhattan\n",
      "n_neighbors : 29\n",
      "weights : uniform\n"
     ]
    }
   ],
   "source": [
    "# best k\n",
    "best_KNN_model = Grid_KNN.best_estimator_\n",
    "print_grid_search_metrics(Grid_KNN)"
   ]
  },
  {
   "cell_type": "markdown",
   "metadata": {},
   "source": [
    "#### 2.2.4 Model Performance Evaluation"
   ]
  },
  {
   "cell_type": "code",
   "execution_count": 432,
   "metadata": {},
   "outputs": [],
   "source": [
    "y_pred_KNN = best_KNN_model.predict(X_test)"
   ]
  },
  {
   "cell_type": "markdown",
   "metadata": {},
   "source": [
    "#### Get Repeated Hold Out Accurary of optimal KNN Model"
   ]
  },
  {
   "cell_type": "markdown",
   "metadata": {},
   "source": [
    "- **Cross validation:** Use 10-fold Cross Validation to give a more accurate indication of how well the model generalizes to unseen data.\n",
    "- **Model Performance Evaluation:** The model accuracy of the KNN model is 72.43% "
   ]
  },
  {
   "cell_type": "code",
   "execution_count": 547,
   "metadata": {},
   "outputs": [
    {
     "name": "stdout",
     "output_type": "stream",
     "text": [
      "cv_acc_mean 0.7243\n",
      "cv_acc_std 0.0064\n"
     ]
    }
   ],
   "source": [
    "knn_pipe = make_pipeline(best_KNN_model)\n",
    "knn_pipe.fit(X_train, y_train)\n",
    "pipe_pred = knn_pipe.predict(X_test)\n",
    "from sklearn.model_selection import KFold\n",
    "cv = KFold(n_splits=10, shuffle=True, random_state=16)\n",
    "print('cv_acc_mean',round(cross_val_score(knn_pipe, X_train, y_train, cv=cv).mean(),4))\n",
    "print('cv_acc_std',round(cross_val_score(knn_pipe, X_train, y_train, cv=cv).std(),4))"
   ]
  },
  {
   "cell_type": "markdown",
   "metadata": {},
   "source": [
    "#### Confusion Matrix"
   ]
  },
  {
   "cell_type": "code",
   "execution_count": 357,
   "metadata": {
    "scrolled": true
   },
   "outputs": [
    {
     "data": {
      "text/html": [
       "<div>\n",
       "<style scoped>\n",
       "    .dataframe tbody tr th:only-of-type {\n",
       "        vertical-align: middle;\n",
       "    }\n",
       "\n",
       "    .dataframe tbody tr th {\n",
       "        vertical-align: top;\n",
       "    }\n",
       "\n",
       "    .dataframe thead th {\n",
       "        text-align: right;\n",
       "    }\n",
       "</style>\n",
       "<table border=\"1\" class=\"dataframe\">\n",
       "  <thead>\n",
       "    <tr style=\"text-align: right;\">\n",
       "      <th>col_0</th>\n",
       "      <th>0</th>\n",
       "      <th>1</th>\n",
       "    </tr>\n",
       "    <tr>\n",
       "      <th>Disease</th>\n",
       "      <th></th>\n",
       "      <th></th>\n",
       "    </tr>\n",
       "  </thead>\n",
       "  <tbody>\n",
       "    <tr>\n",
       "      <th>0</th>\n",
       "      <td>5202</td>\n",
       "      <td>1736</td>\n",
       "    </tr>\n",
       "    <tr>\n",
       "      <th>1</th>\n",
       "      <td>2173</td>\n",
       "      <td>5064</td>\n",
       "    </tr>\n",
       "  </tbody>\n",
       "</table>\n",
       "</div>"
      ],
      "text/plain": [
       "col_0       0     1\n",
       "Disease            \n",
       "0        5202  1736\n",
       "1        2173  5064"
      ]
     },
     "execution_count": 357,
     "metadata": {},
     "output_type": "execute_result"
    }
   ],
   "source": [
    "knn_confusion = pd.crosstab(y_test, y_pred_KNN)\n",
    "knn_confusion"
   ]
  },
  {
   "cell_type": "code",
   "execution_count": 549,
   "metadata": {
    "scrolled": true
   },
   "outputs": [
    {
     "name": "stdout",
     "output_type": "stream",
     "text": [
      "Accuracy: 0.7242\n",
      "Precision: 0.7447\n",
      "Recall: 0.6997\n",
      "F1-Score: 0.7215\n",
      "ROC AUC Score: 0.7248\n"
     ]
    }
   ],
   "source": [
    "print(f\"Accuracy: {round(metrics.accuracy_score(y_test, y_pred_KNN), 4)}\")\n",
    "print(f\"Precision: {round(metrics.precision_score(y_test, y_pred_KNN), 4)}\")\n",
    "print(f\"Recall: {round(metrics.recall_score(y_test, y_pred_KNN), 4)}\")\n",
    "print(f\"F1-Score: {round(metrics.f1_score(y_test, y_pred_KNN), 4)}\")\n",
    "print(f\"ROC AUC Score: {round(metrics.roc_auc_score(y_test, y_pred_KNN), 4)}\")"
   ]
  },
  {
   "cell_type": "code",
   "execution_count": 358,
   "metadata": {
    "scrolled": true
   },
   "outputs": [
    {
     "name": "stdout",
     "output_type": "stream",
     "text": [
      "              precision    recall  f1-score   support\n",
      "\n",
      "           0       0.71      0.75      0.73      6938\n",
      "           1       0.74      0.70      0.72      7237\n",
      "\n",
      "    accuracy                           0.72     14175\n",
      "   macro avg       0.73      0.72      0.72     14175\n",
      "weighted avg       0.73      0.72      0.72     14175\n",
      "\n"
     ]
    }
   ],
   "source": [
    "print(metrics.classification_report(y_test, y_pred_KNN))"
   ]
  },
  {
   "cell_type": "markdown",
   "metadata": {},
   "source": [
    "#### ROC Curve and AUC for KNN"
   ]
  },
  {
   "cell_type": "code",
   "execution_count": 329,
   "metadata": {
    "scrolled": true
   },
   "outputs": [],
   "source": [
    "# Use predict_proba to get the probability results of KNN Model\n",
    "y_pred_knn = best_KNN_model.predict_proba(X_test)[:, 1]\n",
    "fpr_knn, tpr_knn, thresh = roc_curve(y_test, y_pred_knn)"
   ]
  },
  {
   "cell_type": "code",
   "execution_count": 550,
   "metadata": {
    "scrolled": false
   },
   "outputs": [
    {
     "data": {
      "image/png": "[encoded data removed]",
      "text/plain": [
       "<Figure size 432x288 with 1 Axes>"
      ]
     },
     "metadata": {
      "needs_background": "light"
     },
     "output_type": "display_data"
    }
   ],
   "source": [
    "# ROC Curve\n",
    "plt.figure(1)\n",
    "plt.plot([0, 1], [0, 1], 'k--')\n",
    "plt.plot(fpr_knn, tpr_knn, label='KNN Model')\n",
    "plt.xlabel('False positive rate')\n",
    "plt.ylabel('True positive rate')\n",
    "plt.title('ROC curve - KNN Model')\n",
    "plt.legend(loc='best')\n",
    "plt.show()"
   ]
  },
  {
   "cell_type": "markdown",
   "metadata": {},
   "source": [
    "### 2.3 Support Vector Machine \n",
    "- **SVM works by mapping data to a high-dimensional feature space so that data points can be categorized, even when the data are not otherwise linearly separable.** A separator between the categories is found, then the data is transformed in such a way that the separator could be drawn as a hyperplane. Following this, characteristics of new data can be used to predict the group to which a new record should belong.\n",
    "- **In this section, we will use the Linear kernel and RBF kernel for the SVM classifier to identify the best kernel**: The SVM algorithm offers a choice of kernel functions for performing its processing. Basically, mapping data into a higher dimensional space is called kernelling. The mathematical function used for the transformation is known as the kernel function, and can be of different types, such as Linear, Polynomial, Radial basis function and Sigmoid."
   ]
  },
  {
   "cell_type": "markdown",
   "metadata": {},
   "source": [
    "#### 2.3.1 Linear SVM "
   ]
  },
  {
   "cell_type": "markdown",
   "metadata": {},
   "source": [
    "####  2.3.1.1 Linear SVM Base Model\n",
    "- A linear kernel can be used as normal dot product any two given observations. The product between two vectors is the sum of the multiplication of each pair of input values.\n",
    "- Formula: K(x, xi) = sum(x * xi)"
   ]
  },
  {
   "cell_type": "code",
   "execution_count": 445,
   "metadata": {},
   "outputs": [],
   "source": [
    "# Import the library for SVM Classifier\n",
    "from sklearn import svm\n",
    "\n",
    "#Build a SVM Classifier with a Linear base Kernel\n",
    "svm_linear = svm.SVC(kernel='linear').fit(X_train, y_train)\n",
    "yhat_linear = svm_linear.predict(X_test)\n",
    "svm_linear = metrics.accuracy_score(y_test, yhat_linear)"
   ]
  },
  {
   "cell_type": "code",
   "execution_count": 449,
   "metadata": {
    "scrolled": true
   },
   "outputs": [
    {
     "name": "stdout",
     "output_type": "stream",
     "text": [
      "Accuracy for base SVM_linear: 73.17%\n"
     ]
    }
   ],
   "source": [
    "print(f\"Accuracy for base SVM_linear: {round(svm_linear*100, 2)}%\")"
   ]
  },
  {
   "cell_type": "markdown",
   "metadata": {},
   "source": [
    "#### 2.3.1.2 Linear SVM Sensitivity Analysis \n",
    "- **Parameter C**: \n",
    "    - **C controls the trade off between the achieving a low training error and a low testing error that is the ability to generalize your classifier to unseen data.**\n",
    "    - In a SVM we are searching for two things - a hyperplane with the largest minimum margin and a hyperplane that correctly separates as many instances as possible. The problem is that we will not always be able to get both things. The C parameter determines how great our desire is for the latter. In other words, the C parameter tells the SVM optimization how much we want to avoid misclassifying each training example. \n",
    "- **The value of C**\n",
    "   - Large values of C result in a wider margin, at the cost of some misclassifications. The optimization will choose a smaller-margin hyperplane if that hyperplane does a better job of getting all the training points classified correctly.\n",
    "   - Conversely, small value of C will result in the Hard Margin classifier and tolerates zero constraint violation. It will cause the optimizer to look for a larger-margin separating hyperplane, even if that hyperplane misclassifies more points. "
   ]
  },
  {
   "cell_type": "code",
   "execution_count": 458,
   "metadata": {},
   "outputs": [],
   "source": [
    "C = np.arange(0.05,1,0.05)\n",
    "train_results_svm =[]\n",
    "for n in C:\n",
    "    model = svm.LinearSVC(C=n)\n",
    "    model.fit(X_train, y_train)\n",
    "    acc = cross_val_score(model, X_train, y_train, cv=10).mean()*100\n",
    "    train_results_svm.append(acc)"
   ]
  },
  {
   "cell_type": "code",
   "execution_count": 477,
   "metadata": {
    "scrolled": true
   },
   "outputs": [
    {
     "data": {
      "image/png": "[encoded data removed]",
      "text/plain": [
       "<Figure size 432x288 with 1 Axes>"
      ]
     },
     "metadata": {
      "needs_background": "light"
     },
     "output_type": "display_data"
    }
   ],
   "source": [
    "plt.plot(range(0,19),train_results_svm,'g')\n",
    "plt.ylabel('Accuracy ')\n",
    "plt.xlabel('Value of C')\n",
    "plt.tight_layout()\n",
    "plt.show()"
   ]
  },
  {
   "cell_type": "markdown",
   "metadata": {},
   "source": [
    "#### 2.3.1.3 Linear SVM Model Tuning"
   ]
  },
  {
   "cell_type": "code",
   "execution_count": 128,
   "metadata": {
    "scrolled": false
   },
   "outputs": [
    {
     "data": {
      "text/plain": [
       "LinearSVC(C=1.0, class_weight=None, dual=True, fit_intercept=True,\n",
       "          intercept_scaling=1, loss='squared_hinge', max_iter=1000,\n",
       "          multi_class='ovr', penalty='l2', random_state=None, tol=0.0001,\n",
       "          verbose=0)"
      ]
     },
     "execution_count": 128,
     "metadata": {},
     "output_type": "execute_result"
    }
   ],
   "source": [
    "lin_clf = svm.LinearSVC()\n",
    "lin_clf"
   ]
  },
  {
   "cell_type": "code",
   "execution_count": 130,
   "metadata": {
    "scrolled": false
   },
   "outputs": [
    {
     "data": {
      "text/plain": [
       "GridSearchCV(cv=ShuffleSplit(n_splits=25, random_state=0, test_size=0.3, train_size=None),\n",
       "             error_score=nan,\n",
       "             estimator=LinearSVC(C=1.0, class_weight=None, dual=True,\n",
       "                                 fit_intercept=True, intercept_scaling=1,\n",
       "                                 loss='squared_hinge', max_iter=1000,\n",
       "                                 multi_class='ovr', penalty='l2',\n",
       "                                 random_state=None, tol=0.0001, verbose=0),\n",
       "             iid='deprecated', n_jobs=None,\n",
       "             param_grid={'C': [0.25, 0.5, 0.75, 1], 'penalty': ['l2']},\n",
       "             pre_dispatch='2*n_jobs', refit=True, return_train_score=False,\n",
       "             scoring=None, verbose=0)"
      ]
     },
     "execution_count": 130,
     "metadata": {},
     "output_type": "execute_result"
    }
   ],
   "source": [
    "bs = model_selection.ShuffleSplit(n_splits=25,test_size=0.3,random_state=0)\n",
    "param_grid = {'C':[0.25,0.5,0.75,1],'penalty':['l2']}\n",
    "\n",
    "gridbs = GridSearchCV(lin_clf,param_grid,cv=bs)\n",
    "gridbs.fit(X_train,y_train)"
   ]
  },
  {
   "cell_type": "code",
   "execution_count": 567,
   "metadata": {},
   "outputs": [
    {
     "name": "stdout",
     "output_type": "stream",
     "text": [
      "Best hyperparameter is C: 0.25\n",
      "Best hyperparameter is penalty: l2\n"
     ]
    }
   ],
   "source": [
    "for key, val in gridbs.best_params_.items():\n",
    "  print(f\"Best hyperparameter is {key}: {val}\")"
   ]
  },
  {
   "cell_type": "code",
   "execution_count": 497,
   "metadata": {},
   "outputs": [],
   "source": [
    "best_svm_linear = gridbs.best_estimator_"
   ]
  },
  {
   "cell_type": "markdown",
   "metadata": {},
   "source": [
    "#### 2.3.1.4 Linear SVM Performance Evaluation"
   ]
  },
  {
   "cell_type": "code",
   "execution_count": 556,
   "metadata": {},
   "outputs": [],
   "source": [
    "y_pred_svml = best_svm_linear.predict(X_test)"
   ]
  },
  {
   "cell_type": "markdown",
   "metadata": {},
   "source": [
    "#### Get Repeated Hold Out Accurary of Optimal Linear SVM "
   ]
  },
  {
   "cell_type": "markdown",
   "metadata": {},
   "source": [
    "- **Cross validation:** Use 10-fold Cross Validation to give a more accurate indication of how well the model generalizes to unseen data.\n",
    "- **Model Performance Evaluation:** The model accuracy of the optimal SVM model is 72.43% "
   ]
  },
  {
   "cell_type": "code",
   "execution_count": 551,
   "metadata": {},
   "outputs": [
    {
     "name": "stdout",
     "output_type": "stream",
     "text": [
      "cv_acc_mean 0.7267\n",
      "cv_acc_std 0.0058\n"
     ]
    }
   ],
   "source": [
    "svml_pipe = make_pipeline(best_svm_linear)\n",
    "svml_pipe.fit(X_train, y_train)\n",
    "pipe_pred = svml_pipe.predict(X_test)\n",
    "from sklearn.model_selection import KFold\n",
    "cv = KFold(n_splits=10, shuffle=True, random_state=16)\n",
    "print('cv_acc_mean',round(cross_val_score(svml_pipe, X_train, y_train, cv=cv).mean(),4))\n",
    "print('cv_acc_std',round(cross_val_score(svml_pipe, X_train, y_train, cv=cv).std(),4))"
   ]
  },
  {
   "cell_type": "markdown",
   "metadata": {},
   "source": [
    "#### Confusion Matrix"
   ]
  },
  {
   "cell_type": "code",
   "execution_count": 465,
   "metadata": {
    "scrolled": true
   },
   "outputs": [
    {
     "data": {
      "text/html": [
       "<div>\n",
       "<style scoped>\n",
       "    .dataframe tbody tr th:only-of-type {\n",
       "        vertical-align: middle;\n",
       "    }\n",
       "\n",
       "    .dataframe tbody tr th {\n",
       "        vertical-align: top;\n",
       "    }\n",
       "\n",
       "    .dataframe thead th {\n",
       "        text-align: right;\n",
       "    }\n",
       "</style>\n",
       "<table border=\"1\" class=\"dataframe\">\n",
       "  <thead>\n",
       "    <tr style=\"text-align: right;\">\n",
       "      <th>col_0</th>\n",
       "      <th>0</th>\n",
       "      <th>1</th>\n",
       "    </tr>\n",
       "    <tr>\n",
       "      <th>Disease</th>\n",
       "      <th></th>\n",
       "      <th></th>\n",
       "    </tr>\n",
       "  </thead>\n",
       "  <tbody>\n",
       "    <tr>\n",
       "      <th>0</th>\n",
       "      <td>5389</td>\n",
       "      <td>1549</td>\n",
       "    </tr>\n",
       "    <tr>\n",
       "      <th>1</th>\n",
       "      <td>2251</td>\n",
       "      <td>4986</td>\n",
       "    </tr>\n",
       "  </tbody>\n",
       "</table>\n",
       "</div>"
      ],
      "text/plain": [
       "col_0       0     1\n",
       "Disease            \n",
       "0        5389  1549\n",
       "1        2251  4986"
      ]
     },
     "execution_count": 465,
     "metadata": {},
     "output_type": "execute_result"
    }
   ],
   "source": [
    "svml_confusion = pd.crosstab(y_test, y_pred_svml)\n",
    "svml_confusion"
   ]
  },
  {
   "cell_type": "code",
   "execution_count": 582,
   "metadata": {
    "scrolled": true
   },
   "outputs": [
    {
     "name": "stdout",
     "output_type": "stream",
     "text": [
      "Accuracy: 0.7307\n",
      "Precision: 0.7592\n",
      "Recall: 0.6919\n",
      "F1-Score: 0.724\n",
      "ROC AUC Score: 0.7315\n"
     ]
    }
   ],
   "source": [
    "print(f\"Accuracy: {round(metrics.accuracy_score(y_test, y_pred_svml), 4)}\")\n",
    "print(f\"Precision: {round(metrics.precision_score(y_test, y_pred_svml), 4)}\")\n",
    "print(f\"Recall: {round(metrics.recall_score(y_test, y_pred_svml), 4)}\")\n",
    "print(f\"F1-Score: {round(metrics.f1_score(y_test, y_pred_svml), 4)}\")\n",
    "print(f\"ROC AUC Score: {round(metrics.roc_auc_score(y_test, y_pred_svml), 4)}\")\n"
   ]
  },
  {
   "cell_type": "code",
   "execution_count": 466,
   "metadata": {
    "scrolled": false
   },
   "outputs": [
    {
     "name": "stdout",
     "output_type": "stream",
     "text": [
      "              precision    recall  f1-score   support\n",
      "\n",
      "           0       0.71      0.78      0.74      6938\n",
      "           1       0.76      0.69      0.72      7237\n",
      "\n",
      "    accuracy                           0.73     14175\n",
      "   macro avg       0.73      0.73      0.73     14175\n",
      "weighted avg       0.73      0.73      0.73     14175\n",
      "\n"
     ]
    }
   ],
   "source": [
    "print(metrics.classification_report(y_test, y_pred_svml))"
   ]
  },
  {
   "cell_type": "markdown",
   "metadata": {},
   "source": [
    "#### ROC Curve and AUC for Linear SVM "
   ]
  },
  {
   "cell_type": "code",
   "execution_count": 469,
   "metadata": {
    "scrolled": true
   },
   "outputs": [],
   "source": [
    "# Use predict_proba to get the probability results of Linear SVM Model\n",
    "y_pred_svml = best_svm_linear._predict_proba_lr(X_test)[:, 1]\n",
    "fpr_svml, tpr_svml, thresh = roc_curve(y_test, y_pred_svml)"
   ]
  },
  {
   "cell_type": "code",
   "execution_count": 559,
   "metadata": {
    "scrolled": true
   },
   "outputs": [
    {
     "data": {
      "image/png": "[encoded data removed]",
      "text/plain": [
       "<Figure size 432x288 with 1 Axes>"
      ]
     },
     "metadata": {
      "needs_background": "light"
     },
     "output_type": "display_data"
    }
   ],
   "source": [
    "# ROC Curve\n",
    "plt.figure(1)\n",
    "plt.plot([0, 1], [0, 1], 'k--')\n",
    "plt.plot(fpr_svml, tpr_svml, label='SVM Liner Model')\n",
    "plt.xlabel('False positive rate')\n",
    "plt.ylabel('True positive rate')\n",
    "plt.title('ROC curve - SVM Liner Model')\n",
    "plt.legend(loc='best')\n",
    "plt.show()"
   ]
  },
  {
   "cell_type": "markdown",
   "metadata": {},
   "source": [
    "#### 2.3.2 RBF SVM  \n",
    "- The Radial basis function kernel is a popular kernel function commonly used in support vector machine classification. RBF can map an input space in infinite dimensional space.\n",
    "- Formula: K(x,xi) = 1 + sum(x * xi)^d"
   ]
  },
  {
   "cell_type": "markdown",
   "metadata": {},
   "source": [
    "#### RBF SVM Base Modele"
   ]
  },
  {
   "cell_type": "code",
   "execution_count": 446,
   "metadata": {},
   "outputs": [],
   "source": [
    "# Build a SVM Classifier with a Radial base Function Kernel\n",
    "svm_rbf = svm.SVC(kernel='rbf').fit(X_train, y_train)\n",
    "yhat_rbf = svm_rbf.predict(X_test)\n",
    "svm_rbf = metrics.accuracy_score(y_test, yhat_rbf)"
   ]
  },
  {
   "cell_type": "code",
   "execution_count": 450,
   "metadata": {
    "scrolled": true
   },
   "outputs": [
    {
     "name": "stdout",
     "output_type": "stream",
     "text": [
      "Accuracy for base SVM_linear: 73.25%\n"
     ]
    }
   ],
   "source": [
    "print(f\"Accuracy for base SVM_linear: {round(svm_rbf*100, 2)}%\")"
   ]
  },
  {
   "cell_type": "markdown",
   "metadata": {},
   "source": [
    "#### RBF SVM Model Tuning \n",
    "- **Parameter**: In RBF, gamma is a parameter, which ranges from 0 to 1.  The value of gamma needs to be manually specified in the learning algorithm.\n",
    "- **Overfitting:** A higher value of gamma will perfectly fit the training dataset, which causes over-fitting. Gamma=0.1 is considered to be a good default value."
   ]
  },
  {
   "cell_type": "markdown",
   "metadata": {},
   "source": [
    "#### 2.3.3 SVM with RBF Kernel Function: γ"
   ]
  },
  {
   "cell_type": "code",
   "execution_count": 494,
   "metadata": {
    "scrolled": true
   },
   "outputs": [
    {
     "name": "stdout",
     "output_type": "stream",
     "text": [
      "Fitting 5 folds for each of 120 candidates, totalling 600 fits\n"
     ]
    },
    {
     "name": "stderr",
     "output_type": "stream",
     "text": [
      "[Parallel(n_jobs=1)]: Using backend SequentialBackend with 1 concurrent workers.\n",
      "[Parallel(n_jobs=1)]: Done 600 out of 600 | elapsed: 294.7min finished\n"
     ]
    },
    {
     "name": "stdout",
     "output_type": "stream",
     "text": [
      "0.7312613227261807\n",
      "SVC(C=0.7, break_ties=False, cache_size=200, class_weight=None, coef0=0.0,\n",
      "    decision_function_shape='ovr', degree=3, gamma=0.5, kernel='rbf',\n",
      "    max_iter=-1, probability=False, random_state=None, shrinking=True,\n",
      "    tol=0.001, verbose=False)\n"
     ]
    }
   ],
   "source": [
    "from sklearn.model_selection import GridSearchCV\n",
    "\n",
    "hyper = {'C':[0.05,0.1,0.2,0.3,0.25,0.4,0.5,0.6,0.7,0.8,0.9,1],\n",
    "         'gamma':[0.1,0.2,0.3,0.4,0.5,0.6,0.7,0.8,0.9,1.0],\n",
    "         'kernel':['rbf']\n",
    "        }\n",
    "\n",
    "gd=GridSearchCV(estimator=svm.SVC(),param_grid=hyper,verbose=True)\n",
    "\n",
    "gd.fit(X_train,y_train)\n",
    "print(gd.best_score_)\n",
    "print(gd.best_estimator_)"
   ]
  },
  {
   "cell_type": "code",
   "execution_count": 568,
   "metadata": {},
   "outputs": [
    {
     "name": "stdout",
     "output_type": "stream",
     "text": [
      "Best hyperparameter is C: 0.7\n",
      "Best hyperparameter is gamma: 0.5\n",
      "Best hyperparameter is kernel: rbf\n"
     ]
    }
   ],
   "source": [
    "for key, val in gd.best_params_.items():\n",
    "  print(f\"Best hyperparameter is {key}: {val}\")"
   ]
  },
  {
   "cell_type": "code",
   "execution_count": 498,
   "metadata": {},
   "outputs": [],
   "source": [
    "best_svm_rbf = gd.best_estimator_"
   ]
  },
  {
   "cell_type": "markdown",
   "metadata": {},
   "source": [
    "#### 2.3.1.4 RBF SVM Performance Evaluation"
   ]
  },
  {
   "cell_type": "code",
   "execution_count": 499,
   "metadata": {},
   "outputs": [],
   "source": [
    "y_pred_svmr = best_svm_rbf.predict(X_test)"
   ]
  },
  {
   "cell_type": "markdown",
   "metadata": {},
   "source": [
    "#### Get Repeated Hold Out Accurary of optimal RBF RBF Model"
   ]
  },
  {
   "cell_type": "markdown",
   "metadata": {},
   "source": [
    "- **Cross validation:** Use 10-fold Cross Validation to give a more accurate indication of how well the model generalizes to unseen data.\n",
    "- **Model Performance Evaluation:** The model accuracy of the KNN model is 72.43% "
   ]
  },
  {
   "cell_type": "markdown",
   "metadata": {},
   "source": [
    "#### Confusion Matrix"
   ]
  },
  {
   "cell_type": "code",
   "execution_count": 561,
   "metadata": {},
   "outputs": [
    {
     "name": "stdout",
     "output_type": "stream",
     "text": [
      "cv_acc_mean 0.7311\n",
      "cv_acc_std 0.0057\n"
     ]
    }
   ],
   "source": [
    "svmr_pipe = make_pipeline(best_svm_rbf)\n",
    "svmr_pipe.fit(X_train, y_train)\n",
    "pipe_pred = svmr_pipe.predict(X_test)\n",
    "cv = KFold(n_splits=10, shuffle=True, random_state=16)\n",
    "cross_val_score(svmr_pipe, X_train, y_train, cv=cv).mean()\n",
    "print('cv_acc_mean',round(cross_val_score(svmr_pipe, X_train, y_train, cv=cv).mean(),4))\n",
    "print('cv_acc_std',round(cross_val_score(svmr_pipe, X_train, y_train, cv=cv).std(),4))"
   ]
  },
  {
   "cell_type": "code",
   "execution_count": 502,
   "metadata": {
    "scrolled": true
   },
   "outputs": [
    {
     "data": {
      "text/html": [
       "<div>\n",
       "<style scoped>\n",
       "    .dataframe tbody tr th:only-of-type {\n",
       "        vertical-align: middle;\n",
       "    }\n",
       "\n",
       "    .dataframe tbody tr th {\n",
       "        vertical-align: top;\n",
       "    }\n",
       "\n",
       "    .dataframe thead th {\n",
       "        text-align: right;\n",
       "    }\n",
       "</style>\n",
       "<table border=\"1\" class=\"dataframe\">\n",
       "  <thead>\n",
       "    <tr style=\"text-align: right;\">\n",
       "      <th>col_0</th>\n",
       "      <th>0</th>\n",
       "      <th>1</th>\n",
       "    </tr>\n",
       "    <tr>\n",
       "      <th>Disease</th>\n",
       "      <th></th>\n",
       "      <th></th>\n",
       "    </tr>\n",
       "  </thead>\n",
       "  <tbody>\n",
       "    <tr>\n",
       "      <th>0</th>\n",
       "      <td>5454</td>\n",
       "      <td>1484</td>\n",
       "    </tr>\n",
       "    <tr>\n",
       "      <th>1</th>\n",
       "      <td>2302</td>\n",
       "      <td>4935</td>\n",
       "    </tr>\n",
       "  </tbody>\n",
       "</table>\n",
       "</div>"
      ],
      "text/plain": [
       "col_0       0     1\n",
       "Disease            \n",
       "0        5454  1484\n",
       "1        2302  4935"
      ]
     },
     "execution_count": 502,
     "metadata": {},
     "output_type": "execute_result"
    }
   ],
   "source": [
    "svml_confusion = pd.crosstab(y_test, y_pred_svmr)\n",
    "svml_confusion"
   ]
  },
  {
   "cell_type": "code",
   "execution_count": 569,
   "metadata": {
    "scrolled": true
   },
   "outputs": [
    {
     "name": "stdout",
     "output_type": "stream",
     "text": [
      "Accuracy: 0.7329\n",
      "Precision: 0.7688\n",
      "Recall: 0.6819\n",
      "F1-Score: 0.7228\n",
      "ROC AUC Score: 0.734\n"
     ]
    }
   ],
   "source": [
    "print(f\"Accuracy: {round(metrics.accuracy_score(y_test, y_pred_svmr), 4)}\")\n",
    "print(f\"Precision: {round(metrics.precision_score(y_test, y_pred_svmr), 4)}\")\n",
    "print(f\"Recall: {round(metrics.recall_score(y_test, y_pred_svmr), 4)}\")\n",
    "print(f\"F1-Score: {round(metrics.f1_score(y_test,y_pred_svmr), 4)}\")\n",
    "print(f\"ROC AUC Score: {round(metrics.roc_auc_score(y_test, y_pred_svmr), 4)}\")"
   ]
  },
  {
   "cell_type": "code",
   "execution_count": 503,
   "metadata": {
    "scrolled": true
   },
   "outputs": [
    {
     "name": "stdout",
     "output_type": "stream",
     "text": [
      "              precision    recall  f1-score   support\n",
      "\n",
      "           0       0.70      0.79      0.74      6938\n",
      "           1       0.77      0.68      0.72      7237\n",
      "\n",
      "    accuracy                           0.73     14175\n",
      "   macro avg       0.74      0.73      0.73     14175\n",
      "weighted avg       0.74      0.73      0.73     14175\n",
      "\n"
     ]
    }
   ],
   "source": [
    "print(metrics.classification_report(y_test, y_pred_svmr))"
   ]
  },
  {
   "cell_type": "markdown",
   "metadata": {},
   "source": [
    "#### ROC Curve and AUC for RBF SVM"
   ]
  },
  {
   "cell_type": "code",
   "execution_count": 509,
   "metadata": {
    "scrolled": true
   },
   "outputs": [],
   "source": [
    "# Use predict_proba to get the probability results of KNN Model\n",
    "fpr_svmr, tpr_svmr, thresh = roc_curve(y_test, y_pred_svmr)"
   ]
  },
  {
   "cell_type": "code",
   "execution_count": 570,
   "metadata": {
    "scrolled": true
   },
   "outputs": [
    {
     "data": {
      "image/png": "[encoded data removed]",
      "text/plain": [
       "<Figure size 432x288 with 1 Axes>"
      ]
     },
     "metadata": {
      "needs_background": "light"
     },
     "output_type": "display_data"
    }
   ],
   "source": [
    "# ROC Curve\n",
    "plt.figure(1)\n",
    "plt.plot([0, 1], [0, 1], 'k--')\n",
    "plt.plot(fpr_svmr, tpr_svmr, label='SVM RBF Model')\n",
    "plt.xlabel('False positive rate')\n",
    "plt.ylabel('True positive rate')\n",
    "plt.title('ROC curve - SVM Liner Model')\n",
    "plt.legend(loc='best')\n",
    "plt.show()"
   ]
  },
  {
   "cell_type": "markdown",
   "metadata": {},
   "source": [
    "### 2.4 Random Forest \n",
    "- The random forest is a classification algorithm consisting of many decisions trees. \n",
    "- It uses **bagging and feature randomness** when building each individual tree to try to create an uncorrelated forest of trees whose prediction by committee is more accurate than that of any individual tree.\n",
    "-  It fits a number of decision tree classifiers on various sub-samples of the dataset and **uses averaging to improve the predictive accuracy and control over-fitting**. "
   ]
  },
  {
   "cell_type": "markdown",
   "metadata": {},
   "source": [
    "#### 2.4.1 Base Model: Random Forest\n",
    "- We use 10-fold Cross Validation to get the accuracy for RF. \n",
    "- The base model has an accuracy of 69.83%."
   ]
  },
  {
   "cell_type": "code",
   "execution_count": 364,
   "metadata": {},
   "outputs": [
    {
     "name": "stdout",
     "output_type": "stream",
     "text": [
      "[0.71 0.7  0.69 0.69 0.68 0.7  0.71 0.69 0.71 0.7 ]\n",
      "Model accuracy of Random Forest is 0.6982735405349175\n"
     ]
    }
   ],
   "source": [
    "# libraries\n",
    "from sklearn.ensemble import RandomForestClassifier\n",
    "\n",
    "# Random Forest\n",
    "classifier_RF = RandomForestClassifier()\n",
    "\n",
    "# Use 10-fold Cross Validation to get the accuracy for RF\n",
    "cv_score = model_selection.cross_val_score(classifier_RF, X_train, y_train, cv=10)\n",
    "print(cv_score)\n",
    "print('Model accuracy of Random Forest is', str(cv_score.mean()))"
   ]
  },
  {
   "cell_type": "markdown",
   "metadata": {},
   "source": [
    "#### 2.4.2 Find Optimal Hyperparameter: Random Forest"
   ]
  },
  {
   "cell_type": "markdown",
   "metadata": {},
   "source": [
    "#### Max_depth: train the model with different max depth ranging from 1 to 10 and calculate the accuracy of each model"
   ]
  },
  {
   "cell_type": "code",
   "execution_count": 374,
   "metadata": {},
   "outputs": [
    {
     "data": {
      "text/plain": [
       "array([0.71, 0.73, 0.73, 0.73, 0.73, 0.73, 0.73, 0.73, 0.74, 0.73, 0.74,\n",
       "       0.74, 0.73, 0.73, 0.73])"
      ]
     },
     "execution_count": 374,
     "metadata": {},
     "output_type": "execute_result"
    }
   ],
   "source": [
    "md = 16\n",
    "mean_acc = np.zeros((md-1))\n",
    "std_acc = np.zeros((md-1))\n",
    "for n in range(1,md):\n",
    "    \n",
    "    #Train Model and Predict  \n",
    "    RF = RandomForestClassifier(criterion=\"entropy\", max_depth = n).fit(X_train,y_train)\n",
    "    yhat_RF =RF.predict(X_test)\n",
    "    mean_acc[n-1] = metrics.accuracy_score(y_test, yhat_RF)\n",
    "\n",
    "    \n",
    "    std_acc[n-1]=np.std(yhat_RF==y_test)/np.sqrt(yhat_RF.shape[0])\n",
    "\n",
    "mean_acc"
   ]
  },
  {
   "cell_type": "markdown",
   "metadata": {},
   "source": [
    "#### Plot model accuracy for different number of max depth¶\n",
    "- **Disucssion of overfitting and underfitting**: \n",
    "    - If we set max_depth too high, then the decision tree might simply overfit the training data without capturing useful patterns as we would like; this will cause testing error to increase. \n",
    "    - If we set it too low, that is not good as well; then we might be giving the decision tree too little flexibility to capture the patterns and interactions in the training data. This will also cause the testing error to increase.\n",
    "    - There are some nice golden spots in between the extremes of too-high and too-low. As shown below, the optimal max_depth might be around 3 and 9."
   ]
  },
  {
   "cell_type": "code",
   "execution_count": 375,
   "metadata": {},
   "outputs": [
    {
     "data": {
      "image/png": "[encoded data removed]",
      "text/plain": [
       "<Figure size 432x288 with 1 Axes>"
      ]
     },
     "metadata": {
      "needs_background": "light"
     },
     "output_type": "display_data"
    }
   ],
   "source": [
    "plt.plot(range(1,md),mean_acc,'r')\n",
    "plt.fill_between(range(1,md),mean_acc - 1 * std_acc,mean_acc + 1 * std_acc, alpha=0.10)\n",
    "plt.legend(('Accuracy ', '+/- 3xstd'))\n",
    "plt.ylabel('Accuracy ')\n",
    "plt.xlabel('Number of Max Depth')\n",
    "plt.tight_layout()\n",
    "plt.show()"
   ]
  },
  {
   "cell_type": "markdown",
   "metadata": {},
   "source": [
    "#### More efficient parameter tuning using GridSearchCV: RF\n",
    "- **n_estimators:** The number of trees in the forest. The default value of n_estimators is 100.\n",
    "- **criterion:** The function to measure the quality of a split. Supported criteria are “gini” for the Gini impurity and “entropy” for the information gain.\n",
    "- **max_depth**: The maximum depth of the tree. If None, then nodes are expanded until all leaves are pure or until all leaves contain less than min_samples_split samples. \n",
    "- **max_features:** Max number of features considered for splitting a node\n",
    "- **bootstrap:** method for sampling data points (with or without replacement) By default, it bootstrap = True"
   ]
  },
  {
   "cell_type": "code",
   "execution_count": 388,
   "metadata": {},
   "outputs": [
    {
     "data": {
      "text/plain": [
       "GridSearchCV(cv=5, error_score=nan,\n",
       "             estimator=RandomForestClassifier(bootstrap=True, ccp_alpha=0.0,\n",
       "                                              class_weight=None,\n",
       "                                              criterion='gini', max_depth=None,\n",
       "                                              max_features='auto',\n",
       "                                              max_leaf_nodes=None,\n",
       "                                              max_samples=None,\n",
       "                                              min_impurity_decrease=0.0,\n",
       "                                              min_impurity_split=None,\n",
       "                                              min_samples_leaf=1,\n",
       "                                              min_samples_split=2,\n",
       "                                              min_weight_fraction_leaf=0.0,\n",
       "                                              n_estimators=100, n_jobs=None,\n",
       "                                              oob_score=False,\n",
       "                                              random_state=None, verbose=0,\n",
       "                                              warm_start=False),\n",
       "             iid='deprecated', n_jobs=None,\n",
       "             param_grid={'criterion': ['gini', 'entropy'],\n",
       "                         'max_depth': [8, 9, 10],\n",
       "                         'max_features': ['auto', 'sqrt', 'log2'],\n",
       "                         'n_estimators': [27, 28, 29, 30, 31]},\n",
       "             pre_dispatch='2*n_jobs', refit=True, return_train_score=False,\n",
       "             scoring=None, verbose=0)"
      ]
     },
     "execution_count": 388,
     "metadata": {},
     "output_type": "execute_result"
    }
   ],
   "source": [
    "# Possible hyperparamter options for Random Forest\n",
    "# Choose the number of trees\n",
    "parameters = {\n",
    "    'n_estimators' : [27,28,29,30,31],\n",
    "    'criterion':['gini','entropy'],\n",
    "    'max_depth': [ 8, 9, 10],\n",
    "    'max_features':[\"auto\",\"sqrt\",\"log2\"]\n",
    "}\n",
    "Grid_RF = GridSearchCV(RandomForestClassifier(),parameters, cv=5)\n",
    "Grid_RF.fit(X_train, y_train)"
   ]
  },
  {
   "cell_type": "code",
   "execution_count": 389,
   "metadata": {},
   "outputs": [
    {
     "name": "stdout",
     "output_type": "stream",
     "text": [
      "Best score: 0.7326824224297116\n",
      "Best parameters set\n",
      "criterion : entropy\n",
      "max_depth : 10\n",
      "max_features : sqrt\n",
      "n_estimators : 30\n"
     ]
    }
   ],
   "source": [
    "# best number of tress\n",
    "print_grid_search_metrics(Grid_RF)"
   ]
  },
  {
   "cell_type": "code",
   "execution_count": 390,
   "metadata": {},
   "outputs": [],
   "source": [
    "# best random forest\n",
    "best_RF_model = Grid_RF.best_estimator_"
   ]
  },
  {
   "cell_type": "code",
   "execution_count": 391,
   "metadata": {
    "scrolled": true
   },
   "outputs": [
    {
     "data": {
      "text/plain": [
       "RandomForestClassifier(bootstrap=True, ccp_alpha=0.0, class_weight=None,\n",
       "                       criterion='entropy', max_depth=10, max_features='sqrt',\n",
       "                       max_leaf_nodes=None, max_samples=None,\n",
       "                       min_impurity_decrease=0.0, min_impurity_split=None,\n",
       "                       min_samples_leaf=1, min_samples_split=2,\n",
       "                       min_weight_fraction_leaf=0.0, n_estimators=30,\n",
       "                       n_jobs=None, oob_score=False, random_state=None,\n",
       "                       verbose=0, warm_start=False)"
      ]
     },
     "execution_count": 391,
     "metadata": {},
     "output_type": "execute_result"
    }
   ],
   "source": [
    "best_RF_model.fit(X_train, y_train)"
   ]
  },
  {
   "cell_type": "markdown",
   "metadata": {},
   "source": [
    "#### 2.4.3 Model Performance Evaluation: RF"
   ]
  },
  {
   "cell_type": "markdown",
   "metadata": {},
   "source": [
    "#### Get Repeated Hold Out Accurary of Optimal RF Model"
   ]
  },
  {
   "cell_type": "markdown",
   "metadata": {},
   "source": [
    "- **Cross validation:** Use 10-fold Cross Validation to give a more accurate indication of how well the model generalizes to unseen data.\n",
    "- **Model Performance Evaluation:** The model accuracy of the RF model is 73.11% "
   ]
  },
  {
   "cell_type": "code",
   "execution_count": 564,
   "metadata": {},
   "outputs": [],
   "source": [
    "rf_pipe = make_pipeline(best_RF_model)\n",
    "rf_pipe.fit(X_train, y_train)\n",
    "pipe_pred = rf_pipe.predict(X_test)\n",
    "from sklearn.model_selection import KFold\n",
    "cv = KFold(n_splits=10, shuffle=True, random_state=16)"
   ]
  },
  {
   "cell_type": "code",
   "execution_count": 563,
   "metadata": {},
   "outputs": [
    {
     "name": "stdout",
     "output_type": "stream",
     "text": [
      "cv_acc_mean 0.7296\n"
     ]
    }
   ],
   "source": [
    "print('cv_acc_mean',round(cross_val_score(rf_pipe, X_train, y_train, cv=cv).mean(),4))"
   ]
  },
  {
   "cell_type": "code",
   "execution_count": 562,
   "metadata": {},
   "outputs": [
    {
     "name": "stdout",
     "output_type": "stream",
     "text": [
      "cv_acc_std 0.006\n"
     ]
    }
   ],
   "source": [
    "print('cv_acc_std',round(cross_val_score(rf_pipe, X_train, y_train, cv=cv).std(),4))"
   ]
  },
  {
   "cell_type": "markdown",
   "metadata": {},
   "source": [
    "#### Confusion Matrix"
   ]
  },
  {
   "cell_type": "code",
   "execution_count": 565,
   "metadata": {},
   "outputs": [],
   "source": [
    "y_pred_rf = best_RF_model.predict(X_test)"
   ]
  },
  {
   "cell_type": "code",
   "execution_count": 566,
   "metadata": {},
   "outputs": [
    {
     "name": "stdout",
     "output_type": "stream",
     "text": [
      "Accuracy: 0.7356\n",
      "Precision: 0.7717\n",
      "Recall: 0.6847\n",
      "F1-Score: 0.7256\n",
      "ROC AUC Score: 0.7367\n"
     ]
    }
   ],
   "source": [
    "print(f\"Accuracy: {round(metrics.accuracy_score(y_test, y_pred_rf), 4)}\")\n",
    "print(f\"Precision: {round(metrics.precision_score(y_test, y_pred_rf), 4)}\")\n",
    "print(f\"Recall: {round(metrics.recall_score(y_test, y_pred_rf), 4)}\")\n",
    "print(f\"F1-Score: {round(metrics.f1_score(y_test, y_pred_rf), 4)}\")\n",
    "print(f\"ROC AUC Score: {round(metrics.roc_auc_score(y_test, y_pred_rf), 4)}\")"
   ]
  },
  {
   "cell_type": "code",
   "execution_count": 392,
   "metadata": {
    "scrolled": false
   },
   "outputs": [
    {
     "name": "stdout",
     "output_type": "stream",
     "text": [
      "              precision    recall  f1-score   support\n",
      "\n",
      "           0       0.70      0.79      0.74      6938\n",
      "           1       0.77      0.68      0.72      7237\n",
      "\n",
      "    accuracy                           0.73     14175\n",
      "   macro avg       0.74      0.74      0.73     14175\n",
      "weighted avg       0.74      0.73      0.73     14175\n",
      "\n"
     ]
    }
   ],
   "source": [
    "print(metrics.classification_report(y_test,y_pred_rf))"
   ]
  },
  {
   "cell_type": "markdown",
   "metadata": {},
   "source": [
    "#### ROC and AUC for RF"
   ]
  },
  {
   "cell_type": "code",
   "execution_count": 393,
   "metadata": {
    "scrolled": true
   },
   "outputs": [],
   "source": [
    "# Use predict_proba to get the probability results of KNN Model\n",
    "y_pred_rf = best_RF_model.predict_proba(X_test)[:, 1]\n",
    "fpr_rf, tpr_rf, thresh = roc_curve(y_test, y_pred_rf)"
   ]
  },
  {
   "cell_type": "code",
   "execution_count": 394,
   "metadata": {
    "scrolled": true
   },
   "outputs": [
    {
     "data": {
      "text/plain": [
       "0.8003074707411661"
      ]
     },
     "execution_count": 394,
     "metadata": {},
     "output_type": "execute_result"
    }
   ],
   "source": [
    "# AUC score\n",
    "metrics.auc(fpr_rf,tpr_rf)"
   ]
  },
  {
   "cell_type": "code",
   "execution_count": 572,
   "metadata": {
    "scrolled": true
   },
   "outputs": [
    {
     "data": {
      "image/png": "[encoded data removed]",
      "text/plain": [
       "<Figure size 432x288 with 1 Axes>"
      ]
     },
     "metadata": {
      "needs_background": "light"
     },
     "output_type": "display_data"
    }
   ],
   "source": [
    "# ROC Curve\n",
    "plt.figure(1)\n",
    "plt.plot([0, 1], [0, 1], 'k--')\n",
    "plt.plot(fpr_rf, tpr_rf, label='Random Forest Model')\n",
    "plt.xlabel('False positive rate')\n",
    "plt.ylabel('True positive rate')\n",
    "plt.title('ROC curve - Random Forest Model')\n",
    "plt.legend(loc='best')\n",
    "plt.show()"
   ]
  },
  {
   "cell_type": "markdown",
   "metadata": {},
   "source": [
    "### 2.5 Gradient Boosting Machine "
   ]
  },
  {
   "cell_type": "markdown",
   "metadata": {},
   "source": [
    "#### 2.5.1 Base Model: GBM\n",
    "- We use 10-fold Cross Validation to get the accuracy for GBM Base Model. \n",
    "- The base model has an accuracy of 73.40%."
   ]
  },
  {
   "cell_type": "code",
   "execution_count": 438,
   "metadata": {},
   "outputs": [
    {
     "name": "stdout",
     "output_type": "stream",
     "text": [
      "Accuracy for GBM: 73.34%\n"
     ]
    }
   ],
   "source": [
    "from sklearn.ensemble import GradientBoostingClassifier as gbm\n",
    "num_trees = 100\n",
    "gbm_model = gbm(n_estimators=num_trees, random_state=16)\n",
    "cv = 10 \n",
    "results = cross_val_score(gbm_model, X_train, y_train, cv=cv)\n",
    "print(f\"Accuracy for GBM: {round(results.mean()*100, 2)}%\")"
   ]
  },
  {
   "cell_type": "markdown",
   "metadata": {},
   "source": [
    "#### 2.5.2 Model Tuning"
   ]
  },
  {
   "cell_type": "markdown",
   "metadata": {},
   "source": [
    "#### Discussion on Overfitting for Gradient Boosting Machine:\n",
    "- **We can generally address the overfitting for a gradient boosted machine in by**\n",
    "    - Reducing the number of dependent features by removing all non-significant and correlated features from the data set.\n",
    "    - Increasing the number of training examples.\n",
    "- **At this stage it might not be possible to reduce features or increase size of training dataset. In such case we use regularisation to smoothen the cost function and reduce high variance and increase bias.**\n",
    "   - Regularization via shrinkage (learning_rate < 1.0) improves performance considerably. \n",
    "   - In combination with shrinkage, stochastic gradient boosting (subsample < 1.0) can produce more accurate models by reducing the variance via bagging. \n",
    "   - Therefore, we experiment with subsample and learning rate."
   ]
  },
  {
   "cell_type": "markdown",
   "metadata": {},
   "source": [
    "#### More efficient parameter tuning using GridSearchCV: RF"
   ]
  },
  {
   "cell_type": "markdown",
   "metadata": {},
   "source": [
    "- **loss**:loss function to be optimized. ‘deviance’ refers to deviance (= logistic regression) for classification with probabilistic outputs. For loss ‘exponential’ gradient boosting recovers the AdaBoost algorithm.\n",
    "-  **learning_rate**: learning rate shrinks the contribution of each tree by learning_rate. There is a trade-off between learning_rate and n_estimators. \n",
    "- **n_estimators**: The number of boosting stages to perform. Gradient boosting is fairly robust to over-fitting so a large number usually results in better performance.\n",
    "-  **max_depth(default=3)**: maximum depth of the individual regression estimators. The maximum depth limits the number of nodes in the tree. Tune this parameter for best performance; the best value depends on the interaction of the input variables.\n",
    "-  random_state=0\n",
    "-  **subsample(default=1.0)**: The fraction of samples to be used for fitting the individual base learners. If smaller than 1.0 this results in Stochastic Gradient Boosting. subsample interacts with the parameter n_estimators. Choosing subsample < 1.0 leads to a reduction of variance and an increase in bias."
   ]
  },
  {
   "cell_type": "code",
   "execution_count": 400,
   "metadata": {
    "scrolled": true
   },
   "outputs": [
    {
     "data": {
      "text/plain": [
       "GridSearchCV(cv=None, error_score=nan,\n",
       "             estimator=GradientBoostingClassifier(ccp_alpha=0.0,\n",
       "                                                  criterion='friedman_mse',\n",
       "                                                  init=None, learning_rate=0.1,\n",
       "                                                  loss='deviance', max_depth=3,\n",
       "                                                  max_features=None,\n",
       "                                                  max_leaf_nodes=None,\n",
       "                                                  min_impurity_decrease=0.0,\n",
       "                                                  min_impurity_split=None,\n",
       "                                                  min_samples_leaf=1,\n",
       "                                                  min_samples_split=2,\n",
       "                                                  min_weight_fraction_leaf=0.0,\n",
       "                                                  n_estimators=100,\n",
       "                                                  n_iter_n...\n",
       "                                                  subsample=1.0, tol=0.0001,\n",
       "                                                  validation_fraction=0.1,\n",
       "                                                  verbose=0, warm_start=False),\n",
       "             iid='deprecated', n_jobs=None,\n",
       "             param_grid={'learning_rate': array([0.02, 0.04, 0.06, 0.08]),\n",
       "                         'loss': ['deviance', 'exponential'],\n",
       "                         'max_depth': range(2, 10),\n",
       "                         'n_estimators': range(60, 160, 50),\n",
       "                         'subsample': [1, 0.5]},\n",
       "             pre_dispatch='2*n_jobs', refit=True, return_train_score=False,\n",
       "             scoring=None, verbose=0)"
      ]
     },
     "execution_count": 400,
     "metadata": {},
     "output_type": "execute_result"
    }
   ],
   "source": [
    "from sklearn.model_selection import GridSearchCV\n",
    "param_grid = {'learning_rate': np.arange(0.02, 0.1, 0.02),\n",
    "              'n_estimators': range(60, 160, 50),\n",
    "              'max_depth': range(2, 10),\n",
    "              'loss':['deviance','exponential'],\n",
    "              'subsample':[1,0.5]}\n",
    "clf = GridSearchCV(gbm(), param_grid)\n",
    "clf.fit(X_train, y_train)"
   ]
  },
  {
   "cell_type": "code",
   "execution_count": 401,
   "metadata": {
    "scrolled": true
   },
   "outputs": [
    {
     "name": "stdout",
     "output_type": "stream",
     "text": [
      "Best hyperparameter is learning_rate: 0.06\n",
      "Best hyperparameter is loss: deviance\n",
      "Best hyperparameter is max_depth: 4\n",
      "Best hyperparameter is n_estimators: 110\n",
      "Best hyperparameter is subsample: 0.5\n"
     ]
    }
   ],
   "source": [
    "for key, val in clf.best_params_.items():\n",
    "  print(f\"Best hyperparameter is {key}: {val}\")"
   ]
  },
  {
   "cell_type": "code",
   "execution_count": 439,
   "metadata": {},
   "outputs": [],
   "source": [
    "# best gradient boosting machine \n",
    "best_GBM_model = clf.best_estimator_"
   ]
  },
  {
   "cell_type": "code",
   "execution_count": 403,
   "metadata": {
    "scrolled": true
   },
   "outputs": [
    {
     "data": {
      "text/plain": [
       "GradientBoostingClassifier(ccp_alpha=0.0, criterion='friedman_mse', init=None,\n",
       "                           learning_rate=0.06, loss='deviance', max_depth=4,\n",
       "                           max_features=None, max_leaf_nodes=None,\n",
       "                           min_impurity_decrease=0.0, min_impurity_split=None,\n",
       "                           min_samples_leaf=1, min_samples_split=2,\n",
       "                           min_weight_fraction_leaf=0.0, n_estimators=110,\n",
       "                           n_iter_no_change=None, presort='deprecated',\n",
       "                           random_state=None, subsample=0.5, tol=0.0001,\n",
       "                           validation_fraction=0.1, verbose=0,\n",
       "                           warm_start=False)"
      ]
     },
     "execution_count": 403,
     "metadata": {},
     "output_type": "execute_result"
    }
   ],
   "source": [
    "best_GBM_model.fit(X_train, y_train)"
   ]
  },
  {
   "cell_type": "markdown",
   "metadata": {},
   "source": [
    "#### 2.5.3 Model Performance Evluation"
   ]
  },
  {
   "cell_type": "markdown",
   "metadata": {},
   "source": [
    "#### Get Repeated Hold Out Accurary of Optimal GBM Model"
   ]
  },
  {
   "cell_type": "markdown",
   "metadata": {},
   "source": [
    "- **Cross validation:** Use 10-fold Cross Validation to give a more accurate indication of how well the model generalizes to unseen data.\n",
    "- **Model Performance Evaluation:** The model accuracy of the RF model is 73.42% "
   ]
  },
  {
   "cell_type": "code",
   "execution_count": 575,
   "metadata": {},
   "outputs": [
    {
     "data": {
      "text/plain": [
       "0.7332868811129081"
      ]
     },
     "execution_count": 575,
     "metadata": {},
     "output_type": "execute_result"
    }
   ],
   "source": [
    "gbm_pipe = make_pipeline(best_GBM_model)\n",
    "gbm_pipe.fit(X_train, y_train)\n",
    "pipe_pred = gbm_pipe.predict(X_test)\n",
    "from sklearn.model_selection import KFold\n",
    "cv = KFold(n_splits=10, shuffle=True, random_state=16)\n",
    "cross_val_score(gbm_pipe, X_train, y_train, cv=cv).mean()"
   ]
  },
  {
   "cell_type": "code",
   "execution_count": 577,
   "metadata": {},
   "outputs": [
    {
     "name": "stdout",
     "output_type": "stream",
     "text": [
      "cv_acc_mean 0.7333\n"
     ]
    }
   ],
   "source": [
    "print('cv_acc_mean',round(cross_val_score(gbm_pipe, X_train, y_train, cv=cv).mean(),4))"
   ]
  },
  {
   "cell_type": "code",
   "execution_count": 578,
   "metadata": {},
   "outputs": [
    {
     "name": "stdout",
     "output_type": "stream",
     "text": [
      "cv_acc_std 0.0061\n"
     ]
    }
   ],
   "source": [
    "print('cv_acc_std',round(cross_val_score(gbm_pipe, X_train, y_train, cv=cv).std(),4))"
   ]
  },
  {
   "cell_type": "markdown",
   "metadata": {},
   "source": [
    "#### Confusion Matrix"
   ]
  },
  {
   "cell_type": "code",
   "execution_count": 573,
   "metadata": {},
   "outputs": [],
   "source": [
    "y_pred_gbm = best_GBM_model.predict(X_test)"
   ]
  },
  {
   "cell_type": "code",
   "execution_count": 574,
   "metadata": {},
   "outputs": [
    {
     "name": "stdout",
     "output_type": "stream",
     "text": [
      "Accuracy: 0.7369\n",
      "Precision: 0.7579\n",
      "Recall: 0.712\n",
      "F1-Score: 0.7343\n",
      "ROC AUC Score: 0.7374\n"
     ]
    }
   ],
   "source": [
    "print(f\"Accuracy: {round(metrics.accuracy_score(y_test, y_pred_gbm), 4)}\")\n",
    "print(f\"Precision: {round(metrics.precision_score(y_test, y_pred_gbm), 4)}\")\n",
    "print(f\"Recall: {round(metrics.recall_score(y_test, y_pred_gbm), 4)}\")\n",
    "print(f\"F1-Score: {round(metrics.f1_score(y_test,y_pred_gbm), 4)}\")\n",
    "print(f\"ROC AUC Score: {round(metrics.roc_auc_score(y_test, y_pred_gbm), 4)}\")"
   ]
  },
  {
   "cell_type": "code",
   "execution_count": 407,
   "metadata": {
    "scrolled": true
   },
   "outputs": [
    {
     "name": "stdout",
     "output_type": "stream",
     "text": [
      "              precision    recall  f1-score   support\n",
      "\n",
      "           0       0.72      0.76      0.74      6938\n",
      "           1       0.76      0.71      0.73      7237\n",
      "\n",
      "    accuracy                           0.74     14175\n",
      "   macro avg       0.74      0.74      0.74     14175\n",
      "weighted avg       0.74      0.74      0.74     14175\n",
      "\n"
     ]
    }
   ],
   "source": [
    "print(metrics.classification_report(y_test,y_pred_gbm))"
   ]
  },
  {
   "cell_type": "markdown",
   "metadata": {},
   "source": [
    "#### ROC and AUC for GBM"
   ]
  },
  {
   "cell_type": "code",
   "execution_count": 408,
   "metadata": {
    "scrolled": true
   },
   "outputs": [],
   "source": [
    "# Use predict_proba to get the probability results of KNN Model\n",
    "y_pred_gbm = best_GBM_model.predict_proba(X_test)[:, 1]\n",
    "fpr_gbm, tpr_gbm, thresh = roc_curve(y_test, y_pred_gbm)"
   ]
  },
  {
   "cell_type": "code",
   "execution_count": 409,
   "metadata": {
    "scrolled": true
   },
   "outputs": [
    {
     "data": {
      "text/plain": [
       "0.8026573867126005"
      ]
     },
     "execution_count": 409,
     "metadata": {},
     "output_type": "execute_result"
    }
   ],
   "source": [
    "# AUC score\n",
    "metrics.auc(fpr_gbm,tpr_gbm)"
   ]
  },
  {
   "cell_type": "code",
   "execution_count": 580,
   "metadata": {
    "scrolled": false
   },
   "outputs": [
    {
     "data": {
      "image/png": "[encoded data removed]",
      "text/plain": [
       "<Figure size 432x288 with 1 Axes>"
      ]
     },
     "metadata": {
      "needs_background": "light"
     },
     "output_type": "display_data"
    }
   ],
   "source": [
    "# ROC Curve\n",
    "plt.figure(1)\n",
    "plt.plot([0, 1], [0, 1], 'k--')\n",
    "plt.plot(fpr_gbm, tpr_gbm, label='GBM Model')\n",
    "plt.xlabel('False positive rate')\n",
    "plt.ylabel('True positive rate')\n",
    "plt.title('ROC curve - GBM Model')\n",
    "plt.legend(loc='best')\n",
    "plt.show()"
   ]
  },
  {
   "cell_type": "markdown",
   "metadata": {},
   "source": [
    "## Section 3: Predcition and Interpretation"
   ]
  },
  {
   "cell_type": "markdown",
   "metadata": {},
   "source": [
    "### 3.1 Load and Process Testing Data\n",
    "- The training and testing data should undergo the same data preparation steps or the predictive model will not make sense."
   ]
  },
  {
   "cell_type": "markdown",
   "metadata": {},
   "source": [
    "#### Test_df Basic Info"
   ]
  },
  {
   "cell_type": "code",
   "execution_count": 414,
   "metadata": {},
   "outputs": [
    {
     "name": "stdout",
     "output_type": "stream",
     "text": [
      "Number of rows: 21000\n",
      "Number of columns: 11\n"
     ]
    },
    {
     "data": {
      "text/html": [
       "<div>\n",
       "<style scoped>\n",
       "    .dataframe tbody tr th:only-of-type {\n",
       "        vertical-align: middle;\n",
       "    }\n",
       "\n",
       "    .dataframe tbody tr th {\n",
       "        vertical-align: top;\n",
       "    }\n",
       "\n",
       "    .dataframe thead th {\n",
       "        text-align: right;\n",
       "    }\n",
       "</style>\n",
       "<table border=\"1\" class=\"dataframe\">\n",
       "  <thead>\n",
       "    <tr style=\"text-align: right;\">\n",
       "      <th></th>\n",
       "      <th>Age</th>\n",
       "      <th>Gender</th>\n",
       "      <th>Height</th>\n",
       "      <th>Weight</th>\n",
       "      <th>High_Blood_Pressure</th>\n",
       "      <th>Low_Blood_Pressure</th>\n",
       "      <th>Cholesterol</th>\n",
       "      <th>Glucose</th>\n",
       "      <th>Smoke</th>\n",
       "      <th>Alcohol</th>\n",
       "      <th>Exercise</th>\n",
       "    </tr>\n",
       "    <tr>\n",
       "      <th>ID</th>\n",
       "      <th></th>\n",
       "      <th></th>\n",
       "      <th></th>\n",
       "      <th></th>\n",
       "      <th></th>\n",
       "      <th></th>\n",
       "      <th></th>\n",
       "      <th></th>\n",
       "      <th></th>\n",
       "      <th></th>\n",
       "      <th></th>\n",
       "    </tr>\n",
       "  </thead>\n",
       "  <tbody>\n",
       "    <tr>\n",
       "      <th>0</th>\n",
       "      <td>44</td>\n",
       "      <td>female</td>\n",
       "      <td>160</td>\n",
       "      <td>59.0</td>\n",
       "      <td>100</td>\n",
       "      <td>80</td>\n",
       "      <td>high</td>\n",
       "      <td>normal</td>\n",
       "      <td>0</td>\n",
       "      <td>0</td>\n",
       "      <td>1</td>\n",
       "    </tr>\n",
       "    <tr>\n",
       "      <th>1</th>\n",
       "      <td>41</td>\n",
       "      <td>female</td>\n",
       "      <td>169</td>\n",
       "      <td>74.0</td>\n",
       "      <td>120</td>\n",
       "      <td>70</td>\n",
       "      <td>normal</td>\n",
       "      <td>normal</td>\n",
       "      <td>0</td>\n",
       "      <td>0</td>\n",
       "      <td>1</td>\n",
       "    </tr>\n",
       "    <tr>\n",
       "      <th>2</th>\n",
       "      <td>63</td>\n",
       "      <td>male</td>\n",
       "      <td>168</td>\n",
       "      <td>84.0</td>\n",
       "      <td>120</td>\n",
       "      <td>80</td>\n",
       "      <td>normal</td>\n",
       "      <td>high</td>\n",
       "      <td>0</td>\n",
       "      <td>0</td>\n",
       "      <td>1</td>\n",
       "    </tr>\n",
       "  </tbody>\n",
       "</table>\n",
       "</div>"
      ],
      "text/plain": [
       "    Age  Gender  Height  Weight  High_Blood_Pressure  Low_Blood_Pressure  \\\n",
       "ID                                                                         \n",
       "0    44  female     160    59.0                  100                  80   \n",
       "1    41  female     169    74.0                  120                  70   \n",
       "2    63    male     168    84.0                  120                  80   \n",
       "\n",
       "   Cholesterol Glucose  Smoke  Alcohol  Exercise  \n",
       "ID                                                \n",
       "0         high  normal      0        0         1  \n",
       "1       normal  normal      0        0         1  \n",
       "2       normal    high      0        0         1  "
      ]
     },
     "execution_count": 414,
     "metadata": {},
     "output_type": "execute_result"
    }
   ],
   "source": [
    "# test_df\n",
    "print('Number of rows:', test_df.shape[0])\n",
    "print('Number of columns:', test_df.shape[1])\n",
    "\n",
    "# rename the high and low blood pressure columns\n",
    "test_df.rename(columns={'High Blood Pressure':'High_Blood_Pressure',\n",
    "                         'Low Blood Pressure':'Low_Blood_Pressure'},inplace=True)\n",
    "# print test_df\n",
    "test_df.head(3)"
   ]
  },
  {
   "cell_type": "markdown",
   "metadata": {},
   "source": [
    "#### Missing values "
   ]
  },
  {
   "cell_type": "code",
   "execution_count": 415,
   "metadata": {},
   "outputs": [
    {
     "data": {
      "text/plain": [
       "Age                    0\n",
       "Gender                 0\n",
       "Height                 0\n",
       "Weight                 0\n",
       "High_Blood_Pressure    0\n",
       "Low_Blood_Pressure     0\n",
       "Cholesterol            0\n",
       "Glucose                0\n",
       "Smoke                  0\n",
       "Alcohol                0\n",
       "Exercise               0\n",
       "dtype: int64"
      ]
     },
     "execution_count": 415,
     "metadata": {},
     "output_type": "execute_result"
    }
   ],
   "source": [
    "# check for missing values \n",
    "test_df.isnull().sum(axis=0)"
   ]
  },
  {
   "cell_type": "markdown",
   "metadata": {},
   "source": [
    "#### Duplicates"
   ]
  },
  {
   "cell_type": "code",
   "execution_count": 417,
   "metadata": {},
   "outputs": [
    {
     "name": "stdout",
     "output_type": "stream",
     "text": [
      "No duplicated rows\n",
      "Number of rows after removing duplicates: 20434\n",
      "Number of duplicate rows removed: 566\n"
     ]
    }
   ],
   "source": [
    "# check for duplicates \n",
    "if test_df.duplicated().sum()==0:\n",
    "    print('No duplicated rows')\n",
    "else:\n",
    "    print('There are duplicates rows in the dataset.')\n",
    "test_df.drop_duplicates(inplace=True)\n",
    "print(\"Number of rows after removing duplicates:\", test_df.shape[0])\n",
    "print(\"Number of duplicate rows removed:\", 21000-test_df.shape[0])"
   ]
  },
  {
   "cell_type": "markdown",
   "metadata": {},
   "source": [
    "#### Outliers"
   ]
  },
  {
   "cell_type": "code",
   "execution_count": 418,
   "metadata": {},
   "outputs": [
    {
     "name": "stderr",
     "output_type": "stream",
     "text": [
      "/Users/jieerchen/opt/anaconda3/lib/python3.7/site-packages/pandas/core/indexing.py:671: SettingWithCopyWarning:\n",
      "\n",
      "\n",
      "A value is trying to be set on a copy of a slice from a DataFrame\n",
      "\n",
      "See the caveats in the documentation: https://pandas.pydata.org/pandas-docs/stable/user_guide/indexing.html#returning-a-view-versus-a-copy\n",
      "\n"
     ]
    }
   ],
   "source": [
    "# preprocess outliers \n",
    "outliers_cols = ['Age','Height','Weight','High_Blood_Pressure','Low_Blood_Pressure']\n",
    "for target_col in outliers_cols:\n",
    "    '''\n",
    "    For each numeric column, we use IQR method to identify outliers.\n",
    "    Column values higher than the upper bound are set to upper bound values.\n",
    "    Column values lower thatn the lower bound value are set to lower bound values.\n",
    "    \n",
    "    '''\n",
    "    lower_quartile = test_df[target_col].quantile(0.25)\n",
    "    upper_quartile = test_df[target_col].quantile(0.75)\n",
    "    IQR = upper_quartile - lower_quartile\n",
    "    outlier_thresh = 1.5 * IQR\n",
    "    # get upper/lower bound\n",
    "    upper_bound = lower_quartile + outlier_thresh\n",
    "    lower_bound = lower_quartile - outlier_thresh\n",
    "    # winsorization\n",
    "    test_df[target_col].loc[test_df[target_col] > upper_bound] = upper_bound\n",
    "    test_df[target_col].loc[test_df[target_col] < lower_bound] = lower_bound\n"
   ]
  },
  {
   "cell_type": "markdown",
   "metadata": {},
   "source": [
    "#### Negative values "
   ]
  },
  {
   "cell_type": "code",
   "execution_count": 419,
   "metadata": {},
   "outputs": [
    {
     "name": "stdout",
     "output_type": "stream",
     "text": [
      "Number of negatives values in High Blood Pressure Column: 0\n"
     ]
    }
   ],
   "source": [
    "# number of rows with negative values in High_Blood_Pressure\n",
    "negative_values = sum( n <0 for n in test_df['High_Blood_Pressure'].values.flatten())\n",
    "print(\"Number of negatives values in High Blood Pressure Column:\", negative_values)"
   ]
  },
  {
   "cell_type": "markdown",
   "metadata": {},
   "source": [
    "#### Feature Encoding "
   ]
  },
  {
   "cell_type": "code",
   "execution_count": 420,
   "metadata": {},
   "outputs": [],
   "source": [
    "# categorical variables\n",
    "test_df['Gender'] = test_df['Gender'].map({'male': 0, 'female': 1})\n",
    "test_df = pd.get_dummies(test_df, columns=['Cholesterol'])\n",
    "test_df = pd.get_dummies(test_df, columns=['Glucose'])"
   ]
  },
  {
   "cell_type": "markdown",
   "metadata": {},
   "source": [
    "#### Ready for Prediction Data"
   ]
  },
  {
   "cell_type": "code",
   "execution_count": 421,
   "metadata": {
    "scrolled": true
   },
   "outputs": [
    {
     "name": "stdout",
     "output_type": "stream",
     "text": [
      "Number of rows: 20434\n",
      "Number of columns: 15\n"
     ]
    },
    {
     "data": {
      "text/html": [
       "<div>\n",
       "<style scoped>\n",
       "    .dataframe tbody tr th:only-of-type {\n",
       "        vertical-align: middle;\n",
       "    }\n",
       "\n",
       "    .dataframe tbody tr th {\n",
       "        vertical-align: top;\n",
       "    }\n",
       "\n",
       "    .dataframe thead th {\n",
       "        text-align: right;\n",
       "    }\n",
       "</style>\n",
       "<table border=\"1\" class=\"dataframe\">\n",
       "  <thead>\n",
       "    <tr style=\"text-align: right;\">\n",
       "      <th></th>\n",
       "      <th>Age</th>\n",
       "      <th>Gender</th>\n",
       "      <th>Height</th>\n",
       "      <th>Weight</th>\n",
       "      <th>High_Blood_Pressure</th>\n",
       "      <th>Low_Blood_Pressure</th>\n",
       "      <th>Smoke</th>\n",
       "      <th>Alcohol</th>\n",
       "      <th>Exercise</th>\n",
       "      <th>Cholesterol_high</th>\n",
       "      <th>Cholesterol_normal</th>\n",
       "      <th>Cholesterol_too high</th>\n",
       "      <th>Glucose_high</th>\n",
       "      <th>Glucose_normal</th>\n",
       "      <th>Glucose_too high</th>\n",
       "    </tr>\n",
       "    <tr>\n",
       "      <th>ID</th>\n",
       "      <th></th>\n",
       "      <th></th>\n",
       "      <th></th>\n",
       "      <th></th>\n",
       "      <th></th>\n",
       "      <th></th>\n",
       "      <th></th>\n",
       "      <th></th>\n",
       "      <th></th>\n",
       "      <th></th>\n",
       "      <th></th>\n",
       "      <th></th>\n",
       "      <th></th>\n",
       "      <th></th>\n",
       "      <th></th>\n",
       "    </tr>\n",
       "  </thead>\n",
       "  <tbody>\n",
       "    <tr>\n",
       "      <th>0</th>\n",
       "      <td>44.0</td>\n",
       "      <td>1</td>\n",
       "      <td>160.0</td>\n",
       "      <td>59.0</td>\n",
       "      <td>100.0</td>\n",
       "      <td>80.0</td>\n",
       "      <td>0</td>\n",
       "      <td>0</td>\n",
       "      <td>1</td>\n",
       "      <td>1</td>\n",
       "      <td>0</td>\n",
       "      <td>0</td>\n",
       "      <td>0</td>\n",
       "      <td>1</td>\n",
       "      <td>0</td>\n",
       "    </tr>\n",
       "    <tr>\n",
       "      <th>1</th>\n",
       "      <td>41.0</td>\n",
       "      <td>1</td>\n",
       "      <td>169.0</td>\n",
       "      <td>74.0</td>\n",
       "      <td>120.0</td>\n",
       "      <td>70.0</td>\n",
       "      <td>0</td>\n",
       "      <td>0</td>\n",
       "      <td>1</td>\n",
       "      <td>0</td>\n",
       "      <td>1</td>\n",
       "      <td>0</td>\n",
       "      <td>0</td>\n",
       "      <td>1</td>\n",
       "      <td>0</td>\n",
       "    </tr>\n",
       "    <tr>\n",
       "      <th>2</th>\n",
       "      <td>63.0</td>\n",
       "      <td>0</td>\n",
       "      <td>168.0</td>\n",
       "      <td>84.0</td>\n",
       "      <td>120.0</td>\n",
       "      <td>80.0</td>\n",
       "      <td>0</td>\n",
       "      <td>0</td>\n",
       "      <td>1</td>\n",
       "      <td>0</td>\n",
       "      <td>1</td>\n",
       "      <td>0</td>\n",
       "      <td>1</td>\n",
       "      <td>0</td>\n",
       "      <td>0</td>\n",
       "    </tr>\n",
       "  </tbody>\n",
       "</table>\n",
       "</div>"
      ],
      "text/plain": [
       "     Age  Gender  Height  Weight  High_Blood_Pressure  Low_Blood_Pressure  \\\n",
       "ID                                                                          \n",
       "0   44.0       1   160.0    59.0                100.0                80.0   \n",
       "1   41.0       1   169.0    74.0                120.0                70.0   \n",
       "2   63.0       0   168.0    84.0                120.0                80.0   \n",
       "\n",
       "    Smoke  Alcohol  Exercise  Cholesterol_high  Cholesterol_normal  \\\n",
       "ID                                                                   \n",
       "0       0        0         1                 1                   0   \n",
       "1       0        0         1                 0                   1   \n",
       "2       0        0         1                 0                   1   \n",
       "\n",
       "    Cholesterol_too high  Glucose_high  Glucose_normal  Glucose_too high  \n",
       "ID                                                                        \n",
       "0                      0             0               1                 0  \n",
       "1                      0             0               1                 0  \n",
       "2                      0             1               0                 0  "
      ]
     },
     "execution_count": 421,
     "metadata": {},
     "output_type": "execute_result"
    }
   ],
   "source": [
    "# test_df\n",
    "print('Number of rows:', test_df.shape[0])\n",
    "print('Number of columns:', test_df.shape[1])\n",
    "test_df.head(3)"
   ]
  },
  {
   "cell_type": "markdown",
   "metadata": {},
   "source": [
    "#### Data Scaling "
   ]
  },
  {
   "cell_type": "code",
   "execution_count": 425,
   "metadata": {
    "scrolled": true
   },
   "outputs": [
    {
     "data": {
      "text/plain": [
       "array([[0.37, 1.  , 0.53, 0.38, 0.17, 0.5 , 0.  , 0.  , 1.  , 1.  , 0.  ,\n",
       "        0.  , 0.  , 1.  , 0.  ],\n",
       "       [0.27, 1.  , 0.8 , 0.68, 0.5 , 0.17, 0.  , 0.  , 1.  , 0.  , 1.  ,\n",
       "        0.  , 0.  , 1.  , 0.  ]])"
      ]
     },
     "execution_count": 425,
     "metadata": {},
     "output_type": "execute_result"
    }
   ],
   "source": [
    "from sklearn.preprocessing import MinMaxScaler\n",
    "X_testset = test_df\n",
    "X_testset = preprocessing.MinMaxScaler().fit(X_testset).transform(X_testset)\n",
    "X_testset[0:2]"
   ]
  },
  {
   "cell_type": "markdown",
   "metadata": {},
   "source": [
    "### 3.3 Make Prediction "
   ]
  },
  {
   "cell_type": "markdown",
   "metadata": {},
   "source": [
    "#### NBC: Guassian Navie Bayes"
   ]
  },
  {
   "cell_type": "code",
   "execution_count": 602,
   "metadata": {},
   "outputs": [
    {
     "data": {
      "text/plain": [
       "array([0, 0, 1, 1, 0, 0, 0, 1, 1, 1])"
      ]
     },
     "execution_count": 602,
     "metadata": {},
     "output_type": "execute_result"
    }
   ],
   "source": [
    "NBC = gnb.predict(X_testset)\n",
    "NBC[0:10]"
   ]
  },
  {
   "cell_type": "markdown",
   "metadata": {},
   "source": [
    "#### KNN"
   ]
  },
  {
   "cell_type": "code",
   "execution_count": 603,
   "metadata": {},
   "outputs": [
    {
     "data": {
      "text/plain": [
       "array([0, 0, 0, 1, 0, 1, 0, 1, 1, 1])"
      ]
     },
     "execution_count": 603,
     "metadata": {},
     "output_type": "execute_result"
    }
   ],
   "source": [
    "KNN = best_KNN_model.predict(X_testset)\n",
    "KNN[0:10]"
   ]
  },
  {
   "cell_type": "markdown",
   "metadata": {},
   "source": [
    "#### SVM-Linear"
   ]
  },
  {
   "cell_type": "code",
   "execution_count": 604,
   "metadata": {},
   "outputs": [
    {
     "data": {
      "text/plain": [
       "array([0, 0, 1, 1, 0, 1, 0, 1, 1, 1])"
      ]
     },
     "execution_count": 604,
     "metadata": {},
     "output_type": "execute_result"
    }
   ],
   "source": [
    "SVM_Linear = best_svm_linear.predict(X_testset)\n",
    "SVM_Linear[0:10]"
   ]
  },
  {
   "cell_type": "markdown",
   "metadata": {},
   "source": [
    "#### SVM-RBF"
   ]
  },
  {
   "cell_type": "code",
   "execution_count": 606,
   "metadata": {},
   "outputs": [
    {
     "data": {
      "text/plain": [
       "array([0, 0, 0, 1, 0, 1, 0, 1, 1, 1])"
      ]
     },
     "execution_count": 606,
     "metadata": {},
     "output_type": "execute_result"
    }
   ],
   "source": [
    "SVM_RBF = best_svm_rbf.predict(X_testset)\n",
    "SVM_RBF[0:10]"
   ]
  },
  {
   "cell_type": "markdown",
   "metadata": {},
   "source": [
    "#### RF: Random Forest"
   ]
  },
  {
   "cell_type": "code",
   "execution_count": 434,
   "metadata": {},
   "outputs": [
    {
     "data": {
      "text/plain": [
       "array([0, 0, 1, 1, 0, 0, 0, 1, 1, 1])"
      ]
     },
     "execution_count": 434,
     "metadata": {},
     "output_type": "execute_result"
    }
   ],
   "source": [
    "RF = best_RF_model.predict(X_testset)\n",
    "RF[0:10]"
   ]
  },
  {
   "cell_type": "markdown",
   "metadata": {},
   "source": [
    "#### GBM: Gradient Boosting Machine"
   ]
  },
  {
   "cell_type": "code",
   "execution_count": 607,
   "metadata": {},
   "outputs": [
    {
     "data": {
      "text/plain": [
       "array([0, 0, 1, 1, 0, 1, 0, 1, 1, 1])"
      ]
     },
     "execution_count": 607,
     "metadata": {},
     "output_type": "execute_result"
    }
   ],
   "source": [
    "GBM = best_GBM_model.predict(X_testset)\n",
    "GBM[0:10]"
   ]
  },
  {
   "cell_type": "markdown",
   "metadata": {},
   "source": [
    "#### Output prediction result as a CSV file¶"
   ]
  },
  {
   "cell_type": "code",
   "execution_count": 608,
   "metadata": {},
   "outputs": [],
   "source": [
    "output_df = pd.read_csv('Disease Prediction Testing.csv')\n",
    "prediction = pd.DataFrame(list(zip(output_df['ID'], NBC,KNN,SVM_Linear,SVM_RBF,RF,GBM)),columns=['ID','NBC','KNN','SVM-Linear','SVM-RBF','RF','GBM'])\n",
    "prediction.to_csv('Disease_Prediction.csv')"
   ]
  },
  {
   "cell_type": "code",
   "execution_count": 609,
   "metadata": {},
   "outputs": [
    {
     "data": {
      "text/html": [
       "<div>\n",
       "<style scoped>\n",
       "    .dataframe tbody tr th:only-of-type {\n",
       "        vertical-align: middle;\n",
       "    }\n",
       "\n",
       "    .dataframe tbody tr th {\n",
       "        vertical-align: top;\n",
       "    }\n",
       "\n",
       "    .dataframe thead th {\n",
       "        text-align: right;\n",
       "    }\n",
       "</style>\n",
       "<table border=\"1\" class=\"dataframe\">\n",
       "  <thead>\n",
       "    <tr style=\"text-align: right;\">\n",
       "      <th></th>\n",
       "      <th>ID</th>\n",
       "      <th>NBC</th>\n",
       "      <th>KNN</th>\n",
       "      <th>SVM-Linear</th>\n",
       "      <th>SVM-RBF</th>\n",
       "      <th>RF</th>\n",
       "      <th>GBM</th>\n",
       "    </tr>\n",
       "  </thead>\n",
       "  <tbody>\n",
       "    <tr>\n",
       "      <th>0</th>\n",
       "      <td>0</td>\n",
       "      <td>0</td>\n",
       "      <td>0</td>\n",
       "      <td>0</td>\n",
       "      <td>0</td>\n",
       "      <td>0</td>\n",
       "      <td>0</td>\n",
       "    </tr>\n",
       "    <tr>\n",
       "      <th>1</th>\n",
       "      <td>1</td>\n",
       "      <td>0</td>\n",
       "      <td>0</td>\n",
       "      <td>0</td>\n",
       "      <td>0</td>\n",
       "      <td>0</td>\n",
       "      <td>0</td>\n",
       "    </tr>\n",
       "    <tr>\n",
       "      <th>2</th>\n",
       "      <td>2</td>\n",
       "      <td>1</td>\n",
       "      <td>0</td>\n",
       "      <td>1</td>\n",
       "      <td>0</td>\n",
       "      <td>1</td>\n",
       "      <td>1</td>\n",
       "    </tr>\n",
       "    <tr>\n",
       "      <th>3</th>\n",
       "      <td>3</td>\n",
       "      <td>1</td>\n",
       "      <td>1</td>\n",
       "      <td>1</td>\n",
       "      <td>1</td>\n",
       "      <td>1</td>\n",
       "      <td>1</td>\n",
       "    </tr>\n",
       "    <tr>\n",
       "      <th>4</th>\n",
       "      <td>4</td>\n",
       "      <td>0</td>\n",
       "      <td>0</td>\n",
       "      <td>0</td>\n",
       "      <td>0</td>\n",
       "      <td>0</td>\n",
       "      <td>0</td>\n",
       "    </tr>\n",
       "    <tr>\n",
       "      <th>5</th>\n",
       "      <td>5</td>\n",
       "      <td>0</td>\n",
       "      <td>1</td>\n",
       "      <td>1</td>\n",
       "      <td>1</td>\n",
       "      <td>0</td>\n",
       "      <td>1</td>\n",
       "    </tr>\n",
       "    <tr>\n",
       "      <th>6</th>\n",
       "      <td>6</td>\n",
       "      <td>0</td>\n",
       "      <td>0</td>\n",
       "      <td>0</td>\n",
       "      <td>0</td>\n",
       "      <td>0</td>\n",
       "      <td>0</td>\n",
       "    </tr>\n",
       "    <tr>\n",
       "      <th>7</th>\n",
       "      <td>7</td>\n",
       "      <td>1</td>\n",
       "      <td>1</td>\n",
       "      <td>1</td>\n",
       "      <td>1</td>\n",
       "      <td>1</td>\n",
       "      <td>1</td>\n",
       "    </tr>\n",
       "    <tr>\n",
       "      <th>8</th>\n",
       "      <td>8</td>\n",
       "      <td>1</td>\n",
       "      <td>1</td>\n",
       "      <td>1</td>\n",
       "      <td>1</td>\n",
       "      <td>1</td>\n",
       "      <td>1</td>\n",
       "    </tr>\n",
       "    <tr>\n",
       "      <th>9</th>\n",
       "      <td>9</td>\n",
       "      <td>1</td>\n",
       "      <td>1</td>\n",
       "      <td>1</td>\n",
       "      <td>1</td>\n",
       "      <td>1</td>\n",
       "      <td>1</td>\n",
       "    </tr>\n",
       "  </tbody>\n",
       "</table>\n",
       "</div>"
      ],
      "text/plain": [
       "   ID  NBC  KNN  SVM-Linear  SVM-RBF  RF  GBM\n",
       "0   0    0    0           0        0   0    0\n",
       "1   1    0    0           0        0   0    0\n",
       "2   2    1    0           1        0   1    1\n",
       "3   3    1    1           1        1   1    1\n",
       "4   4    0    0           0        0   0    0\n",
       "5   5    0    1           1        1   0    1\n",
       "6   6    0    0           0        0   0    0\n",
       "7   7    1    1           1        1   1    1\n",
       "8   8    1    1           1        1   1    1\n",
       "9   9    1    1           1        1   1    1"
      ]
     },
     "execution_count": 609,
     "metadata": {},
     "output_type": "execute_result"
    }
   ],
   "source": [
    "prediction.head(10)"
   ]
  },
  {
   "cell_type": "markdown",
   "metadata": {},
   "source": [
    "### 3.3 Model Performance Summary and Interpretation"
   ]
  },
  {
   "cell_type": "code",
   "execution_count": 631,
   "metadata": {},
   "outputs": [],
   "source": [
    "model_performance = {'Metrics': ['Accuracy','Precision','Recall','F1-Score','CV_mean','CV_std','ROC_AUC','Parameters'], \n",
    "           'Gussain': [0.6874, 0.7367,0.6034,0.6634,0.6885,0.0108,0.6892,'None'],\n",
    "           'KNN':[0.7307,0.7592,0.6919,0.724,0.7243,0.0064,0.7248,'metric : manhattan,n_neighbors : 29,weights : uniform'],\n",
    "           'SVM_Linear':[0.7307,0.7592,0.6919,0.724,0.7267,0.0058,0.7315,'penalty: l2,C: 0.25'],\n",
    "           'SVM_RBF':[0.7329,0.7688,0.6819,0.7228,0.7311,0.0057,0.7340,'C: 0.7,gamma: 0.5'],  \n",
    "           'RF':[0.7356,0.7717,0.6847,0.7256,0.7296,0.006,0.7367,'criterion : entropy,max_depth : 10,max_features : sqrt,n_estimators : 30'],\n",
    "           'GBM':[0.7369, 0.7579,0.712,0.7343,0.7333,0.0061, 0.7374,'learning_rate: 0.06,loss: deviance,max_depth: 4,n_estimators: 110,subsample: 0.5']}\n",
    "                  \n",
    "model_performance = pd.DataFrame(data= model_performance)\n",
    "model_performance.set_index('Metrics',inplace=True)"
   ]
  },
  {
   "cell_type": "markdown",
   "metadata": {},
   "source": [
    "#### 3.3.2 Summary and Interpretation of each Individual Model"
   ]
  },
  {
   "cell_type": "markdown",
   "metadata": {},
   "source": [
    "#### 1. Summary and Interpretation of each Individual Model: Navie Bayes Algorithm"
   ]
  },
  {
   "cell_type": "code",
   "execution_count": 593,
   "metadata": {
    "scrolled": false
   },
   "outputs": [
    {
     "data": {
      "text/html": [
       "<div>\n",
       "<style scoped>\n",
       "    .dataframe tbody tr th:only-of-type {\n",
       "        vertical-align: middle;\n",
       "    }\n",
       "\n",
       "    .dataframe tbody tr th {\n",
       "        vertical-align: top;\n",
       "    }\n",
       "\n",
       "    .dataframe thead th {\n",
       "        text-align: right;\n",
       "    }\n",
       "</style>\n",
       "<table border=\"1\" class=\"dataframe\">\n",
       "  <thead>\n",
       "    <tr style=\"text-align: right;\">\n",
       "      <th></th>\n",
       "      <th>Metrics</th>\n",
       "      <th>Gussain</th>\n",
       "      <th>Multilnomial</th>\n",
       "      <th>Bernoulli</th>\n",
       "    </tr>\n",
       "  </thead>\n",
       "  <tbody>\n",
       "    <tr>\n",
       "      <th>0</th>\n",
       "      <td>Accuracy</td>\n",
       "      <td>0.6874</td>\n",
       "      <td>0.6140</td>\n",
       "      <td>0.5898</td>\n",
       "    </tr>\n",
       "    <tr>\n",
       "      <th>1</th>\n",
       "      <td>Precision</td>\n",
       "      <td>0.7367</td>\n",
       "      <td>0.6851</td>\n",
       "      <td>0.6651</td>\n",
       "    </tr>\n",
       "    <tr>\n",
       "      <th>2</th>\n",
       "      <td>Recall</td>\n",
       "      <td>0.6034</td>\n",
       "      <td>0.4513</td>\n",
       "      <td>0.3960</td>\n",
       "    </tr>\n",
       "    <tr>\n",
       "      <th>3</th>\n",
       "      <td>F1-Score</td>\n",
       "      <td>0.6634</td>\n",
       "      <td>0.5442</td>\n",
       "      <td>0.4964</td>\n",
       "    </tr>\n",
       "    <tr>\n",
       "      <th>4</th>\n",
       "      <td>CV_mean</td>\n",
       "      <td>0.6885</td>\n",
       "      <td>0.6109</td>\n",
       "      <td>0.5882</td>\n",
       "    </tr>\n",
       "    <tr>\n",
       "      <th>5</th>\n",
       "      <td>CV_std</td>\n",
       "      <td>0.0108</td>\n",
       "      <td>0.0111</td>\n",
       "      <td>0.0100</td>\n",
       "    </tr>\n",
       "    <tr>\n",
       "      <th>6</th>\n",
       "      <td>AUC</td>\n",
       "      <td>0.6892</td>\n",
       "      <td>0.6175</td>\n",
       "      <td>0.5940</td>\n",
       "    </tr>\n",
       "  </tbody>\n",
       "</table>\n",
       "</div>"
      ],
      "text/plain": [
       "     Metrics  Gussain  Multilnomial  Bernoulli\n",
       "0   Accuracy   0.6874        0.6140     0.5898\n",
       "1  Precision   0.7367        0.6851     0.6651\n",
       "2     Recall   0.6034        0.4513     0.3960\n",
       "3   F1-Score   0.6634        0.5442     0.4964\n",
       "4    CV_mean   0.6885        0.6109     0.5882\n",
       "5     CV_std   0.0108        0.0111     0.0100\n",
       "6        AUC   0.6892        0.6175     0.5940"
      ]
     },
     "execution_count": 593,
     "metadata": {},
     "output_type": "execute_result"
    }
   ],
   "source": [
    "nym_performance "
   ]
  },
  {
   "cell_type": "markdown",
   "metadata": {},
   "source": [
    "- **Gussain NB model has outperformed the other two model given that it has the highest values for Accuracy(0.6874), Precision(0.7367), Recall(0.6034) and largest AUC (0.6892).** \n",
    "     - **Accuracy**: 0.74% of the predictions made by the model are correct.\n",
    "     - **Precision** (0.60 for disease = 1): 60% of the cases are correctly predicted among all the cases that are predicted as having disease.\n",
    "     - **Recall** (0.66 for disease =1): 66% of the cases are correctly identified by the model among all the cases are diagnoised with disease \n",
    "     - **F-1 score 0.66**: F-1 score is 66%. It takes into consideration of both Precision and Recall.\n",
    "     - **AUC**: Gussain NB model has the largest area under the curve: 0.76, indicating that Gussain NB model is the most useful among all.\n",
    "     - **Cross validation accuracy (mean & std)**: we also observe that the variations of model accuracy for each model is small and that they have relatively unbaised performance and low variances.\n",
    "- **Adtional Comments on the NB model Performance**\n",
    "    - Naive Bayes classifier assumes that the presence of a particular feature in a class is unrelated to the presence of any other feature. However, in real life, it is almost impossible that we get a set of predictors which are completely independent. \n",
    "    - According to our previous correlation matrix, we see that many of our variables are correlated with others. This could be one of the reason that we are not achieving higher accuracy that we've got."
   ]
  },
  {
   "cell_type": "markdown",
   "metadata": {},
   "source": [
    "#### 2. Summary and Interpretation: KNN "
   ]
  },
  {
   "cell_type": "code",
   "execution_count": 601,
   "metadata": {},
   "outputs": [
    {
     "data": {
      "text/html": [
       "<div>\n",
       "<style scoped>\n",
       "    .dataframe tbody tr th:only-of-type {\n",
       "        vertical-align: middle;\n",
       "    }\n",
       "\n",
       "    .dataframe tbody tr th {\n",
       "        vertical-align: top;\n",
       "    }\n",
       "\n",
       "    .dataframe thead th {\n",
       "        text-align: right;\n",
       "    }\n",
       "</style>\n",
       "<table border=\"1\" class=\"dataframe\">\n",
       "  <thead>\n",
       "    <tr style=\"text-align: right;\">\n",
       "      <th></th>\n",
       "      <th>KNN</th>\n",
       "    </tr>\n",
       "    <tr>\n",
       "      <th>Metrics</th>\n",
       "      <th></th>\n",
       "    </tr>\n",
       "  </thead>\n",
       "  <tbody>\n",
       "    <tr>\n",
       "      <th>Accuracy</th>\n",
       "      <td>0.7307</td>\n",
       "    </tr>\n",
       "    <tr>\n",
       "      <th>Precision</th>\n",
       "      <td>0.7592</td>\n",
       "    </tr>\n",
       "    <tr>\n",
       "      <th>Recall</th>\n",
       "      <td>0.6919</td>\n",
       "    </tr>\n",
       "    <tr>\n",
       "      <th>F1-Score</th>\n",
       "      <td>0.724</td>\n",
       "    </tr>\n",
       "    <tr>\n",
       "      <th>CV_mean</th>\n",
       "      <td>0.7243</td>\n",
       "    </tr>\n",
       "    <tr>\n",
       "      <th>CV_std</th>\n",
       "      <td>0.0064</td>\n",
       "    </tr>\n",
       "    <tr>\n",
       "      <th>ROC_AUC</th>\n",
       "      <td>0.7248</td>\n",
       "    </tr>\n",
       "    <tr>\n",
       "      <th>Parameters</th>\n",
       "      <td>metric : manhattan,n_neighbors : 29,weights : uniform</td>\n",
       "    </tr>\n",
       "  </tbody>\n",
       "</table>\n",
       "</div>"
      ],
      "text/plain": [
       "                                                              KNN\n",
       "Metrics                                                          \n",
       "Accuracy                                                   0.7307\n",
       "Precision                                                  0.7592\n",
       "Recall                                                     0.6919\n",
       "F1-Score                                                    0.724\n",
       "CV_mean                                                    0.7243\n",
       "CV_std                                                     0.0064\n",
       "ROC_AUC                                                    0.7248\n",
       "Parameters  metric : manhattan,n_neighbors : 29,weights : uniform"
      ]
     },
     "execution_count": 601,
     "metadata": {},
     "output_type": "execute_result"
    }
   ],
   "source": [
    "model_performance[['KNN']]"
   ]
  },
  {
   "cell_type": "markdown",
   "metadata": {},
   "source": [
    "- **Confusion Matrices**\n",
    "     - **Accuracy**: around 73.07% of the predictions made by the model are correct.\n",
    "     - **Precision** (0.7592 for disease = 1): around 75.92% of the cases are correctly predicted among all the cases that are predicted as having disease.\n",
    "     - **Recall** (0.6919 for disease =1): around 69.19% of the cases are correctly identified by the model among all the cases are diagnoised with disease \n",
    "     - **F-1 score 0.72**: F-1 score is 0.724. It takes into consideration of both Precision and Recall.\n",
    "- **ROC curve and AUC score**\n",
    "    - **Result**: The AUC of the best KNN model is around 0.0064.\n",
    "- **Cross-validation to help in identifying a case of overfitting**\n",
    "    - **Result:** The average accuracy is around 0.7248. "
   ]
  },
  {
   "cell_type": "markdown",
   "metadata": {},
   "source": [
    "#### 3. Summary and Interpretation: SVM"
   ]
  },
  {
   "cell_type": "code",
   "execution_count": 600,
   "metadata": {},
   "outputs": [
    {
     "data": {
      "text/html": [
       "<div>\n",
       "<style scoped>\n",
       "    .dataframe tbody tr th:only-of-type {\n",
       "        vertical-align: middle;\n",
       "    }\n",
       "\n",
       "    .dataframe tbody tr th {\n",
       "        vertical-align: top;\n",
       "    }\n",
       "\n",
       "    .dataframe thead th {\n",
       "        text-align: right;\n",
       "    }\n",
       "</style>\n",
       "<table border=\"1\" class=\"dataframe\">\n",
       "  <thead>\n",
       "    <tr style=\"text-align: right;\">\n",
       "      <th></th>\n",
       "      <th>SVM_Linear</th>\n",
       "      <th>SVM_RBF</th>\n",
       "    </tr>\n",
       "    <tr>\n",
       "      <th>Metrics</th>\n",
       "      <th></th>\n",
       "      <th></th>\n",
       "    </tr>\n",
       "  </thead>\n",
       "  <tbody>\n",
       "    <tr>\n",
       "      <th>Accuracy</th>\n",
       "      <td>0.7307</td>\n",
       "      <td>0.7329</td>\n",
       "    </tr>\n",
       "    <tr>\n",
       "      <th>Precision</th>\n",
       "      <td>0.7592</td>\n",
       "      <td>0.7688</td>\n",
       "    </tr>\n",
       "    <tr>\n",
       "      <th>Recall</th>\n",
       "      <td>0.6919</td>\n",
       "      <td>0.6819</td>\n",
       "    </tr>\n",
       "    <tr>\n",
       "      <th>F1-Score</th>\n",
       "      <td>0.724</td>\n",
       "      <td>0.7228</td>\n",
       "    </tr>\n",
       "    <tr>\n",
       "      <th>CV_mean</th>\n",
       "      <td>0.7267</td>\n",
       "      <td>0.7311</td>\n",
       "    </tr>\n",
       "    <tr>\n",
       "      <th>CV_std</th>\n",
       "      <td>0.0058</td>\n",
       "      <td>0.0057</td>\n",
       "    </tr>\n",
       "    <tr>\n",
       "      <th>ROC_AUC</th>\n",
       "      <td>0.7315</td>\n",
       "      <td>0.734</td>\n",
       "    </tr>\n",
       "    <tr>\n",
       "      <th>Parameters</th>\n",
       "      <td>penalty: l2,C: 0.25</td>\n",
       "      <td>C: 0.7,gamma: 0.5</td>\n",
       "    </tr>\n",
       "  </tbody>\n",
       "</table>\n",
       "</div>"
      ],
      "text/plain": [
       "                     SVM_Linear            SVM_RBF\n",
       "Metrics                                           \n",
       "Accuracy                 0.7307             0.7329\n",
       "Precision                0.7592             0.7688\n",
       "Recall                   0.6919             0.6819\n",
       "F1-Score                  0.724             0.7228\n",
       "CV_mean                  0.7267             0.7311\n",
       "CV_std                   0.0058             0.0057\n",
       "ROC_AUC                  0.7315              0.734\n",
       "Parameters  penalty: l2,C: 0.25  C: 0.7,gamma: 0.5"
      ]
     },
     "execution_count": 600,
     "metadata": {},
     "output_type": "execute_result"
    }
   ],
   "source": [
    "model_performance[['SVM_Linear','SVM_RBF']]"
   ]
  },
  {
   "cell_type": "markdown",
   "metadata": {},
   "source": [
    "#### SVM Linear and SVM RBF has very close performance. If we give more weight to cross validation accuracy and AUC score, SVM RBF perform slightly better than SVM Linear. \n",
    "- **Confusion Matrix**\n",
    "    - SCM Linear has higher precission while SVM RBF has higher recall. Therefore, we would look at the F1-score which takes into consideration of both precision and recall. As a reseult, SVM Linear has sightly better performance.\n",
    "- **Cross-validation to help in identifying a case of overfitting**\n",
    "    - **Result:** SVM RBF has a higher cross valiation mean accuarcy score (0.7311 compared to 0.0058) and lower cross validation standard deviation accuracy score(0,0057 compared to 0.7267). \n",
    "- **ROC curve and AUC score**\n",
    "    - **Result**: The AUC of the best SVM model is around 0.734."
   ]
  },
  {
   "cell_type": "markdown",
   "metadata": {},
   "source": [
    "#### 4 Summary and Interpretation: RF"
   ]
  },
  {
   "cell_type": "code",
   "execution_count": 611,
   "metadata": {
    "scrolled": true
   },
   "outputs": [
    {
     "data": {
      "text/html": [
       "<div>\n",
       "<style scoped>\n",
       "    .dataframe tbody tr th:only-of-type {\n",
       "        vertical-align: middle;\n",
       "    }\n",
       "\n",
       "    .dataframe tbody tr th {\n",
       "        vertical-align: top;\n",
       "    }\n",
       "\n",
       "    .dataframe thead th {\n",
       "        text-align: right;\n",
       "    }\n",
       "</style>\n",
       "<table border=\"1\" class=\"dataframe\">\n",
       "  <thead>\n",
       "    <tr style=\"text-align: right;\">\n",
       "      <th></th>\n",
       "      <th>RF</th>\n",
       "    </tr>\n",
       "    <tr>\n",
       "      <th>Metrics</th>\n",
       "      <th></th>\n",
       "    </tr>\n",
       "  </thead>\n",
       "  <tbody>\n",
       "    <tr>\n",
       "      <th>Accuracy</th>\n",
       "      <td>0.7356</td>\n",
       "    </tr>\n",
       "    <tr>\n",
       "      <th>Precision</th>\n",
       "      <td>0.7717</td>\n",
       "    </tr>\n",
       "    <tr>\n",
       "      <th>Recall</th>\n",
       "      <td>0.6847</td>\n",
       "    </tr>\n",
       "    <tr>\n",
       "      <th>F1-Score</th>\n",
       "      <td>0.7256</td>\n",
       "    </tr>\n",
       "    <tr>\n",
       "      <th>CV_mean</th>\n",
       "      <td>0.7296</td>\n",
       "    </tr>\n",
       "    <tr>\n",
       "      <th>CV_std</th>\n",
       "      <td>0.006</td>\n",
       "    </tr>\n",
       "    <tr>\n",
       "      <th>ROC_AUC</th>\n",
       "      <td>0.7367</td>\n",
       "    </tr>\n",
       "    <tr>\n",
       "      <th>Parameters</th>\n",
       "      <td>criterion : entropy,max_depth : 10,max_features : sqrt,n_estimators : 30</td>\n",
       "    </tr>\n",
       "  </tbody>\n",
       "</table>\n",
       "</div>"
      ],
      "text/plain": [
       "                                                                                  RF\n",
       "Metrics                                                                             \n",
       "Accuracy                                                                      0.7356\n",
       "Precision                                                                     0.7717\n",
       "Recall                                                                        0.6847\n",
       "F1-Score                                                                      0.7256\n",
       "CV_mean                                                                       0.7296\n",
       "CV_std                                                                         0.006\n",
       "ROC_AUC                                                                       0.7367\n",
       "Parameters  criterion : entropy,max_depth : 10,max_features : sqrt,n_estimators : 30"
      ]
     },
     "execution_count": 611,
     "metadata": {},
     "output_type": "execute_result"
    }
   ],
   "source": [
    "model_performance[['RF']]"
   ]
  },
  {
   "cell_type": "code",
   "execution_count": 398,
   "metadata": {
    "scrolled": false
   },
   "outputs": [
    {
     "data": {
      "text/plain": [
       "<matplotlib.axes._subplots.AxesSubplot at 0x7f9b1e4bf950>"
      ]
     },
     "execution_count": 398,
     "metadata": {},
     "output_type": "execute_result"
    },
    {
     "data": {
      "image/png": "[encoded data removed]",
      "text/plain": [
       "<Figure size 432x288 with 1 Axes>"
      ]
     },
     "metadata": {
      "needs_background": "light"
     },
     "output_type": "display_data"
    }
   ],
   "source": [
    "importances = best_RF_model.feature_importances_\n",
    "X_index = train_df.drop('Disease',axis=1)\n",
    "feat_importances = pd.Series(best_RF_model.feature_importances_, index=X_index.columns)\n",
    "feat_importances.nlargest(12).plot(kind='barh',color=\"salmon\")"
   ]
  },
  {
   "cell_type": "code",
   "execution_count": 397,
   "metadata": {
    "scrolled": true
   },
   "outputs": [
    {
     "name": "stdout",
     "output_type": "stream",
     "text": [
      "Feature ranking:\n",
      "1. feature 4 (0.396965)\n",
      "2. feature 5 (0.210927)\n",
      "3. feature 0 (0.130146)\n",
      "4. feature 3 (0.071704)\n",
      "5. feature 11 (0.049116)\n",
      "6. feature 2 (0.045143)\n",
      "7. feature 10 (0.029585)\n",
      "8. feature 8 (0.010802)\n",
      "9. feature 9 (0.008827)\n",
      "10. feature 6 (0.008689)\n",
      "11. feature 14 (0.008522)\n",
      "12. feature 1 (0.008306)\n",
      "13. feature 7 (0.007921)\n",
      "14. feature 13 (0.007527)\n",
      "15. feature 12 (0.005820)\n"
     ]
    }
   ],
   "source": [
    "std = np.std([best_RF_model.feature_importances_ for tree in best_RF_model.estimators_],\n",
    "             axis=0)\n",
    "indices = np.argsort(importances)[::-1]\n",
    "\n",
    "# Print the feature ranking\n",
    "print(\"Feature ranking:\")\n",
    "\n",
    "for f in range(X.shape[1]):\n",
    "    print(\"%d. feature %d (%f)\" % (f + 1, indices[f], importances[indices[f]]))"
   ]
  },
  {
   "cell_type": "markdown",
   "metadata": {},
   "source": [
    "**Performance Summary**\n",
    "- **Confusion Matrices**\n",
    "     - **Accuracy**: 0.73.56% of the predictions made by the model are correct.\n",
    "     - **Precision** (0.77.17 for disease = 1): 77.17% of the cases are correctly predicted among all the cases that are predicted as having disease.\n",
    "     - **Recall** (0.6847 for disease =1): 68.47% of the cases are correctly identified by the model among all the cases are diagnoised with disease \n",
    "     - **F-1 score 0.7256**: F-1 score is 72%. It takes into consideration of both Precision and Recall.\n",
    "- **ROC curve and AUC score**\n",
    "    - **Result**: The AUC of the best RF model is around 0.7367.\n",
    "- **Cross-validation to help in identifying a case of overfitting**\n",
    "    - **Result:** The average accuracy is 0.7296. \n",
    "- **RF suggests that 6 features are informative, while the remaining are not. These features and their relative importance are**\n",
    "    1. **High_Blood_Pressure**: 0.396965\n",
    "    2. **Low_Blood_PressureWeight**: 0.210927\n",
    "    3. **Age**: 0.130146\n",
    "    4. **Weight**: 0.071704\n",
    "    5. **Cholesterol_too high**: 0.049116\n",
    "    6. **Height**: 0.045143"
   ]
  },
  {
   "cell_type": "markdown",
   "metadata": {},
   "source": [
    "#### 3.3.5  Summary and Interpretation: GBM"
   ]
  },
  {
   "cell_type": "code",
   "execution_count": 613,
   "metadata": {
    "scrolled": true
   },
   "outputs": [
    {
     "data": {
      "text/html": [
       "<div>\n",
       "<style scoped>\n",
       "    .dataframe tbody tr th:only-of-type {\n",
       "        vertical-align: middle;\n",
       "    }\n",
       "\n",
       "    .dataframe tbody tr th {\n",
       "        vertical-align: top;\n",
       "    }\n",
       "\n",
       "    .dataframe thead th {\n",
       "        text-align: right;\n",
       "    }\n",
       "</style>\n",
       "<table border=\"1\" class=\"dataframe\">\n",
       "  <thead>\n",
       "    <tr style=\"text-align: right;\">\n",
       "      <th></th>\n",
       "      <th>GBM</th>\n",
       "    </tr>\n",
       "    <tr>\n",
       "      <th>Metrics</th>\n",
       "      <th></th>\n",
       "    </tr>\n",
       "  </thead>\n",
       "  <tbody>\n",
       "    <tr>\n",
       "      <th>Accuracy</th>\n",
       "      <td>0.7369</td>\n",
       "    </tr>\n",
       "    <tr>\n",
       "      <th>Precision</th>\n",
       "      <td>0.7579</td>\n",
       "    </tr>\n",
       "    <tr>\n",
       "      <th>Recall</th>\n",
       "      <td>0.712</td>\n",
       "    </tr>\n",
       "    <tr>\n",
       "      <th>F1-Score</th>\n",
       "      <td>0.7343</td>\n",
       "    </tr>\n",
       "    <tr>\n",
       "      <th>CV_mean</th>\n",
       "      <td>0.7333</td>\n",
       "    </tr>\n",
       "    <tr>\n",
       "      <th>CV_std</th>\n",
       "      <td>0.0061</td>\n",
       "    </tr>\n",
       "    <tr>\n",
       "      <th>ROC_AUC</th>\n",
       "      <td>0.7374</td>\n",
       "    </tr>\n",
       "    <tr>\n",
       "      <th>Parameters</th>\n",
       "      <td>learning_rate: 0.06,loss: deviance,max_depth: 4,n_estimators: 110,subsample: 0.5</td>\n",
       "    </tr>\n",
       "  </tbody>\n",
       "</table>\n",
       "</div>"
      ],
      "text/plain": [
       "                                                                                         GBM\n",
       "Metrics                                                                                     \n",
       "Accuracy                                                                              0.7369\n",
       "Precision                                                                             0.7579\n",
       "Recall                                                                                 0.712\n",
       "F1-Score                                                                              0.7343\n",
       "CV_mean                                                                               0.7333\n",
       "CV_std                                                                                0.0061\n",
       "ROC_AUC                                                                               0.7374\n",
       "Parameters  learning_rate: 0.06,loss: deviance,max_depth: 4,n_estimators: 110,subsample: 0.5"
      ]
     },
     "execution_count": 613,
     "metadata": {},
     "output_type": "execute_result"
    }
   ],
   "source": [
    "model_performance[['GBM']]"
   ]
  },
  {
   "cell_type": "code",
   "execution_count": 630,
   "metadata": {
    "scrolled": false
   },
   "outputs": [
    {
     "data": {
      "text/plain": [
       "<matplotlib.axes._subplots.AxesSubplot at 0x7f9b071b8e10>"
      ]
     },
     "execution_count": 630,
     "metadata": {},
     "output_type": "execute_result"
    },
    {
     "data": {
      "image/png": "[encoded data removed]",
      "text/plain": [
       "<Figure size 432x288 with 1 Axes>"
      ]
     },
     "metadata": {
      "needs_background": "light"
     },
     "output_type": "display_data"
    }
   ],
   "source": [
    "importances_gbm = best_GBM_model.feature_importances_\n",
    "X_index = train_df.drop('Disease',axis=1)\n",
    "feat_importances_gbm = pd.Series(best_GBM_model.feature_importances_, index=X_index.columns)\n",
    "feat_importances_gbm.nlargest(12).plot(kind='barh',color=\"lightblue\")"
   ]
  },
  {
   "cell_type": "code",
   "execution_count": 629,
   "metadata": {
    "scrolled": false
   },
   "outputs": [
    {
     "name": "stdout",
     "output_type": "stream",
     "text": [
      "Feature ranking:\n",
      "1. feature 4 (0.673581)\n",
      "2. feature 0 (0.130931)\n",
      "3. feature 11 (0.048845)\n",
      "4. feature 3 (0.043179)\n",
      "5. feature 5 (0.028067)\n",
      "6. feature 10 (0.021341)\n",
      "7. feature 2 (0.020415)\n",
      "8. feature 8 (0.007134)\n",
      "9. feature 14 (0.006256)\n",
      "10. feature 6 (0.005230)\n",
      "11. feature 7 (0.004718)\n",
      "12. feature 13 (0.003354)\n",
      "13. feature 12 (0.003182)\n",
      "14. feature 1 (0.002442)\n",
      "15. feature 9 (0.001326)\n"
     ]
    }
   ],
   "source": [
    "std = np.std([best_GBM_model.feature_importances_ for tree in best_GBM_model.estimators_],\n",
    "             axis=0)\n",
    "indices = np.argsort(importances_gbm)[::-1]\n",
    "\n",
    "# Print the feature ranking\n",
    "print(\"Feature ranking:\")\n",
    "\n",
    "for f in range(X.shape[1]):\n",
    "    print(\"%d. feature %d (%f)\" % (f + 1, indices[f], importances_gbm[indices[f]]))"
   ]
  },
  {
   "cell_type": "markdown",
   "metadata": {},
   "source": [
    "- **Confusion Matrices**\n",
    "     - **Accuracy**: 0.74% of the predictions made by the model are correct.\n",
    "     - **Precision** (0.76 for disease = 1): 70% of the cases are correctly predicted among all the cases that are predicted as having disease.\n",
    "     - **Recall** (0.71 for disease =1): 72% of the cases are correctly identified by the model among all the cases are diagnoised with disease \n",
    "     - **F-1 score 0.73**: F-1 score is 72%. It takes into consideration of both Precision and Recall.\n",
    "- **ROC curve and AUC score**\n",
    "    - **Result**: The AUC of the best KNN model is around 0.8027.\n",
    "- **cross-validation to help in identifying a case of overfitting**\n",
    "    - **Result:** The average accuracy is 0.7341. \n",
    "- **GMB suggests that 4 features are informative, while the remaining are not. These features and their relative importance are**\n",
    "    1. **High_Blood_Pressure**: 0.673581\n",
    "    2. **Age**: 0.130931\n",
    "    3. **Cholesterol_too high**: 0.048845\n",
    "    4. **Weight**: 0.043179"
   ]
  },
  {
   "cell_type": "markdown",
   "metadata": {},
   "source": [
    "#### 3.3.1 Table Summary of Model Preformance: best NB, KNN, SVM, RF and GMB"
   ]
  },
  {
   "cell_type": "markdown",
   "metadata": {},
   "source": [
    "#### Table Summary"
   ]
  },
  {
   "cell_type": "code",
   "execution_count": 592,
   "metadata": {
    "scrolled": false
   },
   "outputs": [
    {
     "data": {
      "text/html": [
       "<div>\n",
       "<style scoped>\n",
       "    .dataframe tbody tr th:only-of-type {\n",
       "        vertical-align: middle;\n",
       "    }\n",
       "\n",
       "    .dataframe tbody tr th {\n",
       "        vertical-align: top;\n",
       "    }\n",
       "\n",
       "    .dataframe thead th {\n",
       "        text-align: right;\n",
       "    }\n",
       "</style>\n",
       "<table border=\"1\" class=\"dataframe\">\n",
       "  <thead>\n",
       "    <tr style=\"text-align: right;\">\n",
       "      <th></th>\n",
       "      <th>Gussain</th>\n",
       "      <th>KNN</th>\n",
       "      <th>SVM_Linear</th>\n",
       "      <th>SVM_RBF</th>\n",
       "      <th>RF</th>\n",
       "      <th>GBM</th>\n",
       "    </tr>\n",
       "    <tr>\n",
       "      <th>Metrics</th>\n",
       "      <th></th>\n",
       "      <th></th>\n",
       "      <th></th>\n",
       "      <th></th>\n",
       "      <th></th>\n",
       "      <th></th>\n",
       "    </tr>\n",
       "  </thead>\n",
       "  <tbody>\n",
       "    <tr>\n",
       "      <th>Accuracy</th>\n",
       "      <td>0.6874</td>\n",
       "      <td>0.7307</td>\n",
       "      <td>0.7307</td>\n",
       "      <td>0.7329</td>\n",
       "      <td>0.7356</td>\n",
       "      <td>0.7369</td>\n",
       "    </tr>\n",
       "    <tr>\n",
       "      <th>Precision</th>\n",
       "      <td>0.7367</td>\n",
       "      <td>0.7592</td>\n",
       "      <td>0.7592</td>\n",
       "      <td>0.7688</td>\n",
       "      <td>0.7717</td>\n",
       "      <td>0.7579</td>\n",
       "    </tr>\n",
       "    <tr>\n",
       "      <th>Recall</th>\n",
       "      <td>0.6034</td>\n",
       "      <td>0.6919</td>\n",
       "      <td>0.6919</td>\n",
       "      <td>0.6819</td>\n",
       "      <td>0.6847</td>\n",
       "      <td>0.712</td>\n",
       "    </tr>\n",
       "    <tr>\n",
       "      <th>F1-Score</th>\n",
       "      <td>0.6634</td>\n",
       "      <td>0.724</td>\n",
       "      <td>0.724</td>\n",
       "      <td>0.7228</td>\n",
       "      <td>0.7256</td>\n",
       "      <td>0.7343</td>\n",
       "    </tr>\n",
       "    <tr>\n",
       "      <th>CV_mean</th>\n",
       "      <td>0.6885</td>\n",
       "      <td>0.7243</td>\n",
       "      <td>0.7267</td>\n",
       "      <td>0.7311</td>\n",
       "      <td>0.7296</td>\n",
       "      <td>0.7333</td>\n",
       "    </tr>\n",
       "    <tr>\n",
       "      <th>CV_std</th>\n",
       "      <td>0.0108</td>\n",
       "      <td>0.0064</td>\n",
       "      <td>0.0058</td>\n",
       "      <td>0.0057</td>\n",
       "      <td>0.006</td>\n",
       "      <td>0.0061</td>\n",
       "    </tr>\n",
       "    <tr>\n",
       "      <th>ROC_AUC</th>\n",
       "      <td>0.6892</td>\n",
       "      <td>0.7248</td>\n",
       "      <td>0.7315</td>\n",
       "      <td>0.734</td>\n",
       "      <td>0.7367</td>\n",
       "      <td>0.7374</td>\n",
       "    </tr>\n",
       "    <tr>\n",
       "      <th>Parameters</th>\n",
       "      <td>None</td>\n",
       "      <td>metric : manhattan,n_neighbors : 29,weights : uniform</td>\n",
       "      <td>penalty: l2,C: 0.25</td>\n",
       "      <td>C: 0.7,gamma: 0.5</td>\n",
       "      <td>criterion : entropy,max_depth : 10,max_features : sqrt,n_estimators : 30</td>\n",
       "      <td>learning_rate: 0.06,loss: deviance,max_depth: 4,n_estimators: 110,subsample: 0.5</td>\n",
       "    </tr>\n",
       "  </tbody>\n",
       "</table>\n",
       "</div>"
      ],
      "text/plain": [
       "           Gussain                                                    KNN  \\\n",
       "Metrics                                                                     \n",
       "Accuracy    0.6874                                                 0.7307   \n",
       "Precision   0.7367                                                 0.7592   \n",
       "Recall      0.6034                                                 0.6919   \n",
       "F1-Score    0.6634                                                  0.724   \n",
       "CV_mean     0.6885                                                 0.7243   \n",
       "CV_std      0.0108                                                 0.0064   \n",
       "ROC_AUC     0.6892                                                 0.7248   \n",
       "Parameters    None  metric : manhattan,n_neighbors : 29,weights : uniform   \n",
       "\n",
       "                     SVM_Linear            SVM_RBF  \\\n",
       "Metrics                                              \n",
       "Accuracy                 0.7307             0.7329   \n",
       "Precision                0.7592             0.7688   \n",
       "Recall                   0.6919             0.6819   \n",
       "F1-Score                  0.724             0.7228   \n",
       "CV_mean                  0.7267             0.7311   \n",
       "CV_std                   0.0058             0.0057   \n",
       "ROC_AUC                  0.7315              0.734   \n",
       "Parameters  penalty: l2,C: 0.25  C: 0.7,gamma: 0.5   \n",
       "\n",
       "                                                                                  RF  \\\n",
       "Metrics                                                                                \n",
       "Accuracy                                                                      0.7356   \n",
       "Precision                                                                     0.7717   \n",
       "Recall                                                                        0.6847   \n",
       "F1-Score                                                                      0.7256   \n",
       "CV_mean                                                                       0.7296   \n",
       "CV_std                                                                         0.006   \n",
       "ROC_AUC                                                                       0.7367   \n",
       "Parameters  criterion : entropy,max_depth : 10,max_features : sqrt,n_estimators : 30   \n",
       "\n",
       "                                                                                         GBM  \n",
       "Metrics                                                                                       \n",
       "Accuracy                                                                              0.7369  \n",
       "Precision                                                                             0.7579  \n",
       "Recall                                                                                 0.712  \n",
       "F1-Score                                                                              0.7343  \n",
       "CV_mean                                                                               0.7333  \n",
       "CV_std                                                                                0.0061  \n",
       "ROC_AUC                                                                               0.7374  \n",
       "Parameters  learning_rate: 0.06,loss: deviance,max_depth: 4,n_estimators: 110,subsample: 0.5  "
      ]
     },
     "execution_count": 592,
     "metadata": {},
     "output_type": "execute_result"
    }
   ],
   "source": [
    "model_performance"
   ]
  },
  {
   "cell_type": "markdown",
   "metadata": {},
   "source": [
    "#### Interpretation"
   ]
  },
  {
   "cell_type": "markdown",
   "metadata": {},
   "source": [
    "- **We have used Confusion Matrix to gain a comprehensive understanding of model performance. It gives direct comparisons of values like True Positives, False Positives, True Negatives and False Negatives.**\n",
    "    - In this disease prediction case, we have a balanced training dataset given that Disease = 1 and Disease = 0 accounts for around 50% of the cases respectively. This means that looking at Accuracy score is a fair way to evaluate model performance. Although GBM has the highest accuract score(0.7369), here all models have very close accuracy scores so we can't really tell them apart. \n",
    "    - Therefore, we need to also look at the recall score given that doctors want to correctly diagnosed people with disease as having disease as much as possible in reality. We see that GBM has the highest Recall (0.712) while the recall of other models are below 0.7. Addtionaly, GBM have the highest F1-score(0.7256). \n",
    "    - Till now, we can carefully conclude that GBM has the best model performance under the confusion matrix evluation method.\n",
    "- **We have used cross-validation to help us in identifying a case of overfitting.**\n",
    "    - Cross validation is to build an estimator against different cross sections of your data to gain an aggregate understanding of performance across all sections. It estimate the model’s predictive performance on unseen data by repeating the experiment multiple times and using all the different parts of the training set as validation sets. This gives a more accurate indication of how well the model generalizes to unseen data.\n",
    "    - All our models seems to have unbasied and low variance performance with a cross validation mean accuracy of around 0.7 and a cross validation standard deviation of around 0.006. \n",
    "    - GBM algorithm has the highest mean accuracy of 0.7333\n",
    "- **We haved used ROC curve and AUC score to compare the usefulness of our models.**\n",
    "    - ROC curves are frequently used to show in a graphical way the connection/trade-off between clinical sensitivity and specificity for every possible cut-off for a test or a combination of tests. As for AUV, AUC is a measure of the usefulness of a test in general, where a greater area means a more useful test, the areas under ROC curves are used to compare the usefulness of tests.\n",
    "    - GBM has the highest ROC_AUC score 0.7374, closely followed by that of RF 0.7367.\n",
    "- **Overall, we can conculde that the GBM model has the higest performance among all algorithms.**"
   ]
  }
 ],
 "metadata": {
  "kernelspec": {
   "display_name": "Python 3",
   "language": "python",
   "name": "python3"
  },
  "language_info": {
   "codemirror_mode": {
    "name": "ipython",
    "version": 3
   },
   "file_extension": ".py",
   "mimetype": "text/x-python",
   "name": "python",
   "nbconvert_exporter": "python",
   "pygments_lexer": "ipython3",
   "version": "3.7.4"
  }
 },
 "nbformat": 4,
 "nbformat_minor": 4
}
